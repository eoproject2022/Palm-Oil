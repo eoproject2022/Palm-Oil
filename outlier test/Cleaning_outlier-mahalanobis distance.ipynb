{
 "cells": [
  {
   "cell_type": "code",
   "execution_count": 1,
   "id": "82c4a072",
   "metadata": {},
   "outputs": [],
   "source": [
    "import pandas as pd\n",
    "import numpy as np\n",
    "from scipy.stats import chi2\n",
    "from matplotlib import patches\n",
    "import matplotlib.pyplot as plt\n",
    "import seaborn as sns\n",
    "import scipy as stats"
   ]
  },
  {
   "cell_type": "code",
   "execution_count": 3,
   "id": "0cef31d3",
   "metadata": {},
   "outputs": [
    {
     "data": {
      "text/html": [
       "<div>\n",
       "<style scoped>\n",
       "    .dataframe tbody tr th:only-of-type {\n",
       "        vertical-align: middle;\n",
       "    }\n",
       "\n",
       "    .dataframe tbody tr th {\n",
       "        vertical-align: top;\n",
       "    }\n",
       "\n",
       "    .dataframe thead th {\n",
       "        text-align: right;\n",
       "    }\n",
       "</style>\n",
       "<table border=\"1\" class=\"dataframe\">\n",
       "  <thead>\n",
       "    <tr style=\"text-align: right;\">\n",
       "      <th></th>\n",
       "      <th>id</th>\n",
       "      <th>poly_id</th>\n",
       "      <th>point_id</th>\n",
       "      <th>id_2</th>\n",
       "      <th>BD1</th>\n",
       "      <th>BD2</th>\n",
       "      <th>BD3</th>\n",
       "      <th>BD4</th>\n",
       "      <th>BD5</th>\n",
       "      <th>BD6</th>\n",
       "      <th>BD7</th>\n",
       "      <th>BD8</th>\n",
       "      <th>BD9</th>\n",
       "      <th>BD10</th>\n",
       "    </tr>\n",
       "  </thead>\n",
       "  <tbody>\n",
       "    <tr>\n",
       "      <th>0</th>\n",
       "      <td>0</td>\n",
       "      <td>0</td>\n",
       "      <td>0</td>\n",
       "      <td>3.0</td>\n",
       "      <td>297</td>\n",
       "      <td>557</td>\n",
       "      <td>364</td>\n",
       "      <td>989</td>\n",
       "      <td>2630</td>\n",
       "      <td>3139</td>\n",
       "      <td>3300</td>\n",
       "      <td>3485</td>\n",
       "      <td>1859</td>\n",
       "      <td>874</td>\n",
       "    </tr>\n",
       "    <tr>\n",
       "      <th>1</th>\n",
       "      <td>1</td>\n",
       "      <td>0</td>\n",
       "      <td>1</td>\n",
       "      <td>3.0</td>\n",
       "      <td>268</td>\n",
       "      <td>512</td>\n",
       "      <td>270</td>\n",
       "      <td>954</td>\n",
       "      <td>2831</td>\n",
       "      <td>3417</td>\n",
       "      <td>3609</td>\n",
       "      <td>3669</td>\n",
       "      <td>1809</td>\n",
       "      <td>834</td>\n",
       "    </tr>\n",
       "    <tr>\n",
       "      <th>2</th>\n",
       "      <td>2</td>\n",
       "      <td>0</td>\n",
       "      <td>2</td>\n",
       "      <td>3.0</td>\n",
       "      <td>297</td>\n",
       "      <td>568</td>\n",
       "      <td>312</td>\n",
       "      <td>954</td>\n",
       "      <td>2831</td>\n",
       "      <td>3417</td>\n",
       "      <td>3683</td>\n",
       "      <td>3669</td>\n",
       "      <td>1809</td>\n",
       "      <td>834</td>\n",
       "    </tr>\n",
       "    <tr>\n",
       "      <th>3</th>\n",
       "      <td>3</td>\n",
       "      <td>0</td>\n",
       "      <td>3</td>\n",
       "      <td>3.0</td>\n",
       "      <td>345</td>\n",
       "      <td>590</td>\n",
       "      <td>351</td>\n",
       "      <td>989</td>\n",
       "      <td>2630</td>\n",
       "      <td>3139</td>\n",
       "      <td>3199</td>\n",
       "      <td>3485</td>\n",
       "      <td>1859</td>\n",
       "      <td>874</td>\n",
       "    </tr>\n",
       "    <tr>\n",
       "      <th>4</th>\n",
       "      <td>4</td>\n",
       "      <td>0</td>\n",
       "      <td>4</td>\n",
       "      <td>3.0</td>\n",
       "      <td>298</td>\n",
       "      <td>525</td>\n",
       "      <td>305</td>\n",
       "      <td>948</td>\n",
       "      <td>2922</td>\n",
       "      <td>3559</td>\n",
       "      <td>3716</td>\n",
       "      <td>3999</td>\n",
       "      <td>1884</td>\n",
       "      <td>840</td>\n",
       "    </tr>\n",
       "  </tbody>\n",
       "</table>\n",
       "</div>"
      ],
      "text/plain": [
       "   id  poly_id  point_id  id_2  BD1  BD2  BD3  BD4   BD5   BD6   BD7   BD8  \\\n",
       "0   0        0         0   3.0  297  557  364  989  2630  3139  3300  3485   \n",
       "1   1        0         1   3.0  268  512  270  954  2831  3417  3609  3669   \n",
       "2   2        0         2   3.0  297  568  312  954  2831  3417  3683  3669   \n",
       "3   3        0         3   3.0  345  590  351  989  2630  3139  3199  3485   \n",
       "4   4        0         4   3.0  298  525  305  948  2922  3559  3716  3999   \n",
       "\n",
       "    BD9  BD10  \n",
       "0  1859   874  \n",
       "1  1809   834  \n",
       "2  1809   834  \n",
       "3  1859   874  \n",
       "4  1884   840  "
      ]
     },
     "execution_count": 3,
     "metadata": {},
     "output_type": "execute_result"
    }
   ],
   "source": [
    "# Import dataset and clean it\n",
    "df= pd.read_csv('C:/Users/Administrator/Desktop/Sentinel Hulu Perak/sentinel Hulu Perak Mac 2019/Sampel hulu perak/HuluPerak_training.csv', sep=\",\", decimal='.' )\n",
    "df.head()"
   ]
  },
  {
   "cell_type": "code",
   "execution_count": 4,
   "id": "ec748376",
   "metadata": {},
   "outputs": [
    {
     "data": {
      "text/html": [
       "<div>\n",
       "<style scoped>\n",
       "    .dataframe tbody tr th:only-of-type {\n",
       "        vertical-align: middle;\n",
       "    }\n",
       "\n",
       "    .dataframe tbody tr th {\n",
       "        vertical-align: top;\n",
       "    }\n",
       "\n",
       "    .dataframe thead th {\n",
       "        text-align: right;\n",
       "    }\n",
       "</style>\n",
       "<table border=\"1\" class=\"dataframe\">\n",
       "  <thead>\n",
       "    <tr style=\"text-align: right;\">\n",
       "      <th></th>\n",
       "      <th>Class_name</th>\n",
       "      <th>Class_id</th>\n",
       "      <th>BD1</th>\n",
       "      <th>BD2</th>\n",
       "      <th>BD3</th>\n",
       "      <th>BD4</th>\n",
       "      <th>BD5</th>\n",
       "      <th>BD6</th>\n",
       "      <th>BD7</th>\n",
       "      <th>BD8</th>\n",
       "      <th>BD9</th>\n",
       "      <th>BD10</th>\n",
       "    </tr>\n",
       "  </thead>\n",
       "  <tbody>\n",
       "    <tr>\n",
       "      <th>0</th>\n",
       "      <td>Rubber</td>\n",
       "      <td>3.0</td>\n",
       "      <td>297</td>\n",
       "      <td>557</td>\n",
       "      <td>364</td>\n",
       "      <td>989</td>\n",
       "      <td>2630</td>\n",
       "      <td>3139</td>\n",
       "      <td>3300</td>\n",
       "      <td>3485</td>\n",
       "      <td>1859</td>\n",
       "      <td>874</td>\n",
       "    </tr>\n",
       "    <tr>\n",
       "      <th>1</th>\n",
       "      <td>Rubber</td>\n",
       "      <td>3.0</td>\n",
       "      <td>268</td>\n",
       "      <td>512</td>\n",
       "      <td>270</td>\n",
       "      <td>954</td>\n",
       "      <td>2831</td>\n",
       "      <td>3417</td>\n",
       "      <td>3609</td>\n",
       "      <td>3669</td>\n",
       "      <td>1809</td>\n",
       "      <td>834</td>\n",
       "    </tr>\n",
       "    <tr>\n",
       "      <th>2</th>\n",
       "      <td>Rubber</td>\n",
       "      <td>3.0</td>\n",
       "      <td>297</td>\n",
       "      <td>568</td>\n",
       "      <td>312</td>\n",
       "      <td>954</td>\n",
       "      <td>2831</td>\n",
       "      <td>3417</td>\n",
       "      <td>3683</td>\n",
       "      <td>3669</td>\n",
       "      <td>1809</td>\n",
       "      <td>834</td>\n",
       "    </tr>\n",
       "    <tr>\n",
       "      <th>3</th>\n",
       "      <td>Rubber</td>\n",
       "      <td>3.0</td>\n",
       "      <td>345</td>\n",
       "      <td>590</td>\n",
       "      <td>351</td>\n",
       "      <td>989</td>\n",
       "      <td>2630</td>\n",
       "      <td>3139</td>\n",
       "      <td>3199</td>\n",
       "      <td>3485</td>\n",
       "      <td>1859</td>\n",
       "      <td>874</td>\n",
       "    </tr>\n",
       "    <tr>\n",
       "      <th>4</th>\n",
       "      <td>Rubber</td>\n",
       "      <td>3.0</td>\n",
       "      <td>298</td>\n",
       "      <td>525</td>\n",
       "      <td>305</td>\n",
       "      <td>948</td>\n",
       "      <td>2922</td>\n",
       "      <td>3559</td>\n",
       "      <td>3716</td>\n",
       "      <td>3999</td>\n",
       "      <td>1884</td>\n",
       "      <td>840</td>\n",
       "    </tr>\n",
       "  </tbody>\n",
       "</table>\n",
       "</div>"
      ],
      "text/plain": [
       "  Class_name  Class_id  BD1  BD2  BD3  BD4   BD5   BD6   BD7   BD8   BD9  BD10\n",
       "0     Rubber       3.0  297  557  364  989  2630  3139  3300  3485  1859   874\n",
       "1     Rubber       3.0  268  512  270  954  2831  3417  3609  3669  1809   834\n",
       "2     Rubber       3.0  297  568  312  954  2831  3417  3683  3669  1809   834\n",
       "3     Rubber       3.0  345  590  351  989  2630  3139  3199  3485  1859   874\n",
       "4     Rubber       3.0  298  525  305  948  2922  3559  3716  3999  1884   840"
      ]
     },
     "execution_count": 4,
     "metadata": {},
     "output_type": "execute_result"
    }
   ],
   "source": [
    "filters = [(df.id_2 == 1), (df.id_2 == 2), (df.id_2 == 3),(df.id_2 == 4),\n",
    "           (df.id_2 == 5), (df.id_2 == 6), (df.id_2 == 7)]\n",
    "\n",
    "values = [\"Water Body\", \"Build up Area\", \"Rubber\", \"Palm Oil\", \"Other vegetation\", \"Forest\", \"Bare Land\"]   \n",
    "\n",
    "df [\"Class_name\"] = np.select(filters, values)\n",
    "df.drop(['id','poly_id','point_id'],axis=1, inplace=True)\n",
    "df.rename(columns= {'id_2': 'Class_id'}, inplace=True)\n",
    "df=df[['Class_name','Class_id','BD1', 'BD2', 'BD3', 'BD4', 'BD5', 'BD6', 'BD7', 'BD8', 'BD9', 'BD10']]\n",
    "df.head()"
   ]
  },
  {
   "cell_type": "code",
   "execution_count": 5,
   "id": "4cc44387",
   "metadata": {
    "scrolled": false
   },
   "outputs": [
    {
     "name": "stdout",
     "output_type": "stream",
     "text": [
      "Class_name     0\n",
      "Class_id      19\n",
      "BD1            0\n",
      "BD2            0\n",
      "BD3            0\n",
      "BD4            0\n",
      "BD5            0\n",
      "BD6            0\n",
      "BD7            0\n",
      "BD8            0\n",
      "BD9            0\n",
      "BD10           0\n",
      "dtype: int64\n"
     ]
    }
   ],
   "source": [
    "print(df.isnull().sum())"
   ]
  },
  {
   "cell_type": "code",
   "execution_count": 6,
   "id": "8e15c5dc",
   "metadata": {},
   "outputs": [],
   "source": [
    "dfclass1 = df[(df.Class_id == 1)]\n",
    "dfclass2 = df[(df.Class_id == 2)]\n",
    "dfclass3 = df[(df.Class_id == 3)]\n",
    "dfclass4 = df[(df.Class_id == 4)]\n",
    "dfclass5 = df[(df.Class_id == 5)]\n",
    "dfclass6 = df[(df.Class_id == 6)]\n",
    "dfclass7 = df[(df.Class_id == 7)]"
   ]
  },
  {
   "cell_type": "code",
   "execution_count": 7,
   "id": "3769dbde",
   "metadata": {
    "scrolled": true
   },
   "outputs": [
    {
     "data": {
      "text/plain": [
       "<AxesSubplot:>"
      ]
     },
     "execution_count": 7,
     "metadata": {},
     "output_type": "execute_result"
    },
    {
     "data": {
      "image/png": "[encoded data removed]",
      "text/plain": [
       "<Figure size 432x288 with 1 Axes>"
      ]
     },
     "metadata": {
      "needs_background": "light"
     },
     "output_type": "display_data"
    }
   ],
   "source": [
    "dfclass1.boxplot(column= ['BD1', 'BD2', 'BD3', 'BD4', 'BD5', 'BD6', 'BD7', 'BD8', 'BD9', 'BD10'])"
   ]
  },
  {
   "cell_type": "code",
   "execution_count": 21,
   "id": "f9b4cf90",
   "metadata": {},
   "outputs": [
    {
     "name": "stderr",
     "output_type": "stream",
     "text": [
      "C:\\Users\\Administrator\\AppData\\Local\\Temp\\ipykernel_12744\\3081947825.py:1: SettingWithCopyWarning: \n",
      "A value is trying to be set on a copy of a slice from a DataFrame\n",
      "\n",
      "See the caveats in the documentation: https://pandas.pydata.org/pandas-docs/stable/user_guide/indexing.html#returning-a-view-versus-a-copy\n",
      "  dfclass4.drop(['Class_name'],axis=1, inplace=True)\n"
     ]
    },
    {
     "data": {
      "text/html": [
       "<div>\n",
       "<style scoped>\n",
       "    .dataframe tbody tr th:only-of-type {\n",
       "        vertical-align: middle;\n",
       "    }\n",
       "\n",
       "    .dataframe tbody tr th {\n",
       "        vertical-align: top;\n",
       "    }\n",
       "\n",
       "    .dataframe thead th {\n",
       "        text-align: right;\n",
       "    }\n",
       "</style>\n",
       "<table border=\"1\" class=\"dataframe\">\n",
       "  <thead>\n",
       "    <tr style=\"text-align: right;\">\n",
       "      <th></th>\n",
       "      <th>Class_id</th>\n",
       "      <th>BD1</th>\n",
       "      <th>BD2</th>\n",
       "      <th>BD3</th>\n",
       "      <th>BD4</th>\n",
       "      <th>BD5</th>\n",
       "      <th>BD6</th>\n",
       "      <th>BD7</th>\n",
       "      <th>BD8</th>\n",
       "      <th>BD9</th>\n",
       "      <th>BD10</th>\n",
       "    </tr>\n",
       "  </thead>\n",
       "  <tbody>\n",
       "    <tr>\n",
       "      <th>14848</th>\n",
       "      <td>4.0</td>\n",
       "      <td>370</td>\n",
       "      <td>651</td>\n",
       "      <td>409</td>\n",
       "      <td>1080</td>\n",
       "      <td>3033</td>\n",
       "      <td>3802</td>\n",
       "      <td>3950</td>\n",
       "      <td>4160</td>\n",
       "      <td>1966</td>\n",
       "      <td>844</td>\n",
       "    </tr>\n",
       "    <tr>\n",
       "      <th>14849</th>\n",
       "      <td>4.0</td>\n",
       "      <td>359</td>\n",
       "      <td>664</td>\n",
       "      <td>425</td>\n",
       "      <td>1048</td>\n",
       "      <td>3036</td>\n",
       "      <td>3647</td>\n",
       "      <td>3739</td>\n",
       "      <td>3896</td>\n",
       "      <td>1952</td>\n",
       "      <td>853</td>\n",
       "    </tr>\n",
       "    <tr>\n",
       "      <th>14850</th>\n",
       "      <td>4.0</td>\n",
       "      <td>350</td>\n",
       "      <td>623</td>\n",
       "      <td>419</td>\n",
       "      <td>1048</td>\n",
       "      <td>3036</td>\n",
       "      <td>3647</td>\n",
       "      <td>3792</td>\n",
       "      <td>3896</td>\n",
       "      <td>1952</td>\n",
       "      <td>853</td>\n",
       "    </tr>\n",
       "    <tr>\n",
       "      <th>14851</th>\n",
       "      <td>4.0</td>\n",
       "      <td>353</td>\n",
       "      <td>636</td>\n",
       "      <td>368</td>\n",
       "      <td>1002</td>\n",
       "      <td>2949</td>\n",
       "      <td>3711</td>\n",
       "      <td>3815</td>\n",
       "      <td>3865</td>\n",
       "      <td>1864</td>\n",
       "      <td>774</td>\n",
       "    </tr>\n",
       "    <tr>\n",
       "      <th>14852</th>\n",
       "      <td>4.0</td>\n",
       "      <td>353</td>\n",
       "      <td>611</td>\n",
       "      <td>380</td>\n",
       "      <td>1042</td>\n",
       "      <td>2991</td>\n",
       "      <td>3734</td>\n",
       "      <td>3835</td>\n",
       "      <td>4033</td>\n",
       "      <td>2037</td>\n",
       "      <td>913</td>\n",
       "    </tr>\n",
       "    <tr>\n",
       "      <th>...</th>\n",
       "      <td>...</td>\n",
       "      <td>...</td>\n",
       "      <td>...</td>\n",
       "      <td>...</td>\n",
       "      <td>...</td>\n",
       "      <td>...</td>\n",
       "      <td>...</td>\n",
       "      <td>...</td>\n",
       "      <td>...</td>\n",
       "      <td>...</td>\n",
       "      <td>...</td>\n",
       "    </tr>\n",
       "    <tr>\n",
       "      <th>18209</th>\n",
       "      <td>4.0</td>\n",
       "      <td>420</td>\n",
       "      <td>674</td>\n",
       "      <td>460</td>\n",
       "      <td>1187</td>\n",
       "      <td>2995</td>\n",
       "      <td>3704</td>\n",
       "      <td>3664</td>\n",
       "      <td>3990</td>\n",
       "      <td>2131</td>\n",
       "      <td>958</td>\n",
       "    </tr>\n",
       "    <tr>\n",
       "      <th>18210</th>\n",
       "      <td>4.0</td>\n",
       "      <td>452</td>\n",
       "      <td>688</td>\n",
       "      <td>491</td>\n",
       "      <td>1187</td>\n",
       "      <td>2995</td>\n",
       "      <td>3704</td>\n",
       "      <td>3550</td>\n",
       "      <td>3990</td>\n",
       "      <td>2131</td>\n",
       "      <td>958</td>\n",
       "    </tr>\n",
       "    <tr>\n",
       "      <th>18211</th>\n",
       "      <td>4.0</td>\n",
       "      <td>451</td>\n",
       "      <td>755</td>\n",
       "      <td>523</td>\n",
       "      <td>1160</td>\n",
       "      <td>3073</td>\n",
       "      <td>3707</td>\n",
       "      <td>3799</td>\n",
       "      <td>4062</td>\n",
       "      <td>2188</td>\n",
       "      <td>983</td>\n",
       "    </tr>\n",
       "    <tr>\n",
       "      <th>18212</th>\n",
       "      <td>4.0</td>\n",
       "      <td>495</td>\n",
       "      <td>764</td>\n",
       "      <td>557</td>\n",
       "      <td>1187</td>\n",
       "      <td>2995</td>\n",
       "      <td>3704</td>\n",
       "      <td>3704</td>\n",
       "      <td>3990</td>\n",
       "      <td>2131</td>\n",
       "      <td>958</td>\n",
       "    </tr>\n",
       "    <tr>\n",
       "      <th>18213</th>\n",
       "      <td>4.0</td>\n",
       "      <td>475</td>\n",
       "      <td>814</td>\n",
       "      <td>572</td>\n",
       "      <td>1320</td>\n",
       "      <td>3148</td>\n",
       "      <td>3862</td>\n",
       "      <td>3837</td>\n",
       "      <td>4094</td>\n",
       "      <td>2248</td>\n",
       "      <td>1037</td>\n",
       "    </tr>\n",
       "  </tbody>\n",
       "</table>\n",
       "<p>2495 rows × 11 columns</p>\n",
       "</div>"
      ],
      "text/plain": [
       "       Class_id  BD1  BD2  BD3   BD4   BD5   BD6   BD7   BD8   BD9  BD10\n",
       "14848       4.0  370  651  409  1080  3033  3802  3950  4160  1966   844\n",
       "14849       4.0  359  664  425  1048  3036  3647  3739  3896  1952   853\n",
       "14850       4.0  350  623  419  1048  3036  3647  3792  3896  1952   853\n",
       "14851       4.0  353  636  368  1002  2949  3711  3815  3865  1864   774\n",
       "14852       4.0  353  611  380  1042  2991  3734  3835  4033  2037   913\n",
       "...         ...  ...  ...  ...   ...   ...   ...   ...   ...   ...   ...\n",
       "18209       4.0  420  674  460  1187  2995  3704  3664  3990  2131   958\n",
       "18210       4.0  452  688  491  1187  2995  3704  3550  3990  2131   958\n",
       "18211       4.0  451  755  523  1160  3073  3707  3799  4062  2188   983\n",
       "18212       4.0  495  764  557  1187  2995  3704  3704  3990  2131   958\n",
       "18213       4.0  475  814  572  1320  3148  3862  3837  4094  2248  1037\n",
       "\n",
       "[2495 rows x 11 columns]"
      ]
     },
     "execution_count": 21,
     "metadata": {},
     "output_type": "execute_result"
    }
   ],
   "source": [
    "dfclass4.drop(['Class_name'],axis=1, inplace=True)\n",
    "dfclass4\n"
   ]
  },
  {
   "cell_type": "code",
   "execution_count": 23,
   "id": "1b6b2750",
   "metadata": {
    "scrolled": true
   },
   "outputs": [
    {
     "data": {
      "text/plain": [
       "Class_id    int32\n",
       "BD1         int64\n",
       "BD2         int64\n",
       "BD3         int64\n",
       "BD4         int64\n",
       "BD5         int64\n",
       "BD6         int64\n",
       "BD7         int64\n",
       "BD8         int64\n",
       "BD9         int64\n",
       "BD10        int64\n",
       "dtype: object"
      ]
     },
     "metadata": {},
     "output_type": "display_data"
    }
   ],
   "source": [
    "dfclass4=dfclass4.astype ({\"Class_id\": 'int'})\n",
    "display(dfclass4.dtypes)"
   ]
  },
  {
   "cell_type": "code",
   "execution_count": 26,
   "id": "6789a3ea",
   "metadata": {},
   "outputs": [],
   "source": [
    "#convert pd to numpy array\n",
    "ndarray = dfclass4.to_numpy()"
   ]
  },
  {
   "cell_type": "code",
   "execution_count": 28,
   "id": "21219b81",
   "metadata": {},
   "outputs": [
    {
     "data": {
      "text/plain": [
       "array([[   4,  370,  651, ..., 4160, 1966,  844],\n",
       "       [   4,  359,  664, ..., 3896, 1952,  853],\n",
       "       [   4,  350,  623, ..., 3896, 1952,  853],\n",
       "       ...,\n",
       "       [   4,  451,  755, ..., 4062, 2188,  983],\n",
       "       [   4,  495,  764, ..., 3990, 2131,  958],\n",
       "       [   4,  475,  814, ..., 4094, 2248, 1037]], dtype=int64)"
      ]
     },
     "execution_count": 28,
     "metadata": {},
     "output_type": "execute_result"
    }
   ],
   "source": [
    "ndarray"
   ]
  },
  {
   "cell_type": "code",
   "execution_count": 29,
   "id": "d7f1bff7",
   "metadata": {},
   "outputs": [],
   "source": [
    "#To determine its pseudo-inverse, let us first obtain its Singular Value Decomposition\n",
    "U,d,VT = np.linalg.svd(dfclass4)"
   ]
  },
  {
   "cell_type": "code",
   "execution_count": 31,
   "id": "4fd97e26",
   "metadata": {},
   "outputs": [
    {
     "data": {
      "text/plain": [
       "array([[ 2.11990023e-02, -1.24844563e-02, -7.87300526e-04, ...,\n",
       "        -2.06693560e-02, -2.02292328e-02, -1.93900777e-02],\n",
       "       [ 2.03699956e-02, -1.03795738e-02, -1.37835636e-02, ...,\n",
       "         3.26531244e-03,  1.02699908e-02,  7.90860801e-03],\n",
       "       [ 2.04237996e-02, -1.06928271e-02, -8.59398741e-03, ...,\n",
       "        -9.55584862e-03,  9.04006845e-03, -2.04106407e-02],\n",
       "       ...,\n",
       "       [ 2.11413701e-02, -6.81289910e-03, -1.65772138e-02, ...,\n",
       "         9.97023680e-01, -2.86817151e-03, -2.76372674e-03],\n",
       "       [ 2.08093033e-02, -6.52947427e-03, -2.50334575e-02, ...,\n",
       "        -2.89134237e-03,  9.95359301e-01, -4.70644677e-03],\n",
       "       [ 2.16709118e-02, -5.70392765e-03, -3.41899941e-02, ...,\n",
       "        -2.82212255e-03, -4.68845435e-03,  9.93677254e-01]])"
      ]
     },
     "execution_count": 31,
     "metadata": {},
     "output_type": "execute_result"
    }
   ],
   "source": [
    "U"
   ]
  },
  {
   "cell_type": "code",
   "execution_count": 32,
   "id": "4c706ddc",
   "metadata": {},
   "outputs": [
    {
     "data": {
      "text/plain": [
       "array([3.72626584e+05, 6.32185871e+04, 6.49761862e+03, 4.89607649e+03,\n",
       "       4.15253630e+03, 2.36534270e+03, 1.94093317e+03, 1.81053697e+03,\n",
       "       1.37427959e+03, 9.54974961e+02, 8.66663576e+00])"
      ]
     },
     "execution_count": 32,
     "metadata": {},
     "output_type": "execute_result"
    }
   ],
   "source": [
    "d"
   ]
  },
  {
   "cell_type": "code",
   "execution_count": 33,
   "id": "bd8c12f9",
   "metadata": {},
   "outputs": [
    {
     "data": {
      "text/plain": [
       "array([[ 5.35381897e-04,  5.72594744e-02,  9.44909020e-02,\n",
       "         7.42771275e-02,  1.55512714e-01,  3.79459596e-01,\n",
       "         4.63576498e-01,  4.69507889e-01,  5.03687232e-01,\n",
       "         3.15047437e-01,  1.60639696e-01],\n",
       "       [-2.35527067e-05,  1.10127258e-01,  1.34481411e-01,\n",
       "         2.64783633e-01,  2.41862810e-01, -1.01119804e-01,\n",
       "        -2.30768015e-01, -2.20940434e-01, -2.18787386e-01,\n",
       "         6.21306424e-01,  5.43134777e-01],\n",
       "       [-5.36747908e-04, -1.82950306e-01, -4.00593250e-01,\n",
       "        -2.26334677e-01, -5.55684013e-01, -4.62496922e-01,\n",
       "         2.25740213e-02,  2.69641560e-01,  1.21716490e-01,\n",
       "         2.75054186e-01,  2.61634417e-01],\n",
       "       [-1.70989567e-04,  1.78721685e-01,  2.46565718e-01,\n",
       "         3.34386915e-01,  1.45848484e-02, -2.38769988e-01,\n",
       "        -2.21367805e-01,  7.43419636e-01, -3.03034037e-01,\n",
       "        -2.10845926e-01,  1.62280609e-02],\n",
       "       [-2.32990110e-04, -3.10217509e-01, -1.54181115e-01,\n",
       "        -5.73578993e-01,  3.23773055e-01,  3.26495835e-01,\n",
       "        -3.35726114e-01,  3.19916492e-01, -2.90311794e-01,\n",
       "         1.93360051e-01, -5.33311558e-02],\n",
       "       [-1.60384485e-03, -3.61664109e-01, -2.11326312e-01,\n",
       "         6.28996324e-02,  2.78431314e-01, -5.49618993e-02,\n",
       "         4.58749158e-01, -6.91479156e-03, -2.90522836e-01,\n",
       "        -4.21075282e-01,  5.17522950e-01],\n",
       "       [ 1.21237744e-03,  2.47904813e-01,  1.34140500e-01,\n",
       "        -1.97924705e-01, -1.27724546e-01, -6.36355109e-02,\n",
       "         5.88561867e-01, -7.88566395e-04, -5.82052273e-01,\n",
       "         3.10470230e-01, -2.81830672e-01],\n",
       "       [-1.51507252e-03, -7.39126107e-02,  1.36086535e-02,\n",
       "         2.09216504e-01, -6.16559309e-01,  6.62434737e-01,\n",
       "        -9.46048554e-02, -1.40684247e-02, -2.67859671e-01,\n",
       "        -5.62675928e-02,  2.18059354e-01],\n",
       "       [-1.05545802e-03, -7.12430552e-01,  2.02429149e-02,\n",
       "         4.79676241e-01,  1.57975918e-02, -6.69961486e-02,\n",
       "         5.80207780e-02,  1.10304141e-02, -4.98198343e-02,\n",
       "         2.74797255e-01, -4.19190705e-01],\n",
       "       [-2.38379609e-04, -3.43022033e-01,  8.15289563e-01,\n",
       "        -3.39625618e-01, -1.71052083e-01, -1.33762417e-01,\n",
       "         2.10978257e-02, -5.15145480e-02,  1.00430683e-01,\n",
       "        -6.96279299e-02,  1.92636340e-01],\n",
       "       [-9.99995916e-01,  1.99428658e-03,  5.21435027e-04,\n",
       "        -8.51664185e-04,  6.54720013e-04, -4.71502062e-04,\n",
       "         4.12445335e-04, -5.77276150e-05,  5.23700021e-04,\n",
       "         8.60964398e-04, -1.16314417e-03]])"
      ]
     },
     "execution_count": 33,
     "metadata": {},
     "output_type": "execute_result"
    }
   ],
   "source": [
    "VT"
   ]
  },
  {
   "cell_type": "code",
   "execution_count": 35,
   "id": "ed7af76e",
   "metadata": {},
   "outputs": [
    {
     "data": {
      "text/plain": [
       "array([[3.72626584e+05, 0.00000000e+00, 0.00000000e+00, 0.00000000e+00,\n",
       "        0.00000000e+00, 0.00000000e+00, 0.00000000e+00, 0.00000000e+00,\n",
       "        0.00000000e+00, 0.00000000e+00, 0.00000000e+00],\n",
       "       [0.00000000e+00, 6.32185871e+04, 0.00000000e+00, 0.00000000e+00,\n",
       "        0.00000000e+00, 0.00000000e+00, 0.00000000e+00, 0.00000000e+00,\n",
       "        0.00000000e+00, 0.00000000e+00, 0.00000000e+00],\n",
       "       [0.00000000e+00, 0.00000000e+00, 6.49761862e+03, 0.00000000e+00,\n",
       "        0.00000000e+00, 0.00000000e+00, 0.00000000e+00, 0.00000000e+00,\n",
       "        0.00000000e+00, 0.00000000e+00, 0.00000000e+00],\n",
       "       [0.00000000e+00, 0.00000000e+00, 0.00000000e+00, 4.89607649e+03,\n",
       "        0.00000000e+00, 0.00000000e+00, 0.00000000e+00, 0.00000000e+00,\n",
       "        0.00000000e+00, 0.00000000e+00, 0.00000000e+00],\n",
       "       [0.00000000e+00, 0.00000000e+00, 0.00000000e+00, 0.00000000e+00,\n",
       "        4.15253630e+03, 0.00000000e+00, 0.00000000e+00, 0.00000000e+00,\n",
       "        0.00000000e+00, 0.00000000e+00, 0.00000000e+00],\n",
       "       [0.00000000e+00, 0.00000000e+00, 0.00000000e+00, 0.00000000e+00,\n",
       "        0.00000000e+00, 2.36534270e+03, 0.00000000e+00, 0.00000000e+00,\n",
       "        0.00000000e+00, 0.00000000e+00, 0.00000000e+00],\n",
       "       [0.00000000e+00, 0.00000000e+00, 0.00000000e+00, 0.00000000e+00,\n",
       "        0.00000000e+00, 0.00000000e+00, 1.94093317e+03, 0.00000000e+00,\n",
       "        0.00000000e+00, 0.00000000e+00, 0.00000000e+00],\n",
       "       [0.00000000e+00, 0.00000000e+00, 0.00000000e+00, 0.00000000e+00,\n",
       "        0.00000000e+00, 0.00000000e+00, 0.00000000e+00, 1.81053697e+03,\n",
       "        0.00000000e+00, 0.00000000e+00, 0.00000000e+00],\n",
       "       [0.00000000e+00, 0.00000000e+00, 0.00000000e+00, 0.00000000e+00,\n",
       "        0.00000000e+00, 0.00000000e+00, 0.00000000e+00, 0.00000000e+00,\n",
       "        1.37427959e+03, 0.00000000e+00, 0.00000000e+00],\n",
       "       [0.00000000e+00, 0.00000000e+00, 0.00000000e+00, 0.00000000e+00,\n",
       "        0.00000000e+00, 0.00000000e+00, 0.00000000e+00, 0.00000000e+00,\n",
       "        0.00000000e+00, 9.54974961e+02, 0.00000000e+00],\n",
       "       [0.00000000e+00, 0.00000000e+00, 0.00000000e+00, 0.00000000e+00,\n",
       "        0.00000000e+00, 0.00000000e+00, 0.00000000e+00, 0.00000000e+00,\n",
       "        0.00000000e+00, 0.00000000e+00, 8.66663576e+00]])"
      ]
     },
     "execution_count": 35,
     "metadata": {},
     "output_type": "execute_result"
    }
   ],
   "source": [
    "#to compute A†, we require V and D† \n",
    "#To determine D†, we first create a diagonal matrix D using singular values \n",
    "\n",
    "D = np.diag(d)\n",
    "D"
   ]
  },
  {
   "cell_type": "code",
   "execution_count": 36,
   "id": "216af3aa",
   "metadata": {},
   "outputs": [
    {
     "data": {
      "text/plain": [
       "array([[2.68365179e-06, 0.00000000e+00, 0.00000000e+00, 0.00000000e+00,\n",
       "        0.00000000e+00, 0.00000000e+00, 0.00000000e+00, 0.00000000e+00,\n",
       "        0.00000000e+00, 0.00000000e+00, 0.00000000e+00],\n",
       "       [0.00000000e+00, 1.58181327e-05, 0.00000000e+00, 0.00000000e+00,\n",
       "        0.00000000e+00, 0.00000000e+00, 0.00000000e+00, 0.00000000e+00,\n",
       "        0.00000000e+00, 0.00000000e+00, 0.00000000e+00],\n",
       "       [0.00000000e+00, 0.00000000e+00, 1.53902539e-04, 0.00000000e+00,\n",
       "        0.00000000e+00, 0.00000000e+00, 0.00000000e+00, 0.00000000e+00,\n",
       "        0.00000000e+00, 0.00000000e+00, 0.00000000e+00],\n",
       "       [0.00000000e+00, 0.00000000e+00, 0.00000000e+00, 2.04245175e-04,\n",
       "        0.00000000e+00, 0.00000000e+00, 0.00000000e+00, 0.00000000e+00,\n",
       "        0.00000000e+00, 0.00000000e+00, 0.00000000e+00],\n",
       "       [0.00000000e+00, 0.00000000e+00, 0.00000000e+00, 0.00000000e+00,\n",
       "        2.40816679e-04, 0.00000000e+00, 0.00000000e+00, 0.00000000e+00,\n",
       "        0.00000000e+00, 0.00000000e+00, 0.00000000e+00],\n",
       "       [0.00000000e+00, 0.00000000e+00, 0.00000000e+00, 0.00000000e+00,\n",
       "        0.00000000e+00, 4.22771720e-04, 0.00000000e+00, 0.00000000e+00,\n",
       "        0.00000000e+00, 0.00000000e+00, 0.00000000e+00],\n",
       "       [0.00000000e+00, 0.00000000e+00, 0.00000000e+00, 0.00000000e+00,\n",
       "        0.00000000e+00, 0.00000000e+00, 5.15216092e-04, 0.00000000e+00,\n",
       "        0.00000000e+00, 0.00000000e+00, 0.00000000e+00],\n",
       "       [0.00000000e+00, 0.00000000e+00, 0.00000000e+00, 0.00000000e+00,\n",
       "        0.00000000e+00, 0.00000000e+00, 0.00000000e+00, 5.52322331e-04,\n",
       "        0.00000000e+00, 0.00000000e+00, 0.00000000e+00],\n",
       "       [0.00000000e+00, 0.00000000e+00, 0.00000000e+00, 0.00000000e+00,\n",
       "        0.00000000e+00, 0.00000000e+00, 0.00000000e+00, 0.00000000e+00,\n",
       "        7.27653972e-04, 0.00000000e+00, 0.00000000e+00],\n",
       "       [0.00000000e+00, 0.00000000e+00, 0.00000000e+00, 0.00000000e+00,\n",
       "        0.00000000e+00, 0.00000000e+00, 0.00000000e+00, 0.00000000e+00,\n",
       "        0.00000000e+00, 1.04714787e-03, 0.00000000e+00],\n",
       "       [0.00000000e+00, 0.00000000e+00, 0.00000000e+00, 0.00000000e+00,\n",
       "        0.00000000e+00, 0.00000000e+00, 0.00000000e+00, 0.00000000e+00,\n",
       "        0.00000000e+00, 0.00000000e+00, 1.15385027e-01]])"
      ]
     },
     "execution_count": 36,
     "metadata": {},
     "output_type": "execute_result"
    }
   ],
   "source": [
    "#The next thing is to take the reciprocal of all non-zero entries in this diagonal matrix. Note that we only take the reciprocal for non-zero entries.\n",
    "\n",
    "#From the linalg model, we use the inv() method to get the above matrix inverted automatically.\n",
    "\n",
    "D_inver = np.linalg.inv(D)\n",
    "D_inver"
   ]
  },
  {
   "cell_type": "code",
   "execution_count": 38,
   "id": "c3728d1c",
   "metadata": {},
   "outputs": [
    {
     "name": "stdout",
     "output_type": "stream",
     "text": [
      "Dimensions of D_inver (11, 11) != Dimensions of U (2495, 2495)\n"
     ]
    }
   ],
   "source": [
    "#To meet the law of matrix multiplication, we need to ensure the number of columns of D† matches the number of rows of U.\n",
    "#check dimensions\n",
    "print(\"Dimensions of D_inver \" + str(D_inver.shape)\n",
    "       +\" != \"+\"Dimensions of U \"+ str(U.shape))"
   ]
  },
  {
   "cell_type": "code",
   "execution_count": 39,
   "id": "1bbbb900",
   "metadata": {},
   "outputs": [
    {
     "ename": "ValueError",
     "evalue": "all the input array dimensions for the concatenation axis must match exactly, but along dimension 1, the array at index 0 has size 11 and the array at index 1 has size 2495",
     "output_type": "error",
     "traceback": [
      "\u001b[1;31m---------------------------------------------------------------------------\u001b[0m",
      "\u001b[1;31mValueError\u001b[0m                                Traceback (most recent call last)",
      "Input \u001b[1;32mIn [39]\u001b[0m, in \u001b[0;36m<cell line: 1>\u001b[1;34m()\u001b[0m\n\u001b[1;32m----> 1\u001b[0m Dplus \u001b[38;5;241m=\u001b[39m \u001b[43mnp\u001b[49m\u001b[38;5;241;43m.\u001b[39;49m\u001b[43mconcatenate\u001b[49m\u001b[43m(\u001b[49m\u001b[43m[\u001b[49m\u001b[43mD_inver\u001b[49m\u001b[43m,\u001b[49m\u001b[43mU\u001b[49m\u001b[43m]\u001b[49m\u001b[43m)\u001b[49m\n\u001b[0;32m      2\u001b[0m \u001b[38;5;28mprint\u001b[39m(Dplus)\n",
      "File \u001b[1;32m<__array_function__ internals>:5\u001b[0m, in \u001b[0;36mconcatenate\u001b[1;34m(*args, **kwargs)\u001b[0m\n",
      "\u001b[1;31mValueError\u001b[0m: all the input array dimensions for the concatenation axis must match exactly, but along dimension 1, the array at index 0 has size 11 and the array at index 1 has size 2495"
     ]
    }
   ],
   "source": [
    "Dplus = np.concatenate([D_inver,U])\n",
    "print(Dplus)"
   ]
  },
  {
   "cell_type": "code",
   "execution_count": null,
   "id": "1afaffbf",
   "metadata": {},
   "outputs": [],
   "source": []
  },
  {
   "cell_type": "code",
   "execution_count": 24,
   "id": "e4e37c1d",
   "metadata": {},
   "outputs": [],
   "source": [
    "#create function to calculate Mahalanobis distance\n",
    "def mahalanobis(x=None, data=None, cov=None):\n",
    "\n",
    "    x_mu = x - np.mean(data)\n",
    "    if not cov:\n",
    "        cov = np.cov(data.values.T)\n",
    "    inv_covmat = np.linalg.inv(cov)\n",
    "    left = np.dot(x_mu, inv_covmat)\n",
    "    mahal = np.dot(left, x_mu.T)\n",
    "    return mahal.diagonal()"
   ]
  },
  {
   "cell_type": "code",
   "execution_count": 25,
   "id": "3db8fe1a",
   "metadata": {},
   "outputs": [
    {
     "name": "stderr",
     "output_type": "stream",
     "text": [
      "C:\\Anaconda3\\lib\\site-packages\\numpy\\core\\fromnumeric.py:3438: FutureWarning: In a future version, DataFrame.mean(axis=None) will return a scalar mean over the entire DataFrame. To retain the old behavior, use 'frame.mean(axis=0)' or just 'frame.mean()'\n",
      "  return mean(axis=axis, dtype=dtype, out=out, **kwargs)\n"
     ]
    },
    {
     "ename": "LinAlgError",
     "evalue": "Singular matrix",
     "output_type": "error",
     "traceback": [
      "\u001b[1;31m---------------------------------------------------------------------------\u001b[0m",
      "\u001b[1;31mLinAlgError\u001b[0m                               Traceback (most recent call last)",
      "Input \u001b[1;32mIn [25]\u001b[0m, in \u001b[0;36m<cell line: 2>\u001b[1;34m()\u001b[0m\n\u001b[0;32m      1\u001b[0m mah_df \u001b[38;5;241m=\u001b[39m dfclass4\u001b[38;5;241m.\u001b[39mcopy()\n\u001b[1;32m----> 2\u001b[0m mah_df[\u001b[38;5;124m'\u001b[39m\u001b[38;5;124mMahalanobis\u001b[39m\u001b[38;5;124m'\u001b[39m] \u001b[38;5;241m=\u001b[39m \u001b[43mmahalanobis\u001b[49m\u001b[43m(\u001b[49m\u001b[43mx\u001b[49m\u001b[38;5;241;43m=\u001b[39;49m\u001b[43mmah_df\u001b[49m\u001b[43m,\u001b[49m\u001b[43m \u001b[49m\u001b[43mdata\u001b[49m\u001b[38;5;241;43m=\u001b[39;49m\u001b[43mmah_df\u001b[49m\u001b[43m)\u001b[49m\n\u001b[0;32m      3\u001b[0m mah_df\u001b[38;5;241m.\u001b[39mhead(\u001b[38;5;241m3\u001b[39m)\n",
      "Input \u001b[1;32mIn [24]\u001b[0m, in \u001b[0;36mmahalanobis\u001b[1;34m(x, data, cov)\u001b[0m\n\u001b[0;32m      5\u001b[0m \u001b[38;5;28;01mif\u001b[39;00m \u001b[38;5;129;01mnot\u001b[39;00m cov:\n\u001b[0;32m      6\u001b[0m     cov \u001b[38;5;241m=\u001b[39m np\u001b[38;5;241m.\u001b[39mcov(data\u001b[38;5;241m.\u001b[39mvalues\u001b[38;5;241m.\u001b[39mT)\n\u001b[1;32m----> 7\u001b[0m inv_covmat \u001b[38;5;241m=\u001b[39m \u001b[43mnp\u001b[49m\u001b[38;5;241;43m.\u001b[39;49m\u001b[43mlinalg\u001b[49m\u001b[38;5;241;43m.\u001b[39;49m\u001b[43minv\u001b[49m\u001b[43m(\u001b[49m\u001b[43mcov\u001b[49m\u001b[43m)\u001b[49m\n\u001b[0;32m      8\u001b[0m left \u001b[38;5;241m=\u001b[39m np\u001b[38;5;241m.\u001b[39mdot(x_mu, inv_covmat)\n\u001b[0;32m      9\u001b[0m mahal \u001b[38;5;241m=\u001b[39m np\u001b[38;5;241m.\u001b[39mdot(left, x_mu\u001b[38;5;241m.\u001b[39mT)\n",
      "File \u001b[1;32m<__array_function__ internals>:5\u001b[0m, in \u001b[0;36minv\u001b[1;34m(*args, **kwargs)\u001b[0m\n",
      "File \u001b[1;32mC:\\Anaconda3\\lib\\site-packages\\numpy\\linalg\\linalg.py:545\u001b[0m, in \u001b[0;36minv\u001b[1;34m(a)\u001b[0m\n\u001b[0;32m    543\u001b[0m signature \u001b[38;5;241m=\u001b[39m \u001b[38;5;124m'\u001b[39m\u001b[38;5;124mD->D\u001b[39m\u001b[38;5;124m'\u001b[39m \u001b[38;5;28;01mif\u001b[39;00m isComplexType(t) \u001b[38;5;28;01melse\u001b[39;00m \u001b[38;5;124m'\u001b[39m\u001b[38;5;124md->d\u001b[39m\u001b[38;5;124m'\u001b[39m\n\u001b[0;32m    544\u001b[0m extobj \u001b[38;5;241m=\u001b[39m get_linalg_error_extobj(_raise_linalgerror_singular)\n\u001b[1;32m--> 545\u001b[0m ainv \u001b[38;5;241m=\u001b[39m \u001b[43m_umath_linalg\u001b[49m\u001b[38;5;241;43m.\u001b[39;49m\u001b[43minv\u001b[49m\u001b[43m(\u001b[49m\u001b[43ma\u001b[49m\u001b[43m,\u001b[49m\u001b[43m \u001b[49m\u001b[43msignature\u001b[49m\u001b[38;5;241;43m=\u001b[39;49m\u001b[43msignature\u001b[49m\u001b[43m,\u001b[49m\u001b[43m \u001b[49m\u001b[43mextobj\u001b[49m\u001b[38;5;241;43m=\u001b[39;49m\u001b[43mextobj\u001b[49m\u001b[43m)\u001b[49m\n\u001b[0;32m    546\u001b[0m \u001b[38;5;28;01mreturn\u001b[39;00m wrap(ainv\u001b[38;5;241m.\u001b[39mastype(result_t, copy\u001b[38;5;241m=\u001b[39m\u001b[38;5;28;01mFalse\u001b[39;00m))\n",
      "File \u001b[1;32mC:\\Anaconda3\\lib\\site-packages\\numpy\\linalg\\linalg.py:88\u001b[0m, in \u001b[0;36m_raise_linalgerror_singular\u001b[1;34m(err, flag)\u001b[0m\n\u001b[0;32m     87\u001b[0m \u001b[38;5;28;01mdef\u001b[39;00m \u001b[38;5;21m_raise_linalgerror_singular\u001b[39m(err, flag):\n\u001b[1;32m---> 88\u001b[0m     \u001b[38;5;28;01mraise\u001b[39;00m LinAlgError(\u001b[38;5;124m\"\u001b[39m\u001b[38;5;124mSingular matrix\u001b[39m\u001b[38;5;124m\"\u001b[39m)\n",
      "\u001b[1;31mLinAlgError\u001b[0m: Singular matrix"
     ]
    }
   ],
   "source": [
    "mah_df = dfclass4.copy()\n",
    "mah_df['Mahalanobis'] = mahalanobis(x=mah_df, data=mah_df)\n",
    "mah_df.head(3)"
   ]
  },
  {
   "cell_type": "code",
   "execution_count": 16,
   "id": "ae7ce507",
   "metadata": {
    "scrolled": false
   },
   "outputs": [
    {
     "name": "stderr",
     "output_type": "stream",
     "text": [
      "C:\\Anaconda3\\lib\\site-packages\\numpy\\core\\fromnumeric.py:3438: FutureWarning: In a future version, DataFrame.mean(axis=None) will return a scalar mean over the entire DataFrame. To retain the old behavior, use 'frame.mean(axis=0)' or just 'frame.mean()'\n",
      "  return mean(axis=axis, dtype=dtype, out=out, **kwargs)\n"
     ]
    },
    {
     "ename": "LinAlgError",
     "evalue": "Singular matrix",
     "output_type": "error",
     "traceback": [
      "\u001b[1;31m---------------------------------------------------------------------------\u001b[0m",
      "\u001b[1;31mLinAlgError\u001b[0m                               Traceback (most recent call last)",
      "Input \u001b[1;32mIn [16]\u001b[0m, in \u001b[0;36m<cell line: 2>\u001b[1;34m()\u001b[0m\n\u001b[0;32m      1\u001b[0m \u001b[38;5;66;03m#create new column in dataframe that contains Mahalanobis distance for each row\u001b[39;00m\n\u001b[1;32m----> 2\u001b[0m dfclass4[\u001b[38;5;124m'\u001b[39m\u001b[38;5;124mmahalanobis\u001b[39m\u001b[38;5;124m'\u001b[39m] \u001b[38;5;241m=\u001b[39m \u001b[43mmahalanobis\u001b[49m\u001b[43m(\u001b[49m\u001b[43mx\u001b[49m\u001b[38;5;241;43m=\u001b[39;49m\u001b[43mdfclass4\u001b[49m\u001b[43m,\u001b[49m\u001b[43m \u001b[49m\u001b[43mdata\u001b[49m\u001b[38;5;241;43m=\u001b[39;49m\u001b[43mdfclass4\u001b[49m\u001b[43m[\u001b[49m\u001b[43m[\u001b[49m\u001b[38;5;124;43m'\u001b[39;49m\u001b[38;5;124;43mClass_id\u001b[39;49m\u001b[38;5;124;43m'\u001b[39;49m\u001b[43m,\u001b[49m\u001b[43m \u001b[49m\u001b[38;5;124;43m'\u001b[39;49m\u001b[38;5;124;43mBD1\u001b[39;49m\u001b[38;5;124;43m'\u001b[39;49m\u001b[43m,\u001b[49m\u001b[43m \u001b[49m\u001b[38;5;124;43m'\u001b[39;49m\u001b[38;5;124;43mBD2\u001b[39;49m\u001b[38;5;124;43m'\u001b[39;49m\u001b[43m,\u001b[49m\u001b[43m \u001b[49m\u001b[38;5;124;43m'\u001b[39;49m\u001b[38;5;124;43mBD3\u001b[39;49m\u001b[38;5;124;43m'\u001b[39;49m\u001b[43m,\u001b[49m\u001b[43m \u001b[49m\u001b[38;5;124;43m'\u001b[39;49m\u001b[38;5;124;43mBD4\u001b[39;49m\u001b[38;5;124;43m'\u001b[39;49m\u001b[43m,\u001b[49m\u001b[43m \u001b[49m\u001b[38;5;124;43m'\u001b[39;49m\u001b[38;5;124;43mBD5\u001b[39;49m\u001b[38;5;124;43m'\u001b[39;49m\u001b[43m,\u001b[49m\u001b[43m \u001b[49m\u001b[38;5;124;43m'\u001b[39;49m\u001b[38;5;124;43mBD6\u001b[39;49m\u001b[38;5;124;43m'\u001b[39;49m\u001b[43m,\u001b[49m\u001b[43m \u001b[49m\u001b[38;5;124;43m'\u001b[39;49m\u001b[38;5;124;43mBD7\u001b[39;49m\u001b[38;5;124;43m'\u001b[39;49m\u001b[43m,\u001b[49m\u001b[43m \u001b[49m\u001b[38;5;124;43m'\u001b[39;49m\u001b[38;5;124;43mBD8\u001b[39;49m\u001b[38;5;124;43m'\u001b[39;49m\u001b[43m,\u001b[49m\u001b[43m \u001b[49m\u001b[38;5;124;43m'\u001b[39;49m\u001b[38;5;124;43mBD9\u001b[39;49m\u001b[38;5;124;43m'\u001b[39;49m\u001b[43m,\u001b[49m\u001b[43m \u001b[49m\u001b[38;5;124;43m'\u001b[39;49m\u001b[38;5;124;43mBD10\u001b[39;49m\u001b[38;5;124;43m'\u001b[39;49m\u001b[43m]\u001b[49m\u001b[43m]\u001b[49m\u001b[43m)\u001b[49m\n",
      "Input \u001b[1;32mIn [15]\u001b[0m, in \u001b[0;36mmahalanobis\u001b[1;34m(x, data, cov)\u001b[0m\n\u001b[0;32m      5\u001b[0m \u001b[38;5;28;01mif\u001b[39;00m \u001b[38;5;129;01mnot\u001b[39;00m cov:\n\u001b[0;32m      6\u001b[0m     cov \u001b[38;5;241m=\u001b[39m np\u001b[38;5;241m.\u001b[39mcov(data\u001b[38;5;241m.\u001b[39mvalues\u001b[38;5;241m.\u001b[39mT)\n\u001b[1;32m----> 7\u001b[0m inv_covmat \u001b[38;5;241m=\u001b[39m \u001b[43mnp\u001b[49m\u001b[38;5;241;43m.\u001b[39;49m\u001b[43mlinalg\u001b[49m\u001b[38;5;241;43m.\u001b[39;49m\u001b[43minv\u001b[49m\u001b[43m(\u001b[49m\u001b[43mcov\u001b[49m\u001b[43m)\u001b[49m\n\u001b[0;32m      8\u001b[0m left \u001b[38;5;241m=\u001b[39m np\u001b[38;5;241m.\u001b[39mdot(x_mu, inv_covmat)\n\u001b[0;32m      9\u001b[0m mahal \u001b[38;5;241m=\u001b[39m np\u001b[38;5;241m.\u001b[39mdot(left, x_mu\u001b[38;5;241m.\u001b[39mT)\n",
      "File \u001b[1;32m<__array_function__ internals>:5\u001b[0m, in \u001b[0;36minv\u001b[1;34m(*args, **kwargs)\u001b[0m\n",
      "File \u001b[1;32mC:\\Anaconda3\\lib\\site-packages\\numpy\\linalg\\linalg.py:545\u001b[0m, in \u001b[0;36minv\u001b[1;34m(a)\u001b[0m\n\u001b[0;32m    543\u001b[0m signature \u001b[38;5;241m=\u001b[39m \u001b[38;5;124m'\u001b[39m\u001b[38;5;124mD->D\u001b[39m\u001b[38;5;124m'\u001b[39m \u001b[38;5;28;01mif\u001b[39;00m isComplexType(t) \u001b[38;5;28;01melse\u001b[39;00m \u001b[38;5;124m'\u001b[39m\u001b[38;5;124md->d\u001b[39m\u001b[38;5;124m'\u001b[39m\n\u001b[0;32m    544\u001b[0m extobj \u001b[38;5;241m=\u001b[39m get_linalg_error_extobj(_raise_linalgerror_singular)\n\u001b[1;32m--> 545\u001b[0m ainv \u001b[38;5;241m=\u001b[39m \u001b[43m_umath_linalg\u001b[49m\u001b[38;5;241;43m.\u001b[39;49m\u001b[43minv\u001b[49m\u001b[43m(\u001b[49m\u001b[43ma\u001b[49m\u001b[43m,\u001b[49m\u001b[43m \u001b[49m\u001b[43msignature\u001b[49m\u001b[38;5;241;43m=\u001b[39;49m\u001b[43msignature\u001b[49m\u001b[43m,\u001b[49m\u001b[43m \u001b[49m\u001b[43mextobj\u001b[49m\u001b[38;5;241;43m=\u001b[39;49m\u001b[43mextobj\u001b[49m\u001b[43m)\u001b[49m\n\u001b[0;32m    546\u001b[0m \u001b[38;5;28;01mreturn\u001b[39;00m wrap(ainv\u001b[38;5;241m.\u001b[39mastype(result_t, copy\u001b[38;5;241m=\u001b[39m\u001b[38;5;28;01mFalse\u001b[39;00m))\n",
      "File \u001b[1;32mC:\\Anaconda3\\lib\\site-packages\\numpy\\linalg\\linalg.py:88\u001b[0m, in \u001b[0;36m_raise_linalgerror_singular\u001b[1;34m(err, flag)\u001b[0m\n\u001b[0;32m     87\u001b[0m \u001b[38;5;28;01mdef\u001b[39;00m \u001b[38;5;21m_raise_linalgerror_singular\u001b[39m(err, flag):\n\u001b[1;32m---> 88\u001b[0m     \u001b[38;5;28;01mraise\u001b[39;00m LinAlgError(\u001b[38;5;124m\"\u001b[39m\u001b[38;5;124mSingular matrix\u001b[39m\u001b[38;5;124m\"\u001b[39m)\n",
      "\u001b[1;31mLinAlgError\u001b[0m: Singular matrix"
     ]
    }
   ],
   "source": [
    "#create new column in dataframe that contains Mahalanobis distance for each row\n",
    "dfclass4['mahalanobis'] = mahalanobis(x=dfclass4, data=dfclass4[['Class_id', 'BD1', 'BD2', 'BD3', 'BD4', 'BD5', 'BD6', 'BD7', 'BD8', 'BD9', 'BD10']])"
   ]
  },
  {
   "cell_type": "code",
   "execution_count": 12,
   "id": "5a4ee6e2",
   "metadata": {
    "scrolled": true
   },
   "outputs": [
    {
     "name": "stderr",
     "output_type": "stream",
     "text": [
      "C:\\Anaconda3\\lib\\site-packages\\numpy\\core\\fromnumeric.py:3438: FutureWarning: In a future version, DataFrame.mean(axis=None) will return a scalar mean over the entire DataFrame. To retain the old behavior, use 'frame.mean(axis=0)' or just 'frame.mean()'\n",
      "  return mean(axis=axis, dtype=dtype, out=out, **kwargs)\n"
     ]
    },
    {
     "ename": "ValueError",
     "evalue": "shapes (667075,12) and (11,11) not aligned: 12 (dim 1) != 11 (dim 0)",
     "output_type": "error",
     "traceback": [
      "\u001b[1;31m---------------------------------------------------------------------------\u001b[0m",
      "\u001b[1;31mValueError\u001b[0m                                Traceback (most recent call last)",
      "Input \u001b[1;32mIn [12]\u001b[0m, in \u001b[0;36m<cell line: 1>\u001b[1;34m()\u001b[0m\n\u001b[1;32m----> 1\u001b[0m df[\u001b[38;5;124m'\u001b[39m\u001b[38;5;124mmahalanobis\u001b[39m\u001b[38;5;124m'\u001b[39m] \u001b[38;5;241m=\u001b[39m \u001b[43mmahalanobis\u001b[49m\u001b[43m(\u001b[49m\u001b[43mx\u001b[49m\u001b[38;5;241;43m=\u001b[39;49m\u001b[43mdf\u001b[49m\u001b[43m,\u001b[49m\u001b[43m \u001b[49m\u001b[43mdata\u001b[49m\u001b[38;5;241;43m=\u001b[39;49m\u001b[43mdf\u001b[49m\u001b[43m[\u001b[49m\u001b[43m[\u001b[49m\u001b[38;5;124;43m'\u001b[39;49m\u001b[38;5;124;43mClass_id\u001b[39;49m\u001b[38;5;124;43m'\u001b[39;49m\u001b[43m,\u001b[49m\u001b[43m \u001b[49m\u001b[38;5;124;43m'\u001b[39;49m\u001b[38;5;124;43mBD1\u001b[39;49m\u001b[38;5;124;43m'\u001b[39;49m\u001b[43m,\u001b[49m\u001b[43m \u001b[49m\u001b[38;5;124;43m'\u001b[39;49m\u001b[38;5;124;43mBD2\u001b[39;49m\u001b[38;5;124;43m'\u001b[39;49m\u001b[43m,\u001b[49m\u001b[43m \u001b[49m\u001b[38;5;124;43m'\u001b[39;49m\u001b[38;5;124;43mBD3\u001b[39;49m\u001b[38;5;124;43m'\u001b[39;49m\u001b[43m,\u001b[49m\u001b[43m \u001b[49m\u001b[38;5;124;43m'\u001b[39;49m\u001b[38;5;124;43mBD4\u001b[39;49m\u001b[38;5;124;43m'\u001b[39;49m\u001b[43m,\u001b[49m\u001b[43m \u001b[49m\u001b[38;5;124;43m'\u001b[39;49m\u001b[38;5;124;43mBD5\u001b[39;49m\u001b[38;5;124;43m'\u001b[39;49m\u001b[43m,\u001b[49m\u001b[43m \u001b[49m\u001b[38;5;124;43m'\u001b[39;49m\u001b[38;5;124;43mBD6\u001b[39;49m\u001b[38;5;124;43m'\u001b[39;49m\u001b[43m,\u001b[49m\u001b[43m \u001b[49m\u001b[38;5;124;43m'\u001b[39;49m\u001b[38;5;124;43mBD7\u001b[39;49m\u001b[38;5;124;43m'\u001b[39;49m\u001b[43m,\u001b[49m\u001b[43m \u001b[49m\u001b[38;5;124;43m'\u001b[39;49m\u001b[38;5;124;43mBD8\u001b[39;49m\u001b[38;5;124;43m'\u001b[39;49m\u001b[43m,\u001b[49m\u001b[43m \u001b[49m\u001b[38;5;124;43m'\u001b[39;49m\u001b[38;5;124;43mBD9\u001b[39;49m\u001b[38;5;124;43m'\u001b[39;49m\u001b[43m,\u001b[49m\u001b[43m \u001b[49m\u001b[38;5;124;43m'\u001b[39;49m\u001b[38;5;124;43mBD10\u001b[39;49m\u001b[38;5;124;43m'\u001b[39;49m\u001b[43m]\u001b[49m\u001b[43m]\u001b[49m\u001b[43m)\u001b[49m\n",
      "Input \u001b[1;32mIn [8]\u001b[0m, in \u001b[0;36mmahalanobis\u001b[1;34m(x, data, cov)\u001b[0m\n\u001b[0;32m      6\u001b[0m     cov \u001b[38;5;241m=\u001b[39m np\u001b[38;5;241m.\u001b[39mcov(data\u001b[38;5;241m.\u001b[39mvalues\u001b[38;5;241m.\u001b[39mT)\n\u001b[0;32m      7\u001b[0m inv_covmat \u001b[38;5;241m=\u001b[39m np\u001b[38;5;241m.\u001b[39mlinalg\u001b[38;5;241m.\u001b[39minv(cov)\n\u001b[1;32m----> 8\u001b[0m left \u001b[38;5;241m=\u001b[39m \u001b[43mnp\u001b[49m\u001b[38;5;241;43m.\u001b[39;49m\u001b[43mdot\u001b[49m\u001b[43m(\u001b[49m\u001b[43mx_mu\u001b[49m\u001b[43m,\u001b[49m\u001b[43m \u001b[49m\u001b[43minv_covmat\u001b[49m\u001b[43m)\u001b[49m\n\u001b[0;32m      9\u001b[0m mahal \u001b[38;5;241m=\u001b[39m np\u001b[38;5;241m.\u001b[39mdot(left, x_mu\u001b[38;5;241m.\u001b[39mT)\n\u001b[0;32m     10\u001b[0m \u001b[38;5;28;01mreturn\u001b[39;00m mahal\u001b[38;5;241m.\u001b[39mdiagonal()\n",
      "File \u001b[1;32m<__array_function__ internals>:5\u001b[0m, in \u001b[0;36mdot\u001b[1;34m(*args, **kwargs)\u001b[0m\n",
      "\u001b[1;31mValueError\u001b[0m: shapes (667075,12) and (11,11) not aligned: 12 (dim 1) != 11 (dim 0)"
     ]
    }
   ],
   "source": [
    "df['mahalanobis'] = mahalanobis(x=df, data=df[['Class_id', 'BD1', 'BD2', 'BD3', 'BD4', 'BD5', 'BD6', 'BD7', 'BD8', 'BD9', 'BD10']])"
   ]
  },
  {
   "cell_type": "code",
   "execution_count": 20,
   "id": "7c659fb3",
   "metadata": {},
   "outputs": [
    {
     "data": {
      "text/plain": [
       "Class_name     object\n",
       "Class_id      float64\n",
       "BD1             int64\n",
       "BD2             int64\n",
       "BD3             int64\n",
       "BD4             int64\n",
       "BD5             int64\n",
       "BD6             int64\n",
       "BD7             int64\n",
       "BD8             int64\n",
       "BD9             int64\n",
       "BD10            int64\n",
       "dtype: object"
      ]
     },
     "execution_count": 20,
     "metadata": {},
     "output_type": "execute_result"
    }
   ],
   "source": [
    "result = df.dtypes\n",
    "result"
   ]
  },
  {
   "cell_type": "code",
   "execution_count": null,
   "id": "dd386f42",
   "metadata": {},
   "outputs": [],
   "source": []
  }
 ],
 "metadata": {
  "kernelspec": {
   "display_name": "Python 3 (ipykernel)",
   "language": "python",
   "name": "python3"
  },
  "language_info": {
   "codemirror_mode": {
    "name": "ipython",
    "version": 3
   },
   "file_extension": ".py",
   "mimetype": "text/x-python",
   "name": "python",
   "nbconvert_exporter": "python",
   "pygments_lexer": "ipython3",
   "version": "3.9.12"
  }
 },
 "nbformat": 4,
 "nbformat_minor": 5
}
