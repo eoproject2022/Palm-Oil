{
 "cells": [
  {
   "cell_type": "code",
   "execution_count": 1,
   "id": "2b5af47c",
   "metadata": {},
   "outputs": [],
   "source": [
    "#Load libraries\n",
    "from sklearn.datasets import load_boston\n",
    "import copy \n",
    "import numpy as np\n",
    "import pandas as pd\n",
    "import seaborn as sns\n",
    "import scipy as sp\n",
    "from scipy.stats import chi2\n",
    "from sklearn.covariance import MinCovDet"
   ]
  },
  {
   "cell_type": "code",
   "execution_count": 3,
   "id": "0128f033",
   "metadata": {},
   "outputs": [
    {
     "data": {
      "text/html": [
       "<div>\n",
       "<style scoped>\n",
       "    .dataframe tbody tr th:only-of-type {\n",
       "        vertical-align: middle;\n",
       "    }\n",
       "\n",
       "    .dataframe tbody tr th {\n",
       "        vertical-align: top;\n",
       "    }\n",
       "\n",
       "    .dataframe thead th {\n",
       "        text-align: right;\n",
       "    }\n",
       "</style>\n",
       "<table border=\"1\" class=\"dataframe\">\n",
       "  <thead>\n",
       "    <tr style=\"text-align: right;\">\n",
       "      <th></th>\n",
       "      <th>id</th>\n",
       "      <th>poly_id</th>\n",
       "      <th>point_id</th>\n",
       "      <th>id_2</th>\n",
       "      <th>BD1</th>\n",
       "      <th>BD2</th>\n",
       "      <th>BD3</th>\n",
       "      <th>BD4</th>\n",
       "      <th>BD5</th>\n",
       "      <th>BD6</th>\n",
       "      <th>BD7</th>\n",
       "      <th>BD8</th>\n",
       "      <th>BD9</th>\n",
       "      <th>BD10</th>\n",
       "    </tr>\n",
       "  </thead>\n",
       "  <tbody>\n",
       "    <tr>\n",
       "      <th>0</th>\n",
       "      <td>0</td>\n",
       "      <td>0</td>\n",
       "      <td>0</td>\n",
       "      <td>3.0</td>\n",
       "      <td>297</td>\n",
       "      <td>557</td>\n",
       "      <td>364</td>\n",
       "      <td>989</td>\n",
       "      <td>2630</td>\n",
       "      <td>3139</td>\n",
       "      <td>3300</td>\n",
       "      <td>3485</td>\n",
       "      <td>1859</td>\n",
       "      <td>874</td>\n",
       "    </tr>\n",
       "    <tr>\n",
       "      <th>1</th>\n",
       "      <td>1</td>\n",
       "      <td>0</td>\n",
       "      <td>1</td>\n",
       "      <td>3.0</td>\n",
       "      <td>268</td>\n",
       "      <td>512</td>\n",
       "      <td>270</td>\n",
       "      <td>954</td>\n",
       "      <td>2831</td>\n",
       "      <td>3417</td>\n",
       "      <td>3609</td>\n",
       "      <td>3669</td>\n",
       "      <td>1809</td>\n",
       "      <td>834</td>\n",
       "    </tr>\n",
       "    <tr>\n",
       "      <th>2</th>\n",
       "      <td>2</td>\n",
       "      <td>0</td>\n",
       "      <td>2</td>\n",
       "      <td>3.0</td>\n",
       "      <td>297</td>\n",
       "      <td>568</td>\n",
       "      <td>312</td>\n",
       "      <td>954</td>\n",
       "      <td>2831</td>\n",
       "      <td>3417</td>\n",
       "      <td>3683</td>\n",
       "      <td>3669</td>\n",
       "      <td>1809</td>\n",
       "      <td>834</td>\n",
       "    </tr>\n",
       "    <tr>\n",
       "      <th>3</th>\n",
       "      <td>3</td>\n",
       "      <td>0</td>\n",
       "      <td>3</td>\n",
       "      <td>3.0</td>\n",
       "      <td>345</td>\n",
       "      <td>590</td>\n",
       "      <td>351</td>\n",
       "      <td>989</td>\n",
       "      <td>2630</td>\n",
       "      <td>3139</td>\n",
       "      <td>3199</td>\n",
       "      <td>3485</td>\n",
       "      <td>1859</td>\n",
       "      <td>874</td>\n",
       "    </tr>\n",
       "    <tr>\n",
       "      <th>4</th>\n",
       "      <td>4</td>\n",
       "      <td>0</td>\n",
       "      <td>4</td>\n",
       "      <td>3.0</td>\n",
       "      <td>298</td>\n",
       "      <td>525</td>\n",
       "      <td>305</td>\n",
       "      <td>948</td>\n",
       "      <td>2922</td>\n",
       "      <td>3559</td>\n",
       "      <td>3716</td>\n",
       "      <td>3999</td>\n",
       "      <td>1884</td>\n",
       "      <td>840</td>\n",
       "    </tr>\n",
       "  </tbody>\n",
       "</table>\n",
       "</div>"
      ],
      "text/plain": [
       "   id  poly_id  point_id  id_2  BD1  BD2  BD3  BD4   BD5   BD6   BD7   BD8  \\\n",
       "0   0        0         0   3.0  297  557  364  989  2630  3139  3300  3485   \n",
       "1   1        0         1   3.0  268  512  270  954  2831  3417  3609  3669   \n",
       "2   2        0         2   3.0  297  568  312  954  2831  3417  3683  3669   \n",
       "3   3        0         3   3.0  345  590  351  989  2630  3139  3199  3485   \n",
       "4   4        0         4   3.0  298  525  305  948  2922  3559  3716  3999   \n",
       "\n",
       "    BD9  BD10  \n",
       "0  1859   874  \n",
       "1  1809   834  \n",
       "2  1809   834  \n",
       "3  1859   874  \n",
       "4  1884   840  "
      ]
     },
     "execution_count": 3,
     "metadata": {},
     "output_type": "execute_result"
    }
   ],
   "source": [
    "# Import dataset\n",
    "df= pd.read_csv('C:/Users/Administrator/Desktop/Sentinel Hulu Perak/sentinel Hulu Perak Mac 2019/Sampel hulu perak/HuluPerak_training.csv', sep=\",\", decimal='.' )\n",
    "df.head()"
   ]
  },
  {
   "cell_type": "code",
   "execution_count": 4,
   "id": "7d7a408a",
   "metadata": {},
   "outputs": [
    {
     "data": {
      "text/html": [
       "<div>\n",
       "<style scoped>\n",
       "    .dataframe tbody tr th:only-of-type {\n",
       "        vertical-align: middle;\n",
       "    }\n",
       "\n",
       "    .dataframe tbody tr th {\n",
       "        vertical-align: top;\n",
       "    }\n",
       "\n",
       "    .dataframe thead th {\n",
       "        text-align: right;\n",
       "    }\n",
       "</style>\n",
       "<table border=\"1\" class=\"dataframe\">\n",
       "  <thead>\n",
       "    <tr style=\"text-align: right;\">\n",
       "      <th></th>\n",
       "      <th>Class_name</th>\n",
       "      <th>Class_id</th>\n",
       "      <th>BD1</th>\n",
       "      <th>BD2</th>\n",
       "      <th>BD3</th>\n",
       "      <th>BD4</th>\n",
       "      <th>BD5</th>\n",
       "      <th>BD6</th>\n",
       "      <th>BD7</th>\n",
       "      <th>BD8</th>\n",
       "      <th>BD9</th>\n",
       "      <th>BD10</th>\n",
       "    </tr>\n",
       "  </thead>\n",
       "  <tbody>\n",
       "    <tr>\n",
       "      <th>0</th>\n",
       "      <td>Rubber</td>\n",
       "      <td>3.0</td>\n",
       "      <td>297</td>\n",
       "      <td>557</td>\n",
       "      <td>364</td>\n",
       "      <td>989</td>\n",
       "      <td>2630</td>\n",
       "      <td>3139</td>\n",
       "      <td>3300</td>\n",
       "      <td>3485</td>\n",
       "      <td>1859</td>\n",
       "      <td>874</td>\n",
       "    </tr>\n",
       "    <tr>\n",
       "      <th>1</th>\n",
       "      <td>Rubber</td>\n",
       "      <td>3.0</td>\n",
       "      <td>268</td>\n",
       "      <td>512</td>\n",
       "      <td>270</td>\n",
       "      <td>954</td>\n",
       "      <td>2831</td>\n",
       "      <td>3417</td>\n",
       "      <td>3609</td>\n",
       "      <td>3669</td>\n",
       "      <td>1809</td>\n",
       "      <td>834</td>\n",
       "    </tr>\n",
       "    <tr>\n",
       "      <th>2</th>\n",
       "      <td>Rubber</td>\n",
       "      <td>3.0</td>\n",
       "      <td>297</td>\n",
       "      <td>568</td>\n",
       "      <td>312</td>\n",
       "      <td>954</td>\n",
       "      <td>2831</td>\n",
       "      <td>3417</td>\n",
       "      <td>3683</td>\n",
       "      <td>3669</td>\n",
       "      <td>1809</td>\n",
       "      <td>834</td>\n",
       "    </tr>\n",
       "    <tr>\n",
       "      <th>3</th>\n",
       "      <td>Rubber</td>\n",
       "      <td>3.0</td>\n",
       "      <td>345</td>\n",
       "      <td>590</td>\n",
       "      <td>351</td>\n",
       "      <td>989</td>\n",
       "      <td>2630</td>\n",
       "      <td>3139</td>\n",
       "      <td>3199</td>\n",
       "      <td>3485</td>\n",
       "      <td>1859</td>\n",
       "      <td>874</td>\n",
       "    </tr>\n",
       "    <tr>\n",
       "      <th>4</th>\n",
       "      <td>Rubber</td>\n",
       "      <td>3.0</td>\n",
       "      <td>298</td>\n",
       "      <td>525</td>\n",
       "      <td>305</td>\n",
       "      <td>948</td>\n",
       "      <td>2922</td>\n",
       "      <td>3559</td>\n",
       "      <td>3716</td>\n",
       "      <td>3999</td>\n",
       "      <td>1884</td>\n",
       "      <td>840</td>\n",
       "    </tr>\n",
       "  </tbody>\n",
       "</table>\n",
       "</div>"
      ],
      "text/plain": [
       "  Class_name  Class_id  BD1  BD2  BD3  BD4   BD5   BD6   BD7   BD8   BD9  BD10\n",
       "0     Rubber       3.0  297  557  364  989  2630  3139  3300  3485  1859   874\n",
       "1     Rubber       3.0  268  512  270  954  2831  3417  3609  3669  1809   834\n",
       "2     Rubber       3.0  297  568  312  954  2831  3417  3683  3669  1809   834\n",
       "3     Rubber       3.0  345  590  351  989  2630  3139  3199  3485  1859   874\n",
       "4     Rubber       3.0  298  525  305  948  2922  3559  3716  3999  1884   840"
      ]
     },
     "execution_count": 4,
     "metadata": {},
     "output_type": "execute_result"
    }
   ],
   "source": [
    "filters = [(df.id_2 == 1), (df.id_2 == 2), (df.id_2 == 3),(df.id_2 == 4),\n",
    "           (df.id_2 == 5), (df.id_2 == 6), (df.id_2 == 7)]\n",
    "\n",
    "values = [\"Water Body\", \"Build up Area\", \"Rubber\", \"Palm Oil\", \"Other vegetation\", \"Forest\", \"Bare Land\"]   \n",
    "\n",
    "df [\"Class_name\"] = np.select(filters, values)\n",
    "df.drop(['id','poly_id','point_id'],axis=1, inplace=True)\n",
    "df.rename(columns= {'id_2': 'Class_id'}, inplace=True)\n",
    "df=df[['Class_name','Class_id','BD1', 'BD2', 'BD3', 'BD4', 'BD5', 'BD6', 'BD7', 'BD8', 'BD9', 'BD10']]\n",
    "df.head()"
   ]
  },
  {
   "cell_type": "code",
   "execution_count": 8,
   "id": "30c57031",
   "metadata": {},
   "outputs": [
    {
     "data": {
      "text/plain": [
       "<AxesSubplot:>"
      ]
     },
     "execution_count": 8,
     "metadata": {},
     "output_type": "execute_result"
    },
    {
     "data": {
      "image/png": "[encoded data removed]",
      "text/plain": [
       "<Figure size 432x288 with 1 Axes>"
      ]
     },
     "metadata": {
      "needs_background": "light"
     },
     "output_type": "display_data"
    }
   ],
   "source": [
    "df.boxplot(column= ['BD1', 'BD2', 'BD3', 'BD4', 'BD5', 'BD6', 'BD7', 'BD8', 'BD9', 'BD10'])"
   ]
  },
  {
   "cell_type": "code",
   "execution_count": 14,
   "id": "922b1a27",
   "metadata": {},
   "outputs": [],
   "source": [
    "dfclass1 = df[(df.Class_id == 1)]\n",
    "dfclass2 = df[(df.Class_id == 2)]\n",
    "dfclass3 = df[(df.Class_id == 3)]\n",
    "dfclass4 = df[(df.Class_id == 4)]\n",
    "dfclass5 = df[(df.Class_id == 5)]\n",
    "dfclass6 = df[(df.Class_id == 6)]\n",
    "dfclass7 = df[(df.Class_id == 7)]"
   ]
  },
  {
   "cell_type": "code",
   "execution_count": 15,
   "id": "a750554f",
   "metadata": {},
   "outputs": [
    {
     "data": {
      "text/plain": [
       "<AxesSubplot:>"
      ]
     },
     "execution_count": 15,
     "metadata": {},
     "output_type": "execute_result"
    },
    {
     "data": {
      "image/png": "[encoded data removed]",
      "text/plain": [
       "<Figure size 432x288 with 1 Axes>"
      ]
     },
     "metadata": {
      "needs_background": "light"
     },
     "output_type": "display_data"
    }
   ],
   "source": [
    "dfclass4.boxplot(column= ['BD1', 'BD2', 'BD3', 'BD4', 'BD5', 'BD6', 'BD7', 'BD8', 'BD9', 'BD10'])"
   ]
  },
  {
   "cell_type": "code",
   "execution_count": 46,
   "id": "7a4d8a3f",
   "metadata": {},
   "outputs": [
    {
     "ename": "TypeError",
     "evalue": "mahalanobis_method() got an unexpected keyword argument 'dfclass4_bivariate'",
     "output_type": "error",
     "traceback": [
      "\u001b[1;31m---------------------------------------------------------------------------\u001b[0m",
      "\u001b[1;31mTypeError\u001b[0m                                 Traceback (most recent call last)",
      "Input \u001b[1;32mIn [46]\u001b[0m, in \u001b[0;36m<cell line: 23>\u001b[1;34m()\u001b[0m\n\u001b[0;32m     20\u001b[0m             \u001b[38;5;28;01mcontinue\u001b[39;00m\n\u001b[0;32m     21\u001b[0m     \u001b[38;5;28;01mreturn\u001b[39;00m outlier, md\n\u001b[1;32m---> 23\u001b[0m outliers_mahal_bi, md_bi \u001b[38;5;241m=\u001b[39m \u001b[43mmahalanobis_method\u001b[49m\u001b[43m(\u001b[49m\u001b[43mdfclass4_bivariate\u001b[49m\u001b[38;5;241;43m=\u001b[39;49m\u001b[43mdfclass4\u001b[49m\u001b[43m)\u001b[49m\n\u001b[0;32m     25\u001b[0m outliers_mahal, md \u001b[38;5;241m=\u001b[39m mahalanobis_method(dfclass4\u001b[38;5;241m=\u001b[39mdfclass4)\n",
      "\u001b[1;31mTypeError\u001b[0m: mahalanobis_method() got an unexpected keyword argument 'dfclass4_bivariate'"
     ]
    }
   ],
   "source": [
    "#Mahalonibis Distance\n",
    "\n",
    "def mahalanobis_method(x=None, data=dfclass4, cov=None):\n",
    "    #M-Distance\n",
    "    x_minus_mu = dfclass4 - np.mean(dfclass4)\n",
    "    cov = np.cov(dfclass4.values.T)                           #Covariance\n",
    "    inv_covmat = sp.linalg.inv(cov)                     #Inverse covariance\n",
    "    left_term = np.dot(x_minus_mu, inv_covmat) \n",
    "    mahal = np.dot(left_term, x_minus_mu.T)\n",
    "    md = np.sqrt(mahal.diagonal())\n",
    "    \n",
    "    #Flag as outlier\n",
    "    outlier = []\n",
    "    #Cut-off point\n",
    "    C = np.sqrt(chi2.ppf((1-0.001), dfclass4=dfclass4.shape[10]))    #degrees of freedom = number of variables\n",
    "    for index, value in enumerate(md):\n",
    "        if value > C:\n",
    "            outlier.append(index)\n",
    "        else:\n",
    "            continue\n",
    "    return outlier, md\n",
    "\n",
    "outliers_mahal_bi, md_bi = mahalanobis_method(dfclass4_bivariate=dfclass4)\n",
    "\n",
    "outliers_mahal, md = mahalanobis_method(dfclass4=dfclass4)"
   ]
  },
  {
   "cell_type": "code",
   "execution_count": 40,
   "id": "6ef6ebf1",
   "metadata": {},
   "outputs": [
    {
     "name": "stderr",
     "output_type": "stream",
     "text": [
      "C:\\Anaconda3\\lib\\site-packages\\numpy\\core\\fromnumeric.py:3438: FutureWarning: In a future version, DataFrame.mean(axis=None) will return a scalar mean over the entire DataFrame. To retain the old behavior, use 'frame.mean(axis=0)' or just 'frame.mean()'\n",
      "  return mean(axis=axis, dtype=dtype, out=out, **kwargs)\n",
      "C:\\Anaconda3\\lib\\site-packages\\numpy\\core\\fromnumeric.py:3438: FutureWarning: Dropping of nuisance columns in DataFrame reductions (with 'numeric_only=None') is deprecated; in a future version this will raise TypeError.  Select only valid columns before calling the reduction.\n",
      "  return mean(axis=axis, dtype=dtype, out=out, **kwargs)\n"
     ]
    },
    {
     "ename": "TypeError",
     "evalue": "unsupported operand type(s) for /: 'str' and 'int'",
     "output_type": "error",
     "traceback": [
      "\u001b[1;31m---------------------------------------------------------------------------\u001b[0m",
      "\u001b[1;31mTypeError\u001b[0m                                 Traceback (most recent call last)",
      "Input \u001b[1;32mIn [40]\u001b[0m, in \u001b[0;36m<cell line: 2>\u001b[1;34m()\u001b[0m\n\u001b[0;32m      1\u001b[0m dfclass4_bivariate\u001b[38;5;241m=\u001b[39mdfclass4\n\u001b[1;32m----> 2\u001b[0m outliers_mahal_bi, md_bi \u001b[38;5;241m=\u001b[39m \u001b[43mmahalanobis_method\u001b[49m\u001b[43m(\u001b[49m\u001b[43mdfclass4_bivariate\u001b[49m\u001b[43m)\u001b[49m\n",
      "Input \u001b[1;32mIn [38]\u001b[0m, in \u001b[0;36mmahalanobis_method\u001b[1;34m(x, data, cov)\u001b[0m\n\u001b[0;32m      3\u001b[0m \u001b[38;5;28;01mdef\u001b[39;00m \u001b[38;5;21mmahalanobis_method\u001b[39m(x\u001b[38;5;241m=\u001b[39m\u001b[38;5;28;01mNone\u001b[39;00m, data\u001b[38;5;241m=\u001b[39mdfclass4, cov\u001b[38;5;241m=\u001b[39m\u001b[38;5;28;01mNone\u001b[39;00m):\n\u001b[0;32m      4\u001b[0m     \u001b[38;5;66;03m#M-Distance\u001b[39;00m\n\u001b[0;32m      5\u001b[0m     x_minus_mu \u001b[38;5;241m=\u001b[39m dfclass4 \u001b[38;5;241m-\u001b[39m np\u001b[38;5;241m.\u001b[39mmean(dfclass4)\n\u001b[1;32m----> 6\u001b[0m     cov \u001b[38;5;241m=\u001b[39m \u001b[43mnp\u001b[49m\u001b[38;5;241;43m.\u001b[39;49m\u001b[43mcov\u001b[49m\u001b[43m(\u001b[49m\u001b[43mdfclass4\u001b[49m\u001b[38;5;241;43m.\u001b[39;49m\u001b[43mvalues\u001b[49m\u001b[38;5;241;43m.\u001b[39;49m\u001b[43mT\u001b[49m\u001b[43m)\u001b[49m                           \u001b[38;5;66;03m#Covariance\u001b[39;00m\n\u001b[0;32m      7\u001b[0m     inv_covmat \u001b[38;5;241m=\u001b[39m sp\u001b[38;5;241m.\u001b[39mlinalg\u001b[38;5;241m.\u001b[39minv(cov)                     \u001b[38;5;66;03m#Inverse covariance\u001b[39;00m\n\u001b[0;32m      8\u001b[0m     left_term \u001b[38;5;241m=\u001b[39m np\u001b[38;5;241m.\u001b[39mdot(x_minus_mu, inv_covmat) \n",
      "File \u001b[1;32m<__array_function__ internals>:5\u001b[0m, in \u001b[0;36mcov\u001b[1;34m(*args, **kwargs)\u001b[0m\n",
      "File \u001b[1;32mC:\\Anaconda3\\lib\\site-packages\\numpy\\lib\\function_base.py:2518\u001b[0m, in \u001b[0;36mcov\u001b[1;34m(m, y, rowvar, bias, ddof, fweights, aweights, dtype)\u001b[0m\n\u001b[0;32m   2515\u001b[0m     \u001b[38;5;28;01melse\u001b[39;00m:\n\u001b[0;32m   2516\u001b[0m         w \u001b[38;5;241m*\u001b[39m\u001b[38;5;241m=\u001b[39m aweights\n\u001b[1;32m-> 2518\u001b[0m avg, w_sum \u001b[38;5;241m=\u001b[39m \u001b[43maverage\u001b[49m\u001b[43m(\u001b[49m\u001b[43mX\u001b[49m\u001b[43m,\u001b[49m\u001b[43m \u001b[49m\u001b[43maxis\u001b[49m\u001b[38;5;241;43m=\u001b[39;49m\u001b[38;5;241;43m1\u001b[39;49m\u001b[43m,\u001b[49m\u001b[43m \u001b[49m\u001b[43mweights\u001b[49m\u001b[38;5;241;43m=\u001b[39;49m\u001b[43mw\u001b[49m\u001b[43m,\u001b[49m\u001b[43m \u001b[49m\u001b[43mreturned\u001b[49m\u001b[38;5;241;43m=\u001b[39;49m\u001b[38;5;28;43;01mTrue\u001b[39;49;00m\u001b[43m)\u001b[49m\n\u001b[0;32m   2519\u001b[0m w_sum \u001b[38;5;241m=\u001b[39m w_sum[\u001b[38;5;241m0\u001b[39m]\n\u001b[0;32m   2521\u001b[0m \u001b[38;5;66;03m# Determine the normalization\u001b[39;00m\n",
      "File \u001b[1;32m<__array_function__ internals>:5\u001b[0m, in \u001b[0;36maverage\u001b[1;34m(*args, **kwargs)\u001b[0m\n",
      "File \u001b[1;32mC:\\Anaconda3\\lib\\site-packages\\numpy\\lib\\function_base.py:380\u001b[0m, in \u001b[0;36maverage\u001b[1;34m(a, axis, weights, returned)\u001b[0m\n\u001b[0;32m    377\u001b[0m a \u001b[38;5;241m=\u001b[39m np\u001b[38;5;241m.\u001b[39masanyarray(a)\n\u001b[0;32m    379\u001b[0m \u001b[38;5;28;01mif\u001b[39;00m weights \u001b[38;5;129;01mis\u001b[39;00m \u001b[38;5;28;01mNone\u001b[39;00m:\n\u001b[1;32m--> 380\u001b[0m     avg \u001b[38;5;241m=\u001b[39m \u001b[43ma\u001b[49m\u001b[38;5;241;43m.\u001b[39;49m\u001b[43mmean\u001b[49m\u001b[43m(\u001b[49m\u001b[43maxis\u001b[49m\u001b[43m)\u001b[49m\n\u001b[0;32m    381\u001b[0m     scl \u001b[38;5;241m=\u001b[39m avg\u001b[38;5;241m.\u001b[39mdtype\u001b[38;5;241m.\u001b[39mtype(a\u001b[38;5;241m.\u001b[39msize\u001b[38;5;241m/\u001b[39mavg\u001b[38;5;241m.\u001b[39msize)\n\u001b[0;32m    382\u001b[0m \u001b[38;5;28;01melse\u001b[39;00m:\n",
      "File \u001b[1;32mC:\\Anaconda3\\lib\\site-packages\\numpy\\core\\_methods.py:181\u001b[0m, in \u001b[0;36m_mean\u001b[1;34m(a, axis, dtype, out, keepdims, where)\u001b[0m\n\u001b[0;32m    179\u001b[0m ret \u001b[38;5;241m=\u001b[39m umr_sum(arr, axis, dtype, out, keepdims, where\u001b[38;5;241m=\u001b[39mwhere)\n\u001b[0;32m    180\u001b[0m \u001b[38;5;28;01mif\u001b[39;00m \u001b[38;5;28misinstance\u001b[39m(ret, mu\u001b[38;5;241m.\u001b[39mndarray):\n\u001b[1;32m--> 181\u001b[0m     ret \u001b[38;5;241m=\u001b[39m \u001b[43mum\u001b[49m\u001b[38;5;241;43m.\u001b[39;49m\u001b[43mtrue_divide\u001b[49m\u001b[43m(\u001b[49m\n\u001b[0;32m    182\u001b[0m \u001b[43m            \u001b[49m\u001b[43mret\u001b[49m\u001b[43m,\u001b[49m\u001b[43m \u001b[49m\u001b[43mrcount\u001b[49m\u001b[43m,\u001b[49m\u001b[43m \u001b[49m\u001b[43mout\u001b[49m\u001b[38;5;241;43m=\u001b[39;49m\u001b[43mret\u001b[49m\u001b[43m,\u001b[49m\u001b[43m \u001b[49m\u001b[43mcasting\u001b[49m\u001b[38;5;241;43m=\u001b[39;49m\u001b[38;5;124;43m'\u001b[39;49m\u001b[38;5;124;43munsafe\u001b[39;49m\u001b[38;5;124;43m'\u001b[39;49m\u001b[43m,\u001b[49m\u001b[43m \u001b[49m\u001b[43msubok\u001b[49m\u001b[38;5;241;43m=\u001b[39;49m\u001b[38;5;28;43;01mFalse\u001b[39;49;00m\u001b[43m)\u001b[49m\n\u001b[0;32m    183\u001b[0m     \u001b[38;5;28;01mif\u001b[39;00m is_float16_result \u001b[38;5;129;01mand\u001b[39;00m out \u001b[38;5;129;01mis\u001b[39;00m \u001b[38;5;28;01mNone\u001b[39;00m:\n\u001b[0;32m    184\u001b[0m         ret \u001b[38;5;241m=\u001b[39m arr\u001b[38;5;241m.\u001b[39mdtype\u001b[38;5;241m.\u001b[39mtype(ret)\n",
      "\u001b[1;31mTypeError\u001b[0m: unsupported operand type(s) for /: 'str' and 'int'"
     ]
    }
   ],
   "source": [
    "dfclass4_bivariate=dfclass4\n",
    "outliers_mahal_bi, md_bi = mahalanobis_method(dfclass4_bivariate)"
   ]
  },
  {
   "cell_type": "code",
   "execution_count": 29,
   "id": "4ed732c4",
   "metadata": {},
   "outputs": [
    {
     "ename": "NameError",
     "evalue": "name 'dfclass4_bivariate' is not defined",
     "output_type": "error",
     "traceback": [
      "\u001b[1;31m---------------------------------------------------------------------------\u001b[0m",
      "\u001b[1;31mNameError\u001b[0m                                 Traceback (most recent call last)",
      "Input \u001b[1;32mIn [29]\u001b[0m, in \u001b[0;36m<cell line: 23>\u001b[1;34m()\u001b[0m\n\u001b[0;32m     20\u001b[0m             \u001b[38;5;28;01mcontinue\u001b[39;00m\n\u001b[0;32m     21\u001b[0m     \u001b[38;5;28;01mreturn\u001b[39;00m outlier, md\n\u001b[1;32m---> 23\u001b[0m outliers_mahal_bi, md_bi \u001b[38;5;241m=\u001b[39m mahalanobis_method(dfclass4\u001b[38;5;241m=\u001b[39m\u001b[43mdfclass4_bivariate\u001b[49m)\n",
      "\u001b[1;31mNameError\u001b[0m: name 'dfclass4_bivariate' is not defined"
     ]
    }
   ],
   "source": [
    "#Mahalonibis Distance\n",
    "\n",
    "def mahalanobis_method(dfclass4):\n",
    "    #M-Distance\n",
    "    x_minus_mu = dfclass4 - np.mean(dfclass4)\n",
    "    cov = np.cov(dfclass4.values.T)                           #Covariance\n",
    "    inv_covmat = sp.linalg.inv(cov)                     #Inverse covariance\n",
    "    left_term = np.dot(x_minus_mu, inv_covmat) \n",
    "    mahal = np.dot(left_term, x_minus_mu.T)\n",
    "    md = np.sqrt(mahal.diagonal())\n",
    "    \n",
    "    #Flag as outlier\n",
    "    outlier = []\n",
    "    #Cut-off point\n",
    "    C = np.sqrt(chi2.ppf((1-0.001), dfclass4=dfclass4.shape[10]))    #degrees of freedom = number of variables\n",
    "    for index, value in enumerate(md):\n",
    "        if value > C:\n",
    "            outlier.append(index)\n",
    "        else:\n",
    "            continue\n",
    "    return outlier, md\n",
    "\n",
    "outliers_mahal_bi, md_bi = mahalanobis_method(dfclass4=dfclass4_bivariate)\n",
    "\n",
    "#outliers_mahal, md = mahalanobis_method(dfclass4=dfclass4)"
   ]
  },
  {
   "cell_type": "code",
   "execution_count": 45,
   "id": "241c0b9c",
   "metadata": {},
   "outputs": [
    {
     "data": {
      "text/plain": [
       "Class_name     object\n",
       "Class_id      float64\n",
       "BD1             int64\n",
       "BD2             int64\n",
       "BD3             int64\n",
       "BD4             int64\n",
       "BD5             int64\n",
       "BD6             int64\n",
       "BD7             int64\n",
       "BD8             int64\n",
       "BD9             int64\n",
       "BD10            int64\n",
       "dtype: object"
      ]
     },
     "execution_count": 45,
     "metadata": {},
     "output_type": "execute_result"
    }
   ],
   "source": [
    "dfclass4.dtypes\n"
   ]
  },
  {
   "cell_type": "code",
   "execution_count": null,
   "id": "5e085d0a",
   "metadata": {},
   "outputs": [],
   "source": []
  }
 ],
 "metadata": {
  "kernelspec": {
   "display_name": "Python 3 (ipykernel)",
   "language": "python",
   "name": "python3"
  },
  "language_info": {
   "codemirror_mode": {
    "name": "ipython",
    "version": 3
   },
   "file_extension": ".py",
   "mimetype": "text/x-python",
   "name": "python",
   "nbconvert_exporter": "python",
   "pygments_lexer": "ipython3",
   "version": "3.9.12"
  }
 },
 "nbformat": 4,
 "nbformat_minor": 5
}
