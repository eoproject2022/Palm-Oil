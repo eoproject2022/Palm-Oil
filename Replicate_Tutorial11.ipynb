{
  "cells": [
    {
      "cell_type": "markdown",
      "metadata": {
        "id": "view-in-github",
        "colab_type": "text"
      },
      "source": [
        "<a href=\"https://colab.research.google.com/github/eoproject2022/Palm-Oil/blob/main/Replicate_Tutorial11.ipynb\" target=\"_parent\"><img src=\"https://colab.research.google.com/assets/colab-badge.svg\" alt=\"Open In Colab\"/></a>"
      ]
    },
    {
      "cell_type": "markdown",
      "metadata": {
        "id": "RNlI9ArkLiED"
      },
      "source": [
        "<a href=\"https://githubtocolab.com/giswqs/geemap/blob/master/examples/notebooks/11_export_image.ipynb\" target=\"_parent\"><img src=\"https://colab.research.google.com/assets/colab-badge.svg\" alt=\"Open in Colab\"/></a>\n",
        "\n",
        "Uncomment the following line to install [geemap](https://geemap.org) if needed."
      ]
    },
    {
      "cell_type": "code",
      "execution_count": 1,
      "metadata": {
        "id": "qBERsgPfLiEH",
        "colab": {
          "base_uri": "https://localhost:8080/",
          "height": 1000
        },
        "outputId": "22e35680-7742-47c6-a6bf-5bc81d4c7b5f"
      },
      "outputs": [
        {
          "output_type": "stream",
          "name": "stdout",
          "text": [
            "Looking in indexes: https://pypi.org/simple, https://us-python.pkg.dev/colab-wheels/public/simple/\n",
            "Collecting geemap\n",
            "  Downloading geemap-0.17.1-py2.py3-none-any.whl (2.1 MB)\n",
            "\u001b[K     |████████████████████████████████| 2.1 MB 5.1 MB/s \n",
            "\u001b[?25hCollecting ee-extra>=0.0.10\n",
            "  Downloading ee_extra-0.0.14.tar.gz (198 kB)\n",
            "\u001b[K     |████████████████████████████████| 198 kB 52.9 MB/s \n",
            "\u001b[?25hCollecting whiteboxgui>=0.6.0\n",
            "  Downloading whiteboxgui-0.7.0-py2.py3-none-any.whl (99 kB)\n",
            "\u001b[K     |████████████████████████████████| 99 kB 8.8 MB/s \n",
            "\u001b[?25hCollecting ipyleaflet>=0.17.0\n",
            "  Downloading ipyleaflet-0.17.1-py3-none-any.whl (3.4 MB)\n",
            "\u001b[K     |████████████████████████████████| 3.4 MB 35.8 MB/s \n",
            "\u001b[?25hRequirement already satisfied: matplotlib in /usr/local/lib/python3.7/dist-packages (from geemap) (3.2.2)\n",
            "Requirement already satisfied: earthengine-api>=0.1.304 in /usr/local/lib/python3.7/dist-packages (from geemap) (0.1.326)\n",
            "Collecting ipyevents\n",
            "  Downloading ipyevents-2.0.1-py2.py3-none-any.whl (130 kB)\n",
            "\u001b[K     |████████████████████████████████| 130 kB 38.4 MB/s \n",
            "\u001b[?25hCollecting ipyfilechooser>=0.6.0\n",
            "  Downloading ipyfilechooser-0.6.0-py3-none-any.whl (11 kB)\n",
            "Requirement already satisfied: pandas in /usr/local/lib/python3.7/dist-packages (from geemap) (1.3.5)\n",
            "Collecting bqplot\n",
            "  Downloading bqplot-0.12.36-py2.py3-none-any.whl (1.2 MB)\n",
            "\u001b[K     |████████████████████████████████| 1.2 MB 63.5 MB/s \n",
            "\u001b[?25hRequirement already satisfied: folium>=0.11.0 in /usr/local/lib/python3.7/dist-packages (from geemap) (0.12.1.post1)\n",
            "Collecting geeadd>=0.5.1\n",
            "  Downloading geeadd-0.5.6-py3-none-any.whl (30 kB)\n",
            "Collecting python-box\n",
            "  Downloading python_box-6.0.2-cp37-cp37m-manylinux_2_17_x86_64.manylinux2014_x86_64.whl (3.0 MB)\n",
            "\u001b[K     |████████████████████████████████| 3.0 MB 31.5 MB/s \n",
            "\u001b[?25hCollecting geocoder\n",
            "  Downloading geocoder-1.38.1-py2.py3-none-any.whl (98 kB)\n",
            "\u001b[K     |████████████████████████████████| 98 kB 6.5 MB/s \n",
            "\u001b[?25hCollecting scooby\n",
            "  Downloading scooby-0.6.0-py3-none-any.whl (14 kB)\n",
            "Collecting ffmpeg-python\n",
            "  Downloading ffmpeg_python-0.2.0-py3-none-any.whl (25 kB)\n",
            "Collecting geojson\n",
            "  Downloading geojson-2.5.0-py2.py3-none-any.whl (14 kB)\n",
            "Collecting jupyterlab>=3\n",
            "  Downloading jupyterlab-3.4.8-py3-none-any.whl (8.8 MB)\n",
            "\u001b[K     |████████████████████████████████| 8.8 MB 33.1 MB/s \n",
            "\u001b[?25hRequirement already satisfied: gdown in /usr/local/lib/python3.7/dist-packages (from geemap) (4.4.0)\n",
            "Collecting pycrs\n",
            "  Downloading PyCRS-1.0.2.tar.gz (36 kB)\n",
            "Collecting pyshp>=2.1.3\n",
            "  Downloading pyshp-2.3.1-py2.py3-none-any.whl (46 kB)\n",
            "\u001b[K     |████████████████████████████████| 46 kB 3.6 MB/s \n",
            "\u001b[?25hCollecting xyzservices\n",
            "  Downloading xyzservices-2022.9.0-py3-none-any.whl (55 kB)\n",
            "\u001b[K     |████████████████████████████████| 55 kB 3.6 MB/s \n",
            "\u001b[?25hRequirement already satisfied: pillow in /usr/local/lib/python3.7/dist-packages (from geemap) (7.1.2)\n",
            "Collecting sankee>=0.1.0\n",
            "  Downloading sankee-0.2.0.tar.gz (29 kB)\n",
            "Collecting colour\n",
            "  Downloading colour-0.1.5-py2.py3-none-any.whl (23 kB)\n",
            "Collecting ipytree\n",
            "  Downloading ipytree-0.2.2-py2.py3-none-any.whl (1.3 MB)\n",
            "\u001b[K     |████████████████████████████████| 1.3 MB 48.0 MB/s \n",
            "\u001b[?25hRequirement already satisfied: numpy in /usr/local/lib/python3.7/dist-packages (from geemap) (1.21.6)\n",
            "Requirement already satisfied: httplib2shim in /usr/local/lib/python3.7/dist-packages (from earthengine-api>=0.1.304->geemap) (0.0.3)\n",
            "Requirement already satisfied: google-auth>=1.4.1 in /usr/local/lib/python3.7/dist-packages (from earthengine-api>=0.1.304->geemap) (1.35.0)\n",
            "Requirement already satisfied: future in /usr/local/lib/python3.7/dist-packages (from earthengine-api>=0.1.304->geemap) (0.16.0)\n",
            "Requirement already satisfied: httplib2<1dev,>=0.9.2 in /usr/local/lib/python3.7/dist-packages (from earthengine-api>=0.1.304->geemap) (0.17.4)\n",
            "Requirement already satisfied: google-auth-httplib2>=0.0.3 in /usr/local/lib/python3.7/dist-packages (from earthengine-api>=0.1.304->geemap) (0.0.4)\n",
            "Requirement already satisfied: google-api-python-client<2,>=1.12.1 in /usr/local/lib/python3.7/dist-packages (from earthengine-api>=0.1.304->geemap) (1.12.11)\n",
            "Requirement already satisfied: google-cloud-storage in /usr/local/lib/python3.7/dist-packages (from earthengine-api>=0.1.304->geemap) (1.18.1)\n",
            "Requirement already satisfied: six in /usr/local/lib/python3.7/dist-packages (from earthengine-api>=0.1.304->geemap) (1.15.0)\n",
            "Requirement already satisfied: requests in /usr/local/lib/python3.7/dist-packages (from folium>=0.11.0->geemap) (2.23.0)\n",
            "Requirement already satisfied: jinja2>=2.9 in /usr/local/lib/python3.7/dist-packages (from folium>=0.11.0->geemap) (2.11.3)\n",
            "Requirement already satisfied: branca>=0.3.0 in /usr/local/lib/python3.7/dist-packages (from folium>=0.11.0->geemap) (0.5.0)\n",
            "Collecting beautifulsoup4>=4.9.0\n",
            "  Downloading beautifulsoup4-4.11.1-py3-none-any.whl (128 kB)\n",
            "\u001b[K     |████████████████████████████████| 128 kB 44.8 MB/s \n",
            "\u001b[?25hCollecting logzero>=1.5.0\n",
            "  Downloading logzero-1.7.0-py2.py3-none-any.whl (16 kB)\n",
            "Collecting soupsieve>1.2\n",
            "  Downloading soupsieve-2.3.2.post1-py3-none-any.whl (37 kB)\n",
            "Requirement already satisfied: google-api-core<3dev,>=1.21.0 in /usr/local/lib/python3.7/dist-packages (from google-api-python-client<2,>=1.12.1->earthengine-api>=0.1.304->geemap) (1.31.6)\n",
            "Requirement already satisfied: uritemplate<4dev,>=3.0.0 in /usr/local/lib/python3.7/dist-packages (from google-api-python-client<2,>=1.12.1->earthengine-api>=0.1.304->geemap) (3.0.1)\n",
            "Requirement already satisfied: setuptools>=40.3.0 in /usr/local/lib/python3.7/dist-packages (from google-api-core<3dev,>=1.21.0->google-api-python-client<2,>=1.12.1->earthengine-api>=0.1.304->geemap) (57.4.0)\n",
            "Requirement already satisfied: packaging>=14.3 in /usr/local/lib/python3.7/dist-packages (from google-api-core<3dev,>=1.21.0->google-api-python-client<2,>=1.12.1->earthengine-api>=0.1.304->geemap) (21.3)\n",
            "Requirement already satisfied: googleapis-common-protos<2.0dev,>=1.6.0 in /usr/local/lib/python3.7/dist-packages (from google-api-core<3dev,>=1.21.0->google-api-python-client<2,>=1.12.1->earthengine-api>=0.1.304->geemap) (1.56.4)\n",
            "Requirement already satisfied: protobuf<4.0.0dev,>=3.12.0 in /usr/local/lib/python3.7/dist-packages (from google-api-core<3dev,>=1.21.0->google-api-python-client<2,>=1.12.1->earthengine-api>=0.1.304->geemap) (3.17.3)\n",
            "Requirement already satisfied: pytz in /usr/local/lib/python3.7/dist-packages (from google-api-core<3dev,>=1.21.0->google-api-python-client<2,>=1.12.1->earthengine-api>=0.1.304->geemap) (2022.4)\n",
            "Requirement already satisfied: cachetools<5.0,>=2.0.0 in /usr/local/lib/python3.7/dist-packages (from google-auth>=1.4.1->earthengine-api>=0.1.304->geemap) (4.2.4)\n",
            "Requirement already satisfied: rsa<5,>=3.1.4 in /usr/local/lib/python3.7/dist-packages (from google-auth>=1.4.1->earthengine-api>=0.1.304->geemap) (4.9)\n",
            "Requirement already satisfied: pyasn1-modules>=0.2.1 in /usr/local/lib/python3.7/dist-packages (from google-auth>=1.4.1->earthengine-api>=0.1.304->geemap) (0.2.8)\n",
            "Requirement already satisfied: ipywidgets in /usr/local/lib/python3.7/dist-packages (from ipyfilechooser>=0.6.0->geemap) (7.7.1)\n",
            "Collecting traittypes<3,>=0.2.1\n",
            "  Downloading traittypes-0.2.1-py2.py3-none-any.whl (8.6 kB)\n",
            "Requirement already satisfied: ipython>=4.0.0 in /usr/local/lib/python3.7/dist-packages (from ipywidgets->ipyfilechooser>=0.6.0->geemap) (7.9.0)\n",
            "Requirement already satisfied: ipykernel>=4.5.1 in /usr/local/lib/python3.7/dist-packages (from ipywidgets->ipyfilechooser>=0.6.0->geemap) (5.3.4)\n",
            "Requirement already satisfied: widgetsnbextension~=3.6.0 in /usr/local/lib/python3.7/dist-packages (from ipywidgets->ipyfilechooser>=0.6.0->geemap) (3.6.1)\n",
            "Requirement already satisfied: traitlets>=4.3.1 in /usr/local/lib/python3.7/dist-packages (from ipywidgets->ipyfilechooser>=0.6.0->geemap) (5.1.1)\n",
            "Requirement already satisfied: jupyterlab-widgets>=1.0.0 in /usr/local/lib/python3.7/dist-packages (from ipywidgets->ipyfilechooser>=0.6.0->geemap) (3.0.3)\n",
            "Requirement already satisfied: ipython-genutils~=0.2.0 in /usr/local/lib/python3.7/dist-packages (from ipywidgets->ipyfilechooser>=0.6.0->geemap) (0.2.0)\n",
            "Requirement already satisfied: tornado>=4.2 in /usr/local/lib/python3.7/dist-packages (from ipykernel>=4.5.1->ipywidgets->ipyfilechooser>=0.6.0->geemap) (5.1.1)\n",
            "Requirement already satisfied: jupyter-client in /usr/local/lib/python3.7/dist-packages (from ipykernel>=4.5.1->ipywidgets->ipyfilechooser>=0.6.0->geemap) (6.1.12)\n",
            "Requirement already satisfied: decorator in /usr/local/lib/python3.7/dist-packages (from ipython>=4.0.0->ipywidgets->ipyfilechooser>=0.6.0->geemap) (4.4.2)\n",
            "Requirement already satisfied: prompt-toolkit<2.1.0,>=2.0.0 in /usr/local/lib/python3.7/dist-packages (from ipython>=4.0.0->ipywidgets->ipyfilechooser>=0.6.0->geemap) (2.0.10)\n",
            "Requirement already satisfied: backcall in /usr/local/lib/python3.7/dist-packages (from ipython>=4.0.0->ipywidgets->ipyfilechooser>=0.6.0->geemap) (0.2.0)\n",
            "Collecting jedi>=0.10\n",
            "  Downloading jedi-0.18.1-py2.py3-none-any.whl (1.6 MB)\n",
            "\u001b[K     |████████████████████████████████| 1.6 MB 43.1 MB/s \n",
            "\u001b[?25hRequirement already satisfied: pexpect in /usr/local/lib/python3.7/dist-packages (from ipython>=4.0.0->ipywidgets->ipyfilechooser>=0.6.0->geemap) (4.8.0)\n",
            "Requirement already satisfied: pickleshare in /usr/local/lib/python3.7/dist-packages (from ipython>=4.0.0->ipywidgets->ipyfilechooser>=0.6.0->geemap) (0.7.5)\n",
            "Requirement already satisfied: pygments in /usr/local/lib/python3.7/dist-packages (from ipython>=4.0.0->ipywidgets->ipyfilechooser>=0.6.0->geemap) (2.6.1)\n",
            "Requirement already satisfied: parso<0.9.0,>=0.8.0 in /usr/local/lib/python3.7/dist-packages (from jedi>=0.10->ipython>=4.0.0->ipywidgets->ipyfilechooser>=0.6.0->geemap) (0.8.3)\n",
            "Requirement already satisfied: MarkupSafe>=0.23 in /usr/local/lib/python3.7/dist-packages (from jinja2>=2.9->folium>=0.11.0->geemap) (2.0.1)\n",
            "Requirement already satisfied: notebook<7 in /usr/local/lib/python3.7/dist-packages (from jupyterlab>=3->geemap) (5.5.0)\n",
            "Collecting tornado>=4.2\n",
            "  Downloading tornado-6.2-cp37-abi3-manylinux_2_5_x86_64.manylinux1_x86_64.manylinux_2_17_x86_64.manylinux2014_x86_64.whl (423 kB)\n",
            "\u001b[K     |████████████████████████████████| 423 kB 42.3 MB/s \n",
            "\u001b[?25hCollecting jupyterlab-server~=2.10\n",
            "  Downloading jupyterlab_server-2.16.0-py3-none-any.whl (54 kB)\n",
            "\u001b[K     |████████████████████████████████| 54 kB 2.2 MB/s \n",
            "\u001b[?25hRequirement already satisfied: tomli in /usr/local/lib/python3.7/dist-packages (from jupyterlab>=3->geemap) (2.0.1)\n",
            "Collecting jupyter-server~=1.16\n",
            "  Downloading jupyter_server-1.21.0-py3-none-any.whl (346 kB)\n",
            "\u001b[K     |████████████████████████████████| 346 kB 64.7 MB/s \n",
            "\u001b[?25hCollecting nbclassic\n",
            "  Downloading nbclassic-0.4.6-py3-none-any.whl (9.8 MB)\n",
            "\u001b[K     |████████████████████████████████| 9.8 MB 42.2 MB/s \n",
            "\u001b[?25hRequirement already satisfied: jupyter-core in /usr/local/lib/python3.7/dist-packages (from jupyterlab>=3->geemap) (4.11.1)\n",
            "Requirement already satisfied: nbformat>=5.2.0 in /usr/local/lib/python3.7/dist-packages (from jupyter-server~=1.16->jupyterlab>=3->geemap) (5.7.0)\n",
            "Collecting nbconvert>=6.4.4\n",
            "  Downloading nbconvert-7.2.1-py3-none-any.whl (271 kB)\n",
            "\u001b[K     |████████████████████████████████| 271 kB 36.2 MB/s \n",
            "\u001b[?25hCollecting prometheus-client\n",
            "  Downloading prometheus_client-0.15.0-py3-none-any.whl (60 kB)\n",
            "\u001b[K     |████████████████████████████████| 60 kB 6.0 MB/s \n",
            "\u001b[?25hRequirement already satisfied: terminado>=0.8.3 in /usr/local/lib/python3.7/dist-packages (from jupyter-server~=1.16->jupyterlab>=3->geemap) (0.13.3)\n",
            "Collecting argon2-cffi\n",
            "  Downloading argon2_cffi-21.3.0-py3-none-any.whl (14 kB)\n",
            "Requirement already satisfied: Send2Trash in /usr/local/lib/python3.7/dist-packages (from jupyter-server~=1.16->jupyterlab>=3->geemap) (1.8.0)\n",
            "Collecting anyio<4,>=3.1.0\n",
            "  Downloading anyio-3.6.1-py3-none-any.whl (80 kB)\n",
            "\u001b[K     |████████████████████████████████| 80 kB 8.9 MB/s \n",
            "\u001b[?25hCollecting websocket-client\n",
            "  Downloading websocket_client-1.4.1-py3-none-any.whl (55 kB)\n",
            "\u001b[K     |████████████████████████████████| 55 kB 2.9 MB/s \n",
            "\u001b[?25hRequirement already satisfied: pyzmq>=17 in /usr/local/lib/python3.7/dist-packages (from jupyter-server~=1.16->jupyterlab>=3->geemap) (23.2.1)\n",
            "Collecting sniffio>=1.1\n",
            "  Downloading sniffio-1.3.0-py3-none-any.whl (10 kB)\n",
            "Requirement already satisfied: idna>=2.8 in /usr/local/lib/python3.7/dist-packages (from anyio<4,>=3.1.0->jupyter-server~=1.16->jupyterlab>=3->geemap) (2.10)\n",
            "Requirement already satisfied: typing-extensions in /usr/local/lib/python3.7/dist-packages (from anyio<4,>=3.1.0->jupyter-server~=1.16->jupyterlab>=3->geemap) (4.1.1)\n",
            "Requirement already satisfied: python-dateutil>=2.1 in /usr/local/lib/python3.7/dist-packages (from jupyter-client->ipykernel>=4.5.1->ipywidgets->ipyfilechooser>=0.6.0->geemap) (2.8.2)\n",
            "Requirement already satisfied: babel in /usr/local/lib/python3.7/dist-packages (from jupyterlab-server~=2.10->jupyterlab>=3->geemap) (2.10.3)\n",
            "Collecting jinja2>=2.9\n",
            "  Downloading Jinja2-3.1.2-py3-none-any.whl (133 kB)\n",
            "\u001b[K     |████████████████████████████████| 133 kB 46.1 MB/s \n",
            "\u001b[?25hRequirement already satisfied: importlib-metadata>=4.8.3 in /usr/local/lib/python3.7/dist-packages (from jupyterlab-server~=2.10->jupyterlab>=3->geemap) (5.0.0)\n",
            "Collecting json5\n",
            "  Downloading json5-0.9.10-py2.py3-none-any.whl (19 kB)\n",
            "Requirement already satisfied: jsonschema>=3.0.1 in /usr/local/lib/python3.7/dist-packages (from jupyterlab-server~=2.10->jupyterlab>=3->geemap) (4.3.3)\n",
            "Requirement already satisfied: zipp>=0.5 in /usr/local/lib/python3.7/dist-packages (from importlib-metadata>=4.8.3->jupyterlab-server~=2.10->jupyterlab>=3->geemap) (3.9.0)\n",
            "Requirement already satisfied: attrs>=17.4.0 in /usr/local/lib/python3.7/dist-packages (from jsonschema>=3.0.1->jupyterlab-server~=2.10->jupyterlab>=3->geemap) (22.1.0)\n",
            "Requirement already satisfied: importlib-resources>=1.4.0 in /usr/local/lib/python3.7/dist-packages (from jsonschema>=3.0.1->jupyterlab-server~=2.10->jupyterlab>=3->geemap) (5.10.0)\n",
            "Requirement already satisfied: pyrsistent!=0.17.0,!=0.17.1,!=0.17.2,>=0.14.0 in /usr/local/lib/python3.7/dist-packages (from jsonschema>=3.0.1->jupyterlab-server~=2.10->jupyterlab>=3->geemap) (0.18.1)\n",
            "Collecting nbclient>=0.5.0\n",
            "  Downloading nbclient-0.7.0-py3-none-any.whl (71 kB)\n",
            "\u001b[K     |████████████████████████████████| 71 kB 125 kB/s \n",
            "\u001b[?25hRequirement already satisfied: pandocfilters>=1.4.1 in /usr/local/lib/python3.7/dist-packages (from nbconvert>=6.4.4->jupyter-server~=1.16->jupyterlab>=3->geemap) (1.5.0)\n",
            "Collecting mistune<3,>=2.0.3\n",
            "  Downloading mistune-2.0.4-py2.py3-none-any.whl (24 kB)\n",
            "Collecting tinycss2\n",
            "  Downloading tinycss2-1.1.1-py3-none-any.whl (21 kB)\n",
            "Collecting jupyterlab-pygments\n",
            "  Downloading jupyterlab_pygments-0.2.2-py2.py3-none-any.whl (21 kB)\n",
            "Requirement already satisfied: bleach in /usr/local/lib/python3.7/dist-packages (from nbconvert>=6.4.4->jupyter-server~=1.16->jupyterlab>=3->geemap) (5.0.1)\n",
            "Requirement already satisfied: defusedxml in /usr/local/lib/python3.7/dist-packages (from nbconvert>=6.4.4->jupyter-server~=1.16->jupyterlab>=3->geemap) (0.7.1)\n",
            "Collecting nest-asyncio\n",
            "  Downloading nest_asyncio-1.5.6-py3-none-any.whl (5.2 kB)\n",
            "Collecting traitlets>=4.3.1\n",
            "  Downloading traitlets-5.4.0-py3-none-any.whl (107 kB)\n",
            "\u001b[K     |████████████████████████████████| 107 kB 45.8 MB/s \n",
            "\u001b[?25hRequirement already satisfied: fastjsonschema in /usr/local/lib/python3.7/dist-packages (from nbformat>=5.2.0->jupyter-server~=1.16->jupyterlab>=3->geemap) (2.16.2)\n",
            "Requirement already satisfied: pyparsing!=3.0.5,>=2.0.2 in /usr/local/lib/python3.7/dist-packages (from packaging>=14.3->google-api-core<3dev,>=1.21.0->google-api-python-client<2,>=1.12.1->earthengine-api>=0.1.304->geemap) (3.0.9)\n",
            "Requirement already satisfied: wcwidth in /usr/local/lib/python3.7/dist-packages (from prompt-toolkit<2.1.0,>=2.0.0->ipython>=4.0.0->ipywidgets->ipyfilechooser>=0.6.0->geemap) (0.2.5)\n",
            "Requirement already satisfied: pyasn1<0.5.0,>=0.4.6 in /usr/local/lib/python3.7/dist-packages (from pyasn1-modules>=0.2.1->google-auth>=1.4.1->earthengine-api>=0.1.304->geemap) (0.4.8)\n",
            "Requirement already satisfied: certifi>=2017.4.17 in /usr/local/lib/python3.7/dist-packages (from requests->folium>=0.11.0->geemap) (2022.9.24)\n",
            "Requirement already satisfied: chardet<4,>=3.0.2 in /usr/local/lib/python3.7/dist-packages (from requests->folium>=0.11.0->geemap) (3.0.4)\n",
            "Requirement already satisfied: urllib3!=1.25.0,!=1.25.1,<1.26,>=1.21.1 in /usr/local/lib/python3.7/dist-packages (from requests->folium>=0.11.0->geemap) (1.24.3)\n",
            "Requirement already satisfied: plotly>=5.2.2 in /usr/local/lib/python3.7/dist-packages (from sankee>=0.1.0->geemap) (5.5.0)\n",
            "Requirement already satisfied: tenacity>=6.2.0 in /usr/local/lib/python3.7/dist-packages (from plotly>=5.2.2->sankee>=0.1.0->geemap) (8.1.0)\n",
            "Requirement already satisfied: ptyprocess in /usr/local/lib/python3.7/dist-packages (from terminado>=0.8.3->jupyter-server~=1.16->jupyterlab>=3->geemap) (0.7.0)\n",
            "Collecting whitebox\n",
            "  Downloading whitebox-2.1.4-py2.py3-none-any.whl (75 kB)\n",
            "\u001b[K     |████████████████████████████████| 75 kB 4.3 MB/s \n",
            "\u001b[?25hCollecting argon2-cffi-bindings\n",
            "  Downloading argon2_cffi_bindings-21.2.0-cp36-abi3-manylinux_2_17_x86_64.manylinux2014_x86_64.whl (86 kB)\n",
            "\u001b[K     |████████████████████████████████| 86 kB 3.7 MB/s \n",
            "\u001b[?25hRequirement already satisfied: cffi>=1.0.1 in /usr/local/lib/python3.7/dist-packages (from argon2-cffi-bindings->argon2-cffi->jupyter-server~=1.16->jupyterlab>=3->geemap) (1.15.1)\n",
            "Requirement already satisfied: pycparser in /usr/local/lib/python3.7/dist-packages (from cffi>=1.0.1->argon2-cffi-bindings->argon2-cffi->jupyter-server~=1.16->jupyterlab>=3->geemap) (2.21)\n",
            "Requirement already satisfied: webencodings in /usr/local/lib/python3.7/dist-packages (from bleach->nbconvert>=6.4.4->jupyter-server~=1.16->jupyterlab>=3->geemap) (0.5.1)\n",
            "Requirement already satisfied: tqdm in /usr/local/lib/python3.7/dist-packages (from gdown->geemap) (4.64.1)\n",
            "Requirement already satisfied: filelock in /usr/local/lib/python3.7/dist-packages (from gdown->geemap) (3.8.0)\n",
            "Requirement already satisfied: click in /usr/local/lib/python3.7/dist-packages (from geocoder->geemap) (7.1.2)\n",
            "Collecting ratelim\n",
            "  Downloading ratelim-0.1.6-py2.py3-none-any.whl (4.0 kB)\n",
            "Requirement already satisfied: google-cloud-core<2.0dev,>=1.0.0 in /usr/local/lib/python3.7/dist-packages (from google-cloud-storage->earthengine-api>=0.1.304->geemap) (1.0.3)\n",
            "Requirement already satisfied: google-resumable-media<0.5.0dev,>=0.3.1 in /usr/local/lib/python3.7/dist-packages (from google-cloud-storage->earthengine-api>=0.1.304->geemap) (0.4.1)\n",
            "Requirement already satisfied: kiwisolver>=1.0.1 in /usr/local/lib/python3.7/dist-packages (from matplotlib->geemap) (1.4.4)\n",
            "Requirement already satisfied: cycler>=0.10 in /usr/local/lib/python3.7/dist-packages (from matplotlib->geemap) (0.11.0)\n",
            "Collecting notebook-shim>=0.1.0\n",
            "  Downloading notebook_shim-0.1.0-py3-none-any.whl (13 kB)\n",
            "Requirement already satisfied: PySocks!=1.5.7,>=1.5.6 in /usr/local/lib/python3.7/dist-packages (from requests->folium>=0.11.0->geemap) (1.7.1)\n",
            "Building wheels for collected packages: ee-extra, sankee, pycrs\n",
            "  Building wheel for ee-extra (setup.py) ... \u001b[?25l\u001b[?25hdone\n",
            "  Created wheel for ee-extra: filename=ee_extra-0.0.14-py3-none-any.whl size=209114 sha256=23bcea311bf1e6125a705db4b73747f28e35c3a2494a4975a09b4aef4dae1aa1\n",
            "  Stored in directory: /root/.cache/pip/wheels/50/1f/56/c638a525bcb6972c82e422747430d756edea7d57b539229bb3\n",
            "  Building wheel for sankee (setup.py) ... \u001b[?25l\u001b[?25hdone\n",
            "  Created wheel for sankee: filename=sankee-0.2.0-py3-none-any.whl size=28745 sha256=93231cc768b8c5302e5b86c202192d83d23c23725d86b6961dc2c81ba389438b\n",
            "  Stored in directory: /root/.cache/pip/wheels/36/b4/ac/84c3f06e5c44d3fe5029713232438862881e6e1f26657d5fd8\n",
            "  Building wheel for pycrs (setup.py) ... \u001b[?25l\u001b[?25hdone\n",
            "  Created wheel for pycrs: filename=PyCRS-1.0.2-py3-none-any.whl size=32704 sha256=364a21eb665113089e1fec863e3041e4592d6a2d0dba8edb2ca4411f5d679f75\n",
            "  Stored in directory: /root/.cache/pip/wheels/3e/ce/32/1ec0aba6b9770681a423e82f0274c57d09ad2c20c2864901f9\n",
            "Successfully built ee-extra sankee pycrs\n",
            "Installing collected packages: traitlets, tornado, soupsieve, nest-asyncio, jedi, tinycss2, nbclient, mistune, jupyterlab-pygments, jinja2, beautifulsoup4, sniffio, nbconvert, argon2-cffi-bindings, websocket-client, prometheus-client, argon2-cffi, anyio, jupyter-server, notebook-shim, json5, xyzservices, whitebox, traittypes, ratelim, nbclassic, logzero, jupyterlab-server, ipytree, ipyfilechooser, whiteboxgui, scooby, sankee, python-box, pyshp, pycrs, jupyterlab, ipyleaflet, ipyevents, geojson, geocoder, geeadd, ffmpeg-python, ee-extra, colour, bqplot, geemap\n",
            "  Attempting uninstall: traitlets\n",
            "    Found existing installation: traitlets 5.1.1\n",
            "    Uninstalling traitlets-5.1.1:\n",
            "      Successfully uninstalled traitlets-5.1.1\n",
            "  Attempting uninstall: tornado\n",
            "    Found existing installation: tornado 5.1.1\n",
            "    Uninstalling tornado-5.1.1:\n",
            "      Successfully uninstalled tornado-5.1.1\n",
            "  Attempting uninstall: mistune\n",
            "    Found existing installation: mistune 0.8.4\n",
            "    Uninstalling mistune-0.8.4:\n",
            "      Successfully uninstalled mistune-0.8.4\n",
            "  Attempting uninstall: jinja2\n",
            "    Found existing installation: Jinja2 2.11.3\n",
            "    Uninstalling Jinja2-2.11.3:\n",
            "      Successfully uninstalled Jinja2-2.11.3\n",
            "  Attempting uninstall: beautifulsoup4\n",
            "    Found existing installation: beautifulsoup4 4.6.3\n",
            "    Uninstalling beautifulsoup4-4.6.3:\n",
            "      Successfully uninstalled beautifulsoup4-4.6.3\n",
            "  Attempting uninstall: nbconvert\n",
            "    Found existing installation: nbconvert 5.6.1\n",
            "    Uninstalling nbconvert-5.6.1:\n",
            "      Successfully uninstalled nbconvert-5.6.1\n",
            "\u001b[31mERROR: pip's dependency resolver does not currently take into account all the packages that are installed. This behaviour is the source of the following dependency conflicts.\n",
            "google-colab 1.0.0 requires tornado~=5.1.0, but you have tornado 6.2 which is incompatible.\n",
            "flask 1.1.4 requires Jinja2<3.0,>=2.10.1, but you have jinja2 3.1.2 which is incompatible.\u001b[0m\n",
            "Successfully installed anyio-3.6.1 argon2-cffi-21.3.0 argon2-cffi-bindings-21.2.0 beautifulsoup4-4.11.1 bqplot-0.12.36 colour-0.1.5 ee-extra-0.0.14 ffmpeg-python-0.2.0 geeadd-0.5.6 geemap-0.17.1 geocoder-1.38.1 geojson-2.5.0 ipyevents-2.0.1 ipyfilechooser-0.6.0 ipyleaflet-0.17.1 ipytree-0.2.2 jedi-0.18.1 jinja2-3.1.2 json5-0.9.10 jupyter-server-1.21.0 jupyterlab-3.4.8 jupyterlab-pygments-0.2.2 jupyterlab-server-2.16.0 logzero-1.7.0 mistune-2.0.4 nbclassic-0.4.6 nbclient-0.7.0 nbconvert-7.2.1 nest-asyncio-1.5.6 notebook-shim-0.1.0 prometheus-client-0.15.0 pycrs-1.0.2 pyshp-2.3.1 python-box-6.0.2 ratelim-0.1.6 sankee-0.2.0 scooby-0.6.0 sniffio-1.3.0 soupsieve-2.3.2.post1 tinycss2-1.1.1 tornado-6.2 traitlets-5.4.0 traittypes-0.2.1 websocket-client-1.4.1 whitebox-2.1.4 whiteboxgui-0.7.0 xyzservices-2022.9.0\n"
          ]
        },
        {
          "output_type": "display_data",
          "data": {
            "application/vnd.colab-display-data+json": {
              "pip_warning": {
                "packages": [
                  "tornado"
                ]
              }
            }
          },
          "metadata": {}
        }
      ],
      "source": [
        "!pip install geemap"
      ]
    },
    {
      "cell_type": "code",
      "execution_count": 1,
      "metadata": {
        "id": "EdSccwTyLiEJ"
      },
      "outputs": [],
      "source": [
        "import ee\n",
        "import geemap\n",
        "import os"
      ]
    },
    {
      "cell_type": "code",
      "execution_count": 2,
      "metadata": {
        "id": "G6n8KL6QLiEK",
        "colab": {
          "base_uri": "https://localhost:8080/",
          "height": 780,
          "referenced_widgets": [
            "ddf9960791ba4238baa81638b16901a3",
            "e02273567dfa478397a10a63fc37e6ce",
            "2194b6e0d3724e57b73aba56d70ca505",
            "3bfc614198974b9393d7898c641383fe",
            "80727eebd5c34313a6bd203c456012bf",
            "bf9e485b9ff44b0eaeff4f1af5856a5e",
            "a05e97a04fef40bca74bd1c55d9751f8",
            "aaad2694f962498591a44e6491d38604",
            "c8657caeed624611930cac7198ad6c08",
            "363649fff838402a9d19a95aceeddb20",
            "f450c84f4cca4d2daf6feb38fcb3405d",
            "7c99a1deec024de69713553e4d8b8763",
            "a0c4755509704296a6ae79a024ca8fca",
            "cb9f685982c145e38c8904f22559001d",
            "70bf81842c5a407891cea2d46f57af52",
            "7d2436896ad94a4fab4705dbe23bc2f3",
            "dcfc0b8b5c8643d1afc467da659cc2a7",
            "5b1337fffa1240ca8f6a1f0057fb1a47",
            "874bec9808e04ae1b5b8d7c9a4abbc84",
            "cac5eb57a4834f32b016a41c83bb0cc6",
            "4463ecc9fc934449becfeb50c9773017",
            "3e222205ff61482bba8d21bf77239c77",
            "e4fd56a1ebaf47fa9a57a5628ddc612d",
            "d80649d3fea8450b9a1982dab164380c",
            "24d8a34df71e49b9a83d0a6b720a7529",
            "a21cbeb461bf41698969cc0a63ff85d6"
          ]
        },
        "outputId": "8d6904b2-fa8c-4c25-bdc0-508caeb5c8dc"
      },
      "outputs": [
        {
          "output_type": "stream",
          "name": "stdout",
          "text": [
            "To authorize access needed by Earth Engine, open the following URL in a web browser and follow the instructions. If the web browser does not start automatically, please manually browse the URL below.\n",
            "\n",
            "    https://code.earthengine.google.com/client-auth?scopes=https%3A//www.googleapis.com/auth/earthengine%20https%3A//www.googleapis.com/auth/devstorage.full_control&request_id=aR5lzdQTUyftoqC5mft0r0wpVYHi6Ehj7_ouoLDSoWY&tc=Kqh6adrZczBt4hxpIjyQ_saXjmrFY0Rz6BljO3h-xdQ&cc=cJHnaiJfs8vQlu9fzSbWV5275ox9tFFatXDeDZJsw8M\n",
            "\n",
            "The authorization workflow will generate a code, which you should paste in the box below.\n",
            "Enter verification code: 4/1ARtbsJoZLjZ-qF8rIjbEEQ9xSd7XYrZ462KwhjkYXPfVdBCS8BqRD-jLAQ8\n",
            "\n",
            "Successfully saved authorization token.\n"
          ]
        },
        {
          "output_type": "display_data",
          "data": {
            "text/plain": [
              "Map(center=[20, 0], controls=(WidgetControl(options=['position', 'transparent_bg'], widget=HBox(children=(Togg…"
            ],
            "application/vnd.jupyter.widget-view+json": {
              "version_major": 2,
              "version_minor": 0,
              "model_id": "ddf9960791ba4238baa81638b16901a3"
            }
          },
          "metadata": {
            "application/vnd.jupyter.widget-view+json": {
              "colab": {
                "custom_widget_manager": {
                  "url": "https://ssl.gstatic.com/colaboratory-static/widgets/colab-cdn-widget-manager/d2e234f7cc04bf79/manager.min.js"
                }
              }
            }
          }
        }
      ],
      "source": [
        "Map = geemap.Map()\n",
        "Map"
      ]
    },
    {
      "cell_type": "markdown",
      "metadata": {
        "id": "p1Zg3GjNLiEK"
      },
      "source": [
        "## Download an ee.Image"
      ]
    },
    {
      "cell_type": "code",
      "execution_count": 3,
      "metadata": {
        "id": "Vyy1R5MNLiEL"
      },
      "outputs": [],
      "source": [
        "image = ee.Image('LANDSAT/LE7_TOA_5YEAR/1999_2003')\n",
        "\n",
        "landsat_vis = {'bands': ['B4', 'B3', 'B2'], 'gamma': 1.4}\n",
        "Map.addLayer(image, landsat_vis, \"LE7_TOA_5YEAR/1999_2003\", True, 0.7)"
      ]
    },
    {
      "cell_type": "code",
      "execution_count": 4,
      "metadata": {
        "id": "qQKEFtrQLiEM"
      },
      "outputs": [],
      "source": [
        "# Draw any shapes on the map using the Drawing tools before executing this code block\n",
        "feature = Map.draw_last_feature\n",
        "\n",
        "if feature is None:\n",
        "    geom = ee.Geometry.Polygon(\n",
        "        [\n",
        "            [\n",
        "                \n",
        "              [102.79095636432051,2.4894862771783317],\n",
        "              [102.82803522174238,2.4893147778027087],\n",
        "              [102.82820688311934,2.521213276063402],\n",
        "              [102.80503259723066,2.5291020317543977],\n",
        "              [102.79129968707441,2.520355799734292],\n",
        "              [102.79095636432051,2.4894862771783317],\n",
        "            ]\n",
        "        ]\n",
        "    )\n",
        "    feature = ee.Feature(geom, {})\n",
        "\n",
        "roi = feature.geometry()"
      ]
    },
    {
      "cell_type": "code",
      "execution_count": 5,
      "metadata": {
        "id": "lVBmehjyLiEM"
      },
      "outputs": [],
      "source": [
        "out_dir = os.path.join(os.path.expanduser('c:/mockdownload'), 'Downloads')\n",
        "filename = os.path.join(out_dir, 'landsat.tif')"
      ]
    },
    {
      "cell_type": "markdown",
      "metadata": {
        "id": "X8sz3HJTLiEN"
      },
      "source": [
        "### Exporting all bands as one single image"
      ]
    },
    {
      "cell_type": "code",
      "execution_count": 6,
      "metadata": {
        "id": "KeFTeZbRLiEN",
        "colab": {
          "base_uri": "https://localhost:8080/",
          "height": 416
        },
        "outputId": "14e62068-4855-48e6-a585-19b4a8a5d9da"
      },
      "outputs": [
        {
          "output_type": "stream",
          "name": "stdout",
          "text": [
            "Generating URL ...\n",
            "Downloading data from https://earthengine.googleapis.com/v1alpha/projects/earthengine-legacy/thumbnails/b7808083910a70c0e0cd4693a9035e22-ed4c9f138db441611796f5ba7918913f:getPixels\n",
            "Please wait ...\n",
            "An error occurred while downloading.\n"
          ]
        },
        {
          "output_type": "error",
          "ename": "JSONDecodeError",
          "evalue": "ignored",
          "traceback": [
            "\u001b[0;31m---------------------------------------------------------------------------\u001b[0m",
            "\u001b[0;31mJSONDecodeError\u001b[0m                           Traceback (most recent call last)",
            "\u001b[0;32m<ipython-input-6-fb4b34491867>\u001b[0m in \u001b[0;36m<module>\u001b[0;34m\u001b[0m\n\u001b[1;32m      1\u001b[0m \u001b[0mimage\u001b[0m \u001b[0;34m=\u001b[0m \u001b[0mimage\u001b[0m\u001b[0;34m.\u001b[0m\u001b[0mclip\u001b[0m\u001b[0;34m(\u001b[0m\u001b[0mroi\u001b[0m\u001b[0;34m)\u001b[0m\u001b[0;34m.\u001b[0m\u001b[0munmask\u001b[0m\u001b[0;34m(\u001b[0m\u001b[0;34m)\u001b[0m\u001b[0;34m\u001b[0m\u001b[0;34m\u001b[0m\u001b[0m\n\u001b[1;32m      2\u001b[0m geemap.ee_export_image(\n\u001b[0;32m----> 3\u001b[0;31m     \u001b[0mimage\u001b[0m\u001b[0;34m,\u001b[0m \u001b[0mfilename\u001b[0m\u001b[0;34m=\u001b[0m\u001b[0mfilename\u001b[0m\u001b[0;34m,\u001b[0m \u001b[0mscale\u001b[0m\u001b[0;34m=\u001b[0m\u001b[0;36m90\u001b[0m\u001b[0;34m,\u001b[0m \u001b[0mregion\u001b[0m\u001b[0;34m=\u001b[0m\u001b[0mroi\u001b[0m\u001b[0;34m,\u001b[0m \u001b[0mfile_per_band\u001b[0m\u001b[0;34m=\u001b[0m\u001b[0;32mFalse\u001b[0m\u001b[0;34m\u001b[0m\u001b[0;34m\u001b[0m\u001b[0m\n\u001b[0m\u001b[1;32m      4\u001b[0m )\n",
            "\u001b[0;32m/usr/local/lib/python3.7/dist-packages/geemap/common.py\u001b[0m in \u001b[0;36mee_export_image\u001b[0;34m(ee_object, filename, scale, crs, crs_transform, region, dimensions, file_per_band, format, timeout, proxies)\u001b[0m\n\u001b[1;32m   2259\u001b[0m     \u001b[0;32mexcept\u001b[0m \u001b[0mException\u001b[0m \u001b[0;32mas\u001b[0m \u001b[0me\u001b[0m\u001b[0;34m:\u001b[0m\u001b[0;34m\u001b[0m\u001b[0;34m\u001b[0m\u001b[0m\n\u001b[1;32m   2260\u001b[0m         \u001b[0mprint\u001b[0m\u001b[0;34m(\u001b[0m\u001b[0;34m\"An error occurred while downloading.\"\u001b[0m\u001b[0;34m)\u001b[0m\u001b[0;34m\u001b[0m\u001b[0;34m\u001b[0m\u001b[0m\n\u001b[0;32m-> 2261\u001b[0;31m         \u001b[0mprint\u001b[0m\u001b[0;34m(\u001b[0m\u001b[0mr\u001b[0m\u001b[0;34m.\u001b[0m\u001b[0mjson\u001b[0m\u001b[0;34m(\u001b[0m\u001b[0;34m)\u001b[0m\u001b[0;34m[\u001b[0m\u001b[0;34m\"error\"\u001b[0m\u001b[0;34m]\u001b[0m\u001b[0;34m[\u001b[0m\u001b[0;34m\"message\"\u001b[0m\u001b[0;34m]\u001b[0m\u001b[0;34m)\u001b[0m\u001b[0;34m\u001b[0m\u001b[0;34m\u001b[0m\u001b[0m\n\u001b[0m\u001b[1;32m   2262\u001b[0m         \u001b[0;32mreturn\u001b[0m\u001b[0;34m\u001b[0m\u001b[0;34m\u001b[0m\u001b[0m\n\u001b[1;32m   2263\u001b[0m \u001b[0;34m\u001b[0m\u001b[0m\n",
            "\u001b[0;32m/usr/local/lib/python3.7/dist-packages/requests/models.py\u001b[0m in \u001b[0;36mjson\u001b[0;34m(self, **kwargs)\u001b[0m\n\u001b[1;32m    896\u001b[0m                     \u001b[0;31m# used.\u001b[0m\u001b[0;34m\u001b[0m\u001b[0;34m\u001b[0m\u001b[0;34m\u001b[0m\u001b[0m\n\u001b[1;32m    897\u001b[0m                     \u001b[0;32mpass\u001b[0m\u001b[0;34m\u001b[0m\u001b[0;34m\u001b[0m\u001b[0m\n\u001b[0;32m--> 898\u001b[0;31m         \u001b[0;32mreturn\u001b[0m \u001b[0mcomplexjson\u001b[0m\u001b[0;34m.\u001b[0m\u001b[0mloads\u001b[0m\u001b[0;34m(\u001b[0m\u001b[0mself\u001b[0m\u001b[0;34m.\u001b[0m\u001b[0mtext\u001b[0m\u001b[0;34m,\u001b[0m \u001b[0;34m**\u001b[0m\u001b[0mkwargs\u001b[0m\u001b[0;34m)\u001b[0m\u001b[0;34m\u001b[0m\u001b[0;34m\u001b[0m\u001b[0m\n\u001b[0m\u001b[1;32m    899\u001b[0m \u001b[0;34m\u001b[0m\u001b[0m\n\u001b[1;32m    900\u001b[0m     \u001b[0;34m@\u001b[0m\u001b[0mproperty\u001b[0m\u001b[0;34m\u001b[0m\u001b[0;34m\u001b[0m\u001b[0m\n",
            "\u001b[0;32m/usr/lib/python3.7/json/__init__.py\u001b[0m in \u001b[0;36mloads\u001b[0;34m(s, encoding, cls, object_hook, parse_float, parse_int, parse_constant, object_pairs_hook, **kw)\u001b[0m\n\u001b[1;32m    346\u001b[0m             \u001b[0mparse_int\u001b[0m \u001b[0;32mis\u001b[0m \u001b[0;32mNone\u001b[0m \u001b[0;32mand\u001b[0m \u001b[0mparse_float\u001b[0m \u001b[0;32mis\u001b[0m \u001b[0;32mNone\u001b[0m \u001b[0;32mand\u001b[0m\u001b[0;34m\u001b[0m\u001b[0;34m\u001b[0m\u001b[0m\n\u001b[1;32m    347\u001b[0m             parse_constant is None and object_pairs_hook is None and not kw):\n\u001b[0;32m--> 348\u001b[0;31m         \u001b[0;32mreturn\u001b[0m \u001b[0m_default_decoder\u001b[0m\u001b[0;34m.\u001b[0m\u001b[0mdecode\u001b[0m\u001b[0;34m(\u001b[0m\u001b[0ms\u001b[0m\u001b[0;34m)\u001b[0m\u001b[0;34m\u001b[0m\u001b[0;34m\u001b[0m\u001b[0m\n\u001b[0m\u001b[1;32m    349\u001b[0m     \u001b[0;32mif\u001b[0m \u001b[0mcls\u001b[0m \u001b[0;32mis\u001b[0m \u001b[0;32mNone\u001b[0m\u001b[0;34m:\u001b[0m\u001b[0;34m\u001b[0m\u001b[0;34m\u001b[0m\u001b[0m\n\u001b[1;32m    350\u001b[0m         \u001b[0mcls\u001b[0m \u001b[0;34m=\u001b[0m \u001b[0mJSONDecoder\u001b[0m\u001b[0;34m\u001b[0m\u001b[0;34m\u001b[0m\u001b[0m\n",
            "\u001b[0;32m/usr/lib/python3.7/json/decoder.py\u001b[0m in \u001b[0;36mdecode\u001b[0;34m(self, s, _w)\u001b[0m\n\u001b[1;32m    335\u001b[0m \u001b[0;34m\u001b[0m\u001b[0m\n\u001b[1;32m    336\u001b[0m         \"\"\"\n\u001b[0;32m--> 337\u001b[0;31m         \u001b[0mobj\u001b[0m\u001b[0;34m,\u001b[0m \u001b[0mend\u001b[0m \u001b[0;34m=\u001b[0m \u001b[0mself\u001b[0m\u001b[0;34m.\u001b[0m\u001b[0mraw_decode\u001b[0m\u001b[0;34m(\u001b[0m\u001b[0ms\u001b[0m\u001b[0;34m,\u001b[0m \u001b[0midx\u001b[0m\u001b[0;34m=\u001b[0m\u001b[0m_w\u001b[0m\u001b[0;34m(\u001b[0m\u001b[0ms\u001b[0m\u001b[0;34m,\u001b[0m \u001b[0;36m0\u001b[0m\u001b[0;34m)\u001b[0m\u001b[0;34m.\u001b[0m\u001b[0mend\u001b[0m\u001b[0;34m(\u001b[0m\u001b[0;34m)\u001b[0m\u001b[0;34m)\u001b[0m\u001b[0;34m\u001b[0m\u001b[0;34m\u001b[0m\u001b[0m\n\u001b[0m\u001b[1;32m    338\u001b[0m         \u001b[0mend\u001b[0m \u001b[0;34m=\u001b[0m \u001b[0m_w\u001b[0m\u001b[0;34m(\u001b[0m\u001b[0ms\u001b[0m\u001b[0;34m,\u001b[0m \u001b[0mend\u001b[0m\u001b[0;34m)\u001b[0m\u001b[0;34m.\u001b[0m\u001b[0mend\u001b[0m\u001b[0;34m(\u001b[0m\u001b[0;34m)\u001b[0m\u001b[0;34m\u001b[0m\u001b[0;34m\u001b[0m\u001b[0m\n\u001b[1;32m    339\u001b[0m         \u001b[0;32mif\u001b[0m \u001b[0mend\u001b[0m \u001b[0;34m!=\u001b[0m \u001b[0mlen\u001b[0m\u001b[0;34m(\u001b[0m\u001b[0ms\u001b[0m\u001b[0;34m)\u001b[0m\u001b[0;34m:\u001b[0m\u001b[0;34m\u001b[0m\u001b[0;34m\u001b[0m\u001b[0m\n",
            "\u001b[0;32m/usr/lib/python3.7/json/decoder.py\u001b[0m in \u001b[0;36mraw_decode\u001b[0;34m(self, s, idx)\u001b[0m\n\u001b[1;32m    353\u001b[0m             \u001b[0mobj\u001b[0m\u001b[0;34m,\u001b[0m \u001b[0mend\u001b[0m \u001b[0;34m=\u001b[0m \u001b[0mself\u001b[0m\u001b[0;34m.\u001b[0m\u001b[0mscan_once\u001b[0m\u001b[0;34m(\u001b[0m\u001b[0ms\u001b[0m\u001b[0;34m,\u001b[0m \u001b[0midx\u001b[0m\u001b[0;34m)\u001b[0m\u001b[0;34m\u001b[0m\u001b[0;34m\u001b[0m\u001b[0m\n\u001b[1;32m    354\u001b[0m         \u001b[0;32mexcept\u001b[0m \u001b[0mStopIteration\u001b[0m \u001b[0;32mas\u001b[0m \u001b[0merr\u001b[0m\u001b[0;34m:\u001b[0m\u001b[0;34m\u001b[0m\u001b[0;34m\u001b[0m\u001b[0m\n\u001b[0;32m--> 355\u001b[0;31m             \u001b[0;32mraise\u001b[0m \u001b[0mJSONDecodeError\u001b[0m\u001b[0;34m(\u001b[0m\u001b[0;34m\"Expecting value\"\u001b[0m\u001b[0;34m,\u001b[0m \u001b[0ms\u001b[0m\u001b[0;34m,\u001b[0m \u001b[0merr\u001b[0m\u001b[0;34m.\u001b[0m\u001b[0mvalue\u001b[0m\u001b[0;34m)\u001b[0m \u001b[0;32mfrom\u001b[0m \u001b[0;32mNone\u001b[0m\u001b[0;34m\u001b[0m\u001b[0;34m\u001b[0m\u001b[0m\n\u001b[0m\u001b[1;32m    356\u001b[0m         \u001b[0;32mreturn\u001b[0m \u001b[0mobj\u001b[0m\u001b[0;34m,\u001b[0m \u001b[0mend\u001b[0m\u001b[0;34m\u001b[0m\u001b[0;34m\u001b[0m\u001b[0m\n",
            "\u001b[0;31mJSONDecodeError\u001b[0m: Expecting value: line 1 column 1 (char 0)"
          ]
        }
      ],
      "source": [
        "image = image.clip(roi).unmask()\n",
        "geemap.ee_export_image(\n",
        "    image, filename=filename, scale=90, region=roi, file_per_band=False\n",
        ")"
      ]
    },
    {
      "cell_type": "code",
      "source": [
        "import requests\n",
        "response = requests.get(\"https://earthengine.googleapis.com/v1alpha/projects/earthengine-legacy/thumbnails/b7808083910a70c0e0cd4693a9035e22-ed4c9f138db441611796f5ba7918913f:getPixels\")\n",
        "response.raise_for_status()\n",
        "response.json()"
      ],
      "metadata": {
        "colab": {
          "base_uri": "https://localhost:8080/",
          "height": 329
        },
        "id": "Mq5ikZry5CF7",
        "outputId": "2d4a674f-309b-4547-a34c-16ac55d00d8c"
      },
      "execution_count": 9,
      "outputs": [
        {
          "output_type": "error",
          "ename": "JSONDecodeError",
          "evalue": "ignored",
          "traceback": [
            "\u001b[0;31m---------------------------------------------------------------------------\u001b[0m",
            "\u001b[0;31mJSONDecodeError\u001b[0m                           Traceback (most recent call last)",
            "\u001b[0;32m<ipython-input-9-5cb9e6577766>\u001b[0m in \u001b[0;36m<module>\u001b[0;34m\u001b[0m\n\u001b[1;32m      2\u001b[0m \u001b[0mresponse\u001b[0m \u001b[0;34m=\u001b[0m \u001b[0mrequests\u001b[0m\u001b[0;34m.\u001b[0m\u001b[0mget\u001b[0m\u001b[0;34m(\u001b[0m\u001b[0;34m\"https://earthengine.googleapis.com/v1alpha/projects/earthengine-legacy/thumbnails/b7808083910a70c0e0cd4693a9035e22-ed4c9f138db441611796f5ba7918913f:getPixels\"\u001b[0m\u001b[0;34m)\u001b[0m\u001b[0;34m\u001b[0m\u001b[0;34m\u001b[0m\u001b[0m\n\u001b[1;32m      3\u001b[0m \u001b[0mresponse\u001b[0m\u001b[0;34m.\u001b[0m\u001b[0mraise_for_status\u001b[0m\u001b[0;34m(\u001b[0m\u001b[0;34m)\u001b[0m\u001b[0;34m\u001b[0m\u001b[0;34m\u001b[0m\u001b[0m\n\u001b[0;32m----> 4\u001b[0;31m \u001b[0mresponse\u001b[0m\u001b[0;34m.\u001b[0m\u001b[0mjson\u001b[0m\u001b[0;34m(\u001b[0m\u001b[0;34m)\u001b[0m\u001b[0;34m\u001b[0m\u001b[0;34m\u001b[0m\u001b[0m\n\u001b[0m",
            "\u001b[0;32m/usr/local/lib/python3.7/dist-packages/requests/models.py\u001b[0m in \u001b[0;36mjson\u001b[0;34m(self, **kwargs)\u001b[0m\n\u001b[1;32m    896\u001b[0m                     \u001b[0;31m# used.\u001b[0m\u001b[0;34m\u001b[0m\u001b[0;34m\u001b[0m\u001b[0;34m\u001b[0m\u001b[0m\n\u001b[1;32m    897\u001b[0m                     \u001b[0;32mpass\u001b[0m\u001b[0;34m\u001b[0m\u001b[0;34m\u001b[0m\u001b[0m\n\u001b[0;32m--> 898\u001b[0;31m         \u001b[0;32mreturn\u001b[0m \u001b[0mcomplexjson\u001b[0m\u001b[0;34m.\u001b[0m\u001b[0mloads\u001b[0m\u001b[0;34m(\u001b[0m\u001b[0mself\u001b[0m\u001b[0;34m.\u001b[0m\u001b[0mtext\u001b[0m\u001b[0;34m,\u001b[0m \u001b[0;34m**\u001b[0m\u001b[0mkwargs\u001b[0m\u001b[0;34m)\u001b[0m\u001b[0;34m\u001b[0m\u001b[0;34m\u001b[0m\u001b[0m\n\u001b[0m\u001b[1;32m    899\u001b[0m \u001b[0;34m\u001b[0m\u001b[0m\n\u001b[1;32m    900\u001b[0m     \u001b[0;34m@\u001b[0m\u001b[0mproperty\u001b[0m\u001b[0;34m\u001b[0m\u001b[0;34m\u001b[0m\u001b[0m\n",
            "\u001b[0;32m/usr/lib/python3.7/json/__init__.py\u001b[0m in \u001b[0;36mloads\u001b[0;34m(s, encoding, cls, object_hook, parse_float, parse_int, parse_constant, object_pairs_hook, **kw)\u001b[0m\n\u001b[1;32m    346\u001b[0m             \u001b[0mparse_int\u001b[0m \u001b[0;32mis\u001b[0m \u001b[0;32mNone\u001b[0m \u001b[0;32mand\u001b[0m \u001b[0mparse_float\u001b[0m \u001b[0;32mis\u001b[0m \u001b[0;32mNone\u001b[0m \u001b[0;32mand\u001b[0m\u001b[0;34m\u001b[0m\u001b[0;34m\u001b[0m\u001b[0m\n\u001b[1;32m    347\u001b[0m             parse_constant is None and object_pairs_hook is None and not kw):\n\u001b[0;32m--> 348\u001b[0;31m         \u001b[0;32mreturn\u001b[0m \u001b[0m_default_decoder\u001b[0m\u001b[0;34m.\u001b[0m\u001b[0mdecode\u001b[0m\u001b[0;34m(\u001b[0m\u001b[0ms\u001b[0m\u001b[0;34m)\u001b[0m\u001b[0;34m\u001b[0m\u001b[0;34m\u001b[0m\u001b[0m\n\u001b[0m\u001b[1;32m    349\u001b[0m     \u001b[0;32mif\u001b[0m \u001b[0mcls\u001b[0m \u001b[0;32mis\u001b[0m \u001b[0;32mNone\u001b[0m\u001b[0;34m:\u001b[0m\u001b[0;34m\u001b[0m\u001b[0;34m\u001b[0m\u001b[0m\n\u001b[1;32m    350\u001b[0m         \u001b[0mcls\u001b[0m \u001b[0;34m=\u001b[0m \u001b[0mJSONDecoder\u001b[0m\u001b[0;34m\u001b[0m\u001b[0;34m\u001b[0m\u001b[0m\n",
            "\u001b[0;32m/usr/lib/python3.7/json/decoder.py\u001b[0m in \u001b[0;36mdecode\u001b[0;34m(self, s, _w)\u001b[0m\n\u001b[1;32m    335\u001b[0m \u001b[0;34m\u001b[0m\u001b[0m\n\u001b[1;32m    336\u001b[0m         \"\"\"\n\u001b[0;32m--> 337\u001b[0;31m         \u001b[0mobj\u001b[0m\u001b[0;34m,\u001b[0m \u001b[0mend\u001b[0m \u001b[0;34m=\u001b[0m \u001b[0mself\u001b[0m\u001b[0;34m.\u001b[0m\u001b[0mraw_decode\u001b[0m\u001b[0;34m(\u001b[0m\u001b[0ms\u001b[0m\u001b[0;34m,\u001b[0m \u001b[0midx\u001b[0m\u001b[0;34m=\u001b[0m\u001b[0m_w\u001b[0m\u001b[0;34m(\u001b[0m\u001b[0ms\u001b[0m\u001b[0;34m,\u001b[0m \u001b[0;36m0\u001b[0m\u001b[0;34m)\u001b[0m\u001b[0;34m.\u001b[0m\u001b[0mend\u001b[0m\u001b[0;34m(\u001b[0m\u001b[0;34m)\u001b[0m\u001b[0;34m)\u001b[0m\u001b[0;34m\u001b[0m\u001b[0;34m\u001b[0m\u001b[0m\n\u001b[0m\u001b[1;32m    338\u001b[0m         \u001b[0mend\u001b[0m \u001b[0;34m=\u001b[0m \u001b[0m_w\u001b[0m\u001b[0;34m(\u001b[0m\u001b[0ms\u001b[0m\u001b[0;34m,\u001b[0m \u001b[0mend\u001b[0m\u001b[0;34m)\u001b[0m\u001b[0;34m.\u001b[0m\u001b[0mend\u001b[0m\u001b[0;34m(\u001b[0m\u001b[0;34m)\u001b[0m\u001b[0;34m\u001b[0m\u001b[0;34m\u001b[0m\u001b[0m\n\u001b[1;32m    339\u001b[0m         \u001b[0;32mif\u001b[0m \u001b[0mend\u001b[0m \u001b[0;34m!=\u001b[0m \u001b[0mlen\u001b[0m\u001b[0;34m(\u001b[0m\u001b[0ms\u001b[0m\u001b[0;34m)\u001b[0m\u001b[0;34m:\u001b[0m\u001b[0;34m\u001b[0m\u001b[0;34m\u001b[0m\u001b[0m\n",
            "\u001b[0;32m/usr/lib/python3.7/json/decoder.py\u001b[0m in \u001b[0;36mraw_decode\u001b[0;34m(self, s, idx)\u001b[0m\n\u001b[1;32m    353\u001b[0m             \u001b[0mobj\u001b[0m\u001b[0;34m,\u001b[0m \u001b[0mend\u001b[0m \u001b[0;34m=\u001b[0m \u001b[0mself\u001b[0m\u001b[0;34m.\u001b[0m\u001b[0mscan_once\u001b[0m\u001b[0;34m(\u001b[0m\u001b[0ms\u001b[0m\u001b[0;34m,\u001b[0m \u001b[0midx\u001b[0m\u001b[0;34m)\u001b[0m\u001b[0;34m\u001b[0m\u001b[0;34m\u001b[0m\u001b[0m\n\u001b[1;32m    354\u001b[0m         \u001b[0;32mexcept\u001b[0m \u001b[0mStopIteration\u001b[0m \u001b[0;32mas\u001b[0m \u001b[0merr\u001b[0m\u001b[0;34m:\u001b[0m\u001b[0;34m\u001b[0m\u001b[0;34m\u001b[0m\u001b[0m\n\u001b[0;32m--> 355\u001b[0;31m             \u001b[0;32mraise\u001b[0m \u001b[0mJSONDecodeError\u001b[0m\u001b[0;34m(\u001b[0m\u001b[0;34m\"Expecting value\"\u001b[0m\u001b[0;34m,\u001b[0m \u001b[0ms\u001b[0m\u001b[0;34m,\u001b[0m \u001b[0merr\u001b[0m\u001b[0;34m.\u001b[0m\u001b[0mvalue\u001b[0m\u001b[0;34m)\u001b[0m \u001b[0;32mfrom\u001b[0m \u001b[0;32mNone\u001b[0m\u001b[0;34m\u001b[0m\u001b[0;34m\u001b[0m\u001b[0m\n\u001b[0m\u001b[1;32m    356\u001b[0m         \u001b[0;32mreturn\u001b[0m \u001b[0mobj\u001b[0m\u001b[0;34m,\u001b[0m \u001b[0mend\u001b[0m\u001b[0;34m\u001b[0m\u001b[0;34m\u001b[0m\u001b[0m\n",
            "\u001b[0;31mJSONDecodeError\u001b[0m: Expecting value: line 1 column 1 (char 0)"
          ]
        }
      ]
    },
    {
      "cell_type": "code",
      "source": [],
      "metadata": {
        "id": "5oMuPA3Q54PK"
      },
      "execution_count": null,
      "outputs": []
    },
    {
      "cell_type": "markdown",
      "metadata": {
        "id": "ay2KfZRDLiEO"
      },
      "source": [
        "### Exporting each band as one image"
      ]
    },
    {
      "cell_type": "code",
      "execution_count": 7,
      "metadata": {
        "id": "AI7171jlLiEO",
        "colab": {
          "base_uri": "https://localhost:8080/",
          "height": 398
        },
        "outputId": "e731223c-c6ca-48b8-f8d4-d97f872eadb6"
      },
      "outputs": [
        {
          "output_type": "stream",
          "name": "stdout",
          "text": [
            "Generating URL ...\n",
            "Downloading data from https://earthengine.googleapis.com/v1alpha/projects/earthengine-legacy/thumbnails/b7808083910a70c0e0cd4693a9035e22-59b93dc581b3f03af14fd12e577dac7f:getPixels\n",
            "Please wait ...\n",
            "An error occurred while downloading.\n"
          ]
        },
        {
          "output_type": "error",
          "ename": "JSONDecodeError",
          "evalue": "ignored",
          "traceback": [
            "\u001b[0;31m---------------------------------------------------------------------------\u001b[0m",
            "\u001b[0;31mJSONDecodeError\u001b[0m                           Traceback (most recent call last)",
            "\u001b[0;32m<ipython-input-7-3abfc367230e>\u001b[0m in \u001b[0;36m<module>\u001b[0;34m\u001b[0m\n\u001b[1;32m      1\u001b[0m geemap.ee_export_image(\n\u001b[0;32m----> 2\u001b[0;31m     \u001b[0mimage\u001b[0m\u001b[0;34m,\u001b[0m \u001b[0mfilename\u001b[0m\u001b[0;34m=\u001b[0m\u001b[0mfilename\u001b[0m\u001b[0;34m,\u001b[0m \u001b[0mscale\u001b[0m\u001b[0;34m=\u001b[0m\u001b[0;36m90\u001b[0m\u001b[0;34m,\u001b[0m \u001b[0mregion\u001b[0m\u001b[0;34m=\u001b[0m\u001b[0mroi\u001b[0m\u001b[0;34m,\u001b[0m \u001b[0mfile_per_band\u001b[0m\u001b[0;34m=\u001b[0m\u001b[0;32mTrue\u001b[0m\u001b[0;34m\u001b[0m\u001b[0;34m\u001b[0m\u001b[0m\n\u001b[0m\u001b[1;32m      3\u001b[0m )\n",
            "\u001b[0;32m/usr/local/lib/python3.7/dist-packages/geemap/common.py\u001b[0m in \u001b[0;36mee_export_image\u001b[0;34m(ee_object, filename, scale, crs, crs_transform, region, dimensions, file_per_band, format, timeout, proxies)\u001b[0m\n\u001b[1;32m   2259\u001b[0m     \u001b[0;32mexcept\u001b[0m \u001b[0mException\u001b[0m \u001b[0;32mas\u001b[0m \u001b[0me\u001b[0m\u001b[0;34m:\u001b[0m\u001b[0;34m\u001b[0m\u001b[0;34m\u001b[0m\u001b[0m\n\u001b[1;32m   2260\u001b[0m         \u001b[0mprint\u001b[0m\u001b[0;34m(\u001b[0m\u001b[0;34m\"An error occurred while downloading.\"\u001b[0m\u001b[0;34m)\u001b[0m\u001b[0;34m\u001b[0m\u001b[0;34m\u001b[0m\u001b[0m\n\u001b[0;32m-> 2261\u001b[0;31m         \u001b[0mprint\u001b[0m\u001b[0;34m(\u001b[0m\u001b[0mr\u001b[0m\u001b[0;34m.\u001b[0m\u001b[0mjson\u001b[0m\u001b[0;34m(\u001b[0m\u001b[0;34m)\u001b[0m\u001b[0;34m[\u001b[0m\u001b[0;34m\"error\"\u001b[0m\u001b[0;34m]\u001b[0m\u001b[0;34m[\u001b[0m\u001b[0;34m\"message\"\u001b[0m\u001b[0;34m]\u001b[0m\u001b[0;34m)\u001b[0m\u001b[0;34m\u001b[0m\u001b[0;34m\u001b[0m\u001b[0m\n\u001b[0m\u001b[1;32m   2262\u001b[0m         \u001b[0;32mreturn\u001b[0m\u001b[0;34m\u001b[0m\u001b[0;34m\u001b[0m\u001b[0m\n\u001b[1;32m   2263\u001b[0m \u001b[0;34m\u001b[0m\u001b[0m\n",
            "\u001b[0;32m/usr/local/lib/python3.7/dist-packages/requests/models.py\u001b[0m in \u001b[0;36mjson\u001b[0;34m(self, **kwargs)\u001b[0m\n\u001b[1;32m    896\u001b[0m                     \u001b[0;31m# used.\u001b[0m\u001b[0;34m\u001b[0m\u001b[0;34m\u001b[0m\u001b[0;34m\u001b[0m\u001b[0m\n\u001b[1;32m    897\u001b[0m                     \u001b[0;32mpass\u001b[0m\u001b[0;34m\u001b[0m\u001b[0;34m\u001b[0m\u001b[0m\n\u001b[0;32m--> 898\u001b[0;31m         \u001b[0;32mreturn\u001b[0m \u001b[0mcomplexjson\u001b[0m\u001b[0;34m.\u001b[0m\u001b[0mloads\u001b[0m\u001b[0;34m(\u001b[0m\u001b[0mself\u001b[0m\u001b[0;34m.\u001b[0m\u001b[0mtext\u001b[0m\u001b[0;34m,\u001b[0m \u001b[0;34m**\u001b[0m\u001b[0mkwargs\u001b[0m\u001b[0;34m)\u001b[0m\u001b[0;34m\u001b[0m\u001b[0;34m\u001b[0m\u001b[0m\n\u001b[0m\u001b[1;32m    899\u001b[0m \u001b[0;34m\u001b[0m\u001b[0m\n\u001b[1;32m    900\u001b[0m     \u001b[0;34m@\u001b[0m\u001b[0mproperty\u001b[0m\u001b[0;34m\u001b[0m\u001b[0;34m\u001b[0m\u001b[0m\n",
            "\u001b[0;32m/usr/lib/python3.7/json/__init__.py\u001b[0m in \u001b[0;36mloads\u001b[0;34m(s, encoding, cls, object_hook, parse_float, parse_int, parse_constant, object_pairs_hook, **kw)\u001b[0m\n\u001b[1;32m    346\u001b[0m             \u001b[0mparse_int\u001b[0m \u001b[0;32mis\u001b[0m \u001b[0;32mNone\u001b[0m \u001b[0;32mand\u001b[0m \u001b[0mparse_float\u001b[0m \u001b[0;32mis\u001b[0m \u001b[0;32mNone\u001b[0m \u001b[0;32mand\u001b[0m\u001b[0;34m\u001b[0m\u001b[0;34m\u001b[0m\u001b[0m\n\u001b[1;32m    347\u001b[0m             parse_constant is None and object_pairs_hook is None and not kw):\n\u001b[0;32m--> 348\u001b[0;31m         \u001b[0;32mreturn\u001b[0m \u001b[0m_default_decoder\u001b[0m\u001b[0;34m.\u001b[0m\u001b[0mdecode\u001b[0m\u001b[0;34m(\u001b[0m\u001b[0ms\u001b[0m\u001b[0;34m)\u001b[0m\u001b[0;34m\u001b[0m\u001b[0;34m\u001b[0m\u001b[0m\n\u001b[0m\u001b[1;32m    349\u001b[0m     \u001b[0;32mif\u001b[0m \u001b[0mcls\u001b[0m \u001b[0;32mis\u001b[0m \u001b[0;32mNone\u001b[0m\u001b[0;34m:\u001b[0m\u001b[0;34m\u001b[0m\u001b[0;34m\u001b[0m\u001b[0m\n\u001b[1;32m    350\u001b[0m         \u001b[0mcls\u001b[0m \u001b[0;34m=\u001b[0m \u001b[0mJSONDecoder\u001b[0m\u001b[0;34m\u001b[0m\u001b[0;34m\u001b[0m\u001b[0m\n",
            "\u001b[0;32m/usr/lib/python3.7/json/decoder.py\u001b[0m in \u001b[0;36mdecode\u001b[0;34m(self, s, _w)\u001b[0m\n\u001b[1;32m    335\u001b[0m \u001b[0;34m\u001b[0m\u001b[0m\n\u001b[1;32m    336\u001b[0m         \"\"\"\n\u001b[0;32m--> 337\u001b[0;31m         \u001b[0mobj\u001b[0m\u001b[0;34m,\u001b[0m \u001b[0mend\u001b[0m \u001b[0;34m=\u001b[0m \u001b[0mself\u001b[0m\u001b[0;34m.\u001b[0m\u001b[0mraw_decode\u001b[0m\u001b[0;34m(\u001b[0m\u001b[0ms\u001b[0m\u001b[0;34m,\u001b[0m \u001b[0midx\u001b[0m\u001b[0;34m=\u001b[0m\u001b[0m_w\u001b[0m\u001b[0;34m(\u001b[0m\u001b[0ms\u001b[0m\u001b[0;34m,\u001b[0m \u001b[0;36m0\u001b[0m\u001b[0;34m)\u001b[0m\u001b[0;34m.\u001b[0m\u001b[0mend\u001b[0m\u001b[0;34m(\u001b[0m\u001b[0;34m)\u001b[0m\u001b[0;34m)\u001b[0m\u001b[0;34m\u001b[0m\u001b[0;34m\u001b[0m\u001b[0m\n\u001b[0m\u001b[1;32m    338\u001b[0m         \u001b[0mend\u001b[0m \u001b[0;34m=\u001b[0m \u001b[0m_w\u001b[0m\u001b[0;34m(\u001b[0m\u001b[0ms\u001b[0m\u001b[0;34m,\u001b[0m \u001b[0mend\u001b[0m\u001b[0;34m)\u001b[0m\u001b[0;34m.\u001b[0m\u001b[0mend\u001b[0m\u001b[0;34m(\u001b[0m\u001b[0;34m)\u001b[0m\u001b[0;34m\u001b[0m\u001b[0;34m\u001b[0m\u001b[0m\n\u001b[1;32m    339\u001b[0m         \u001b[0;32mif\u001b[0m \u001b[0mend\u001b[0m \u001b[0;34m!=\u001b[0m \u001b[0mlen\u001b[0m\u001b[0;34m(\u001b[0m\u001b[0ms\u001b[0m\u001b[0;34m)\u001b[0m\u001b[0;34m:\u001b[0m\u001b[0;34m\u001b[0m\u001b[0;34m\u001b[0m\u001b[0m\n",
            "\u001b[0;32m/usr/lib/python3.7/json/decoder.py\u001b[0m in \u001b[0;36mraw_decode\u001b[0;34m(self, s, idx)\u001b[0m\n\u001b[1;32m    353\u001b[0m             \u001b[0mobj\u001b[0m\u001b[0;34m,\u001b[0m \u001b[0mend\u001b[0m \u001b[0;34m=\u001b[0m \u001b[0mself\u001b[0m\u001b[0;34m.\u001b[0m\u001b[0mscan_once\u001b[0m\u001b[0;34m(\u001b[0m\u001b[0ms\u001b[0m\u001b[0;34m,\u001b[0m \u001b[0midx\u001b[0m\u001b[0;34m)\u001b[0m\u001b[0;34m\u001b[0m\u001b[0;34m\u001b[0m\u001b[0m\n\u001b[1;32m    354\u001b[0m         \u001b[0;32mexcept\u001b[0m \u001b[0mStopIteration\u001b[0m \u001b[0;32mas\u001b[0m \u001b[0merr\u001b[0m\u001b[0;34m:\u001b[0m\u001b[0;34m\u001b[0m\u001b[0;34m\u001b[0m\u001b[0m\n\u001b[0;32m--> 355\u001b[0;31m             \u001b[0;32mraise\u001b[0m \u001b[0mJSONDecodeError\u001b[0m\u001b[0;34m(\u001b[0m\u001b[0;34m\"Expecting value\"\u001b[0m\u001b[0;34m,\u001b[0m \u001b[0ms\u001b[0m\u001b[0;34m,\u001b[0m \u001b[0merr\u001b[0m\u001b[0;34m.\u001b[0m\u001b[0mvalue\u001b[0m\u001b[0;34m)\u001b[0m \u001b[0;32mfrom\u001b[0m \u001b[0;32mNone\u001b[0m\u001b[0;34m\u001b[0m\u001b[0;34m\u001b[0m\u001b[0m\n\u001b[0m\u001b[1;32m    356\u001b[0m         \u001b[0;32mreturn\u001b[0m \u001b[0mobj\u001b[0m\u001b[0;34m,\u001b[0m \u001b[0mend\u001b[0m\u001b[0;34m\u001b[0m\u001b[0;34m\u001b[0m\u001b[0m\n",
            "\u001b[0;31mJSONDecodeError\u001b[0m: Expecting value: line 1 column 1 (char 0)"
          ]
        }
      ],
      "source": [
        "geemap.ee_export_image(\n",
        "    image, filename=filename, scale=90, region=roi, file_per_band=True\n",
        ")"
      ]
    },
    {
      "cell_type": "markdown",
      "metadata": {
        "id": "N1chZGoyLiEO"
      },
      "source": [
        "### Export an image to Google Drive"
      ]
    },
    {
      "cell_type": "code",
      "execution_count": null,
      "metadata": {
        "id": "BeusU7o9LiEP"
      },
      "outputs": [],
      "source": [
        "geemap.ee_export_image_to_drive(\n",
        "    image, description='landsat', folder='ILSM', region=roi, scale=30\n",
        ")"
      ]
    },
    {
      "cell_type": "markdown",
      "metadata": {
        "id": "nnhRwf0SLiEP"
      },
      "source": [
        "## Download an ee.ImageCollection"
      ]
    },
    {
      "cell_type": "code",
      "execution_count": null,
      "metadata": {
        "id": "ZDLpqyaBLiEP"
      },
      "outputs": [],
      "source": [
        "import ee\n",
        "import geemap\n",
        "import os"
      ]
    },
    {
      "cell_type": "code",
      "execution_count": null,
      "metadata": {
        "id": "HvFPUwa1LiEP"
      },
      "outputs": [],
      "source": [
        "loc = ee.Geometry.Point(102.82820688311934,2.521213276063402)\n",
        "collection = (\n",
        "    ee.ImageCollection('USDA/NAIP/DOQQ')\n",
        "    .filterBounds(loc)\n",
        "    .filterDate('2008-01-01', '2020-01-01')\n",
        "    .filter(ee.Filter.listContains(\"system:band_names\", \"N\"))\n",
        ")"
      ]
    },
    {
      "cell_type": "code",
      "execution_count": null,
      "metadata": {
        "id": "mbRtOFQpLiEQ"
      },
      "outputs": [],
      "source": [
        "out_dir = os.path.join(os.path.expanduser('c:/mockdownload'), 'Downloads')"
      ]
    },
    {
      "cell_type": "code",
      "execution_count": null,
      "metadata": {
        "id": "n77dS0loLiEQ",
        "colab": {
          "base_uri": "https://localhost:8080/"
        },
        "outputId": "6dfd90ab-a98f-4431-a1dd-48fcc32cc050"
      },
      "outputs": [
        {
          "output_type": "stream",
          "name": "stdout",
          "text": [
            "[]\n"
          ]
        }
      ],
      "source": [
        "print(collection.aggregate_array('system:index').getInfo())"
      ]
    },
    {
      "cell_type": "code",
      "execution_count": null,
      "metadata": {
        "id": "TyyE83vgLiEQ",
        "colab": {
          "base_uri": "https://localhost:8080/"
        },
        "outputId": "2836d08f-4783-4f98-f8b3-2362a29d8489"
      },
      "outputs": [
        {
          "output_type": "stream",
          "name": "stdout",
          "text": [
            "Total number of images: 0\n",
            "\n"
          ]
        }
      ],
      "source": [
        "geemap.ee_export_image_collection(collection, out_dir=out_dir)"
      ]
    },
    {
      "cell_type": "code",
      "execution_count": null,
      "metadata": {
        "id": "ezOnVD-GLiEQ",
        "colab": {
          "base_uri": "https://localhost:8080/"
        },
        "outputId": "8fa0256c-c916-4e72-8ee4-896861c18216"
      },
      "outputs": [
        {
          "output_type": "stream",
          "name": "stdout",
          "text": [
            "Total number of images: 0\n",
            "\n"
          ]
        }
      ],
      "source": [
        "geemap.ee_export_image_collection_to_drive(collection, folder='export', scale=10)"
      ]
    },
    {
      "cell_type": "markdown",
      "metadata": {
        "id": "3Ywnz1qlLiER"
      },
      "source": [
        "## Extract pixels as a Numpy array"
      ]
    },
    {
      "cell_type": "code",
      "execution_count": null,
      "metadata": {
        "id": "665L99hwLiER",
        "colab": {
          "base_uri": "https://localhost:8080/",
          "height": 237
        },
        "outputId": "8e68d919-c718-4ab8-8e00-537cba48912f"
      },
      "outputs": [
        {
          "output_type": "stream",
          "name": "stdout",
          "text": [
            "Image.sampleRectangle: Fully masked pixels / pixels outside of the image footprint when sampling band 'B6' with no default value set. Note that calling sampleRectangle() on an image after ee.Image.clip() may result in a sampling bounding box outside the geometry passed to clip().\n"
          ]
        },
        {
          "output_type": "error",
          "ename": "AttributeError",
          "evalue": "ignored",
          "traceback": [
            "\u001b[0;31m---------------------------------------------------------------------------\u001b[0m",
            "\u001b[0;31mAttributeError\u001b[0m                            Traceback (most recent call last)",
            "\u001b[0;32m<ipython-input-19-64cf9258ad4b>\u001b[0m in \u001b[0;36m<module>\u001b[0;34m\u001b[0m\n\u001b[1;32m     14\u001b[0m \u001b[0;34m\u001b[0m\u001b[0m\n\u001b[1;32m     15\u001b[0m \u001b[0mrgb_img\u001b[0m \u001b[0;34m=\u001b[0m \u001b[0mgeemap\u001b[0m\u001b[0;34m.\u001b[0m\u001b[0mee_to_numpy\u001b[0m\u001b[0;34m(\u001b[0m\u001b[0mimg\u001b[0m\u001b[0;34m,\u001b[0m \u001b[0mregion\u001b[0m\u001b[0;34m=\u001b[0m\u001b[0maoi\u001b[0m\u001b[0;34m)\u001b[0m\u001b[0;34m\u001b[0m\u001b[0;34m\u001b[0m\u001b[0m\n\u001b[0;32m---> 16\u001b[0;31m \u001b[0mprint\u001b[0m\u001b[0;34m(\u001b[0m\u001b[0mrgb_img\u001b[0m\u001b[0;34m.\u001b[0m\u001b[0mshape\u001b[0m\u001b[0;34m)\u001b[0m\u001b[0;34m\u001b[0m\u001b[0;34m\u001b[0m\u001b[0m\n\u001b[0m",
            "\u001b[0;31mAttributeError\u001b[0m: 'NoneType' object has no attribute 'shape'"
          ]
        }
      ],
      "source": [
        "import ee\n",
        "import geemap\n",
        "import numpy as np\n",
        "import matplotlib.pyplot as plt\n",
        "\n",
        "img = ee.Image('LANDSAT/LC08/C01/T1_SR/LC08_038029_20180810').select(['B4', 'B5', 'B6'])\n",
        "\n",
        "aoi = ee.Geometry.Polygon(\n",
        "    [[  [102.81030610944818,2.5260462435775226],\n",
        "        [102.81030610944818,2.5274181994267853],\n",
        "        [102.8078599348266,2.5274181994267853],\n",
        "        [102.8078599348266,2.5260462435775226]]], None, False\n",
        ")\n",
        "\n",
        "rgb_img = geemap.ee_to_numpy(img, region=aoi)\n",
        "print(rgb_img.shape)"
      ]
    },
    {
      "cell_type": "code",
      "execution_count": null,
      "metadata": {
        "id": "Lbx4U-sbLiER"
      },
      "outputs": [],
      "source": [
        "# Scale the data to [0, 255] to show as an RGB image.\n",
        "# Adapted from https://bit.ly/2XlmQY8. Credits to Justin Braaten\n",
        "rgb_img_test = (255 * ((rgb_img[:, :, 0:3] - 100) / 3500)).astype('uint8')\n",
        "plt.imshow(rgb_img_test)\n",
        "plt.show()"
      ]
    }
  ],
  "metadata": {
    "hide_input": false,
    "kernelspec": {
      "display_name": "Python 3",
      "language": "python",
      "name": "python3"
    },
    "language_info": {
      "codemirror_mode": {
        "name": "ipython",
        "version": 3
      },
      "file_extension": ".py",
      "mimetype": "text/x-python",
      "name": "python",
      "nbconvert_exporter": "python",
      "pygments_lexer": "ipython3",
      "version": "3.8.5"
    },
    "toc": {
      "base_numbering": 1,
      "nav_menu": {},
      "number_sections": true,
      "sideBar": true,
      "skip_h1_title": true,
      "title_cell": "Table of Contents",
      "title_sidebar": "Table of Contents",
      "toc_cell": false,
      "toc_position": {},
      "toc_section_display": true,
      "toc_window_display": true
    },
    "varInspector": {
      "cols": {
        "lenName": 16,
        "lenType": 16,
        "lenVar": 40
      },
      "kernels_config": {
        "python": {
          "delete_cmd_postfix": "",
          "delete_cmd_prefix": "del ",
          "library": "var_list.py",
          "varRefreshCmd": "print(var_dic_list())"
        },
        "r": {
          "delete_cmd_postfix": ") ",
          "delete_cmd_prefix": "rm(",
          "library": "var_list.r",
          "varRefreshCmd": "cat(var_dic_list()) "
        }
      },
      "types_to_exclude": [
        "module",
        "function",
        "builtin_function_or_method",
        "instance",
        "_Feature"
      ],
      "window_display": false
    },
    "colab": {
      "provenance": [],
      "include_colab_link": true
    },
    "widgets": {
      "application/vnd.jupyter.widget-state+json": {
        "ddf9960791ba4238baa81638b16901a3": {
          "model_module": "jupyter-leaflet",
          "model_name": "LeafletMapModel",
          "model_module_version": "^0.17",
          "state": {
            "_dom_classes": [],
            "_model_module": "jupyter-leaflet",
            "_model_module_version": "^0.17",
            "_model_name": "LeafletMapModel",
            "_view_count": null,
            "_view_module": "jupyter-leaflet",
            "_view_module_version": "^0.17",
            "_view_name": "LeafletMapView",
            "bottom": 500,
            "bounce_at_zoom_limits": true,
            "box_zoom": true,
            "center": [
              36.63316209558658,
              208.47656250000003
            ],
            "close_popup_on_click": true,
            "controls": [
              "IPY_MODEL_e02273567dfa478397a10a63fc37e6ce",
              "IPY_MODEL_2194b6e0d3724e57b73aba56d70ca505",
              "IPY_MODEL_3bfc614198974b9393d7898c641383fe",
              "IPY_MODEL_80727eebd5c34313a6bd203c456012bf",
              "IPY_MODEL_bf9e485b9ff44b0eaeff4f1af5856a5e",
              "IPY_MODEL_a05e97a04fef40bca74bd1c55d9751f8",
              "IPY_MODEL_aaad2694f962498591a44e6491d38604",
              "IPY_MODEL_c8657caeed624611930cac7198ad6c08"
            ],
            "crs": {
              "name": "EPSG3857",
              "custom": false
            },
            "default_style": "IPY_MODEL_363649fff838402a9d19a95aceeddb20",
            "double_click_zoom": true,
            "dragging": true,
            "dragging_style": "IPY_MODEL_f450c84f4cca4d2daf6feb38fcb3405d",
            "east": 825.4687500000001,
            "fullscreen": false,
            "inertia": true,
            "inertia_deceleration": 3000,
            "inertia_max_speed": 1500,
            "interpolation": "bilinear",
            "keyboard": true,
            "keyboard_pan_offset": 80,
            "keyboard_zoom_offset": 1,
            "layers": [
              "IPY_MODEL_7c99a1deec024de69713553e4d8b8763",
              "IPY_MODEL_a0c4755509704296a6ae79a024ca8fca",
              "IPY_MODEL_a21cbeb461bf41698969cc0a63ff85d6"
            ],
            "layout": "IPY_MODEL_cb9f685982c145e38c8904f22559001d",
            "left": -324,
            "max_zoom": 24,
            "min_zoom": null,
            "modisdate": "2022-10-16",
            "north": 88.54857855448348,
            "options": [
              "bounce_at_zoom_limits",
              "box_zoom",
              "center",
              "close_popup_on_click",
              "double_click_zoom",
              "dragging",
              "fullscreen",
              "inertia",
              "inertia_deceleration",
              "inertia_max_speed",
              "interpolation",
              "keyboard",
              "keyboard_pan_offset",
              "keyboard_zoom_offset",
              "max_zoom",
              "min_zoom",
              "prefer_canvas",
              "scroll_wheel_zoom",
              "tap",
              "tap_tolerance",
              "touch_zoom",
              "world_copy_jump",
              "zoom",
              "zoom_animation_threshold",
              "zoom_delta",
              "zoom_snap"
            ],
            "panes": {},
            "prefer_canvas": false,
            "right": 1430,
            "scroll_wheel_zoom": true,
            "south": -84.26717240431665,
            "style": "IPY_MODEL_363649fff838402a9d19a95aceeddb20",
            "tap": true,
            "tap_tolerance": 15,
            "top": -100,
            "touch_zoom": true,
            "west": -407.81250000000006,
            "window_url": "https://9x7k5ka928a-496ff2e9c6d22116-0-colab.googleusercontent.com/outputframe.html?vrz=colab-20221013-060049-RC00_480849705",
            "world_copy_jump": false,
            "zoom": 1,
            "zoom_animation_threshold": 4,
            "zoom_delta": 1,
            "zoom_snap": 1
          }
        },
        "e02273567dfa478397a10a63fc37e6ce": {
          "model_module": "jupyter-leaflet",
          "model_name": "LeafletWidgetControlModel",
          "model_module_version": "^0.17",
          "state": {
            "_model_module": "jupyter-leaflet",
            "_model_module_version": "^0.17",
            "_model_name": "LeafletWidgetControlModel",
            "_view_count": null,
            "_view_module": "jupyter-leaflet",
            "_view_module_version": "^0.17",
            "_view_name": "LeafletWidgetControlView",
            "max_height": null,
            "max_width": null,
            "min_height": null,
            "min_width": null,
            "options": [
              "position",
              "transparent_bg"
            ],
            "position": "topleft",
            "transparent_bg": false,
            "widget": "IPY_MODEL_7d2436896ad94a4fab4705dbe23bc2f3"
          }
        },
        "2194b6e0d3724e57b73aba56d70ca505": {
          "model_module": "jupyter-leaflet",
          "model_name": "LeafletZoomControlModel",
          "model_module_version": "^0.17",
          "state": {
            "_model_module": "jupyter-leaflet",
            "_model_module_version": "^0.17",
            "_model_name": "LeafletZoomControlModel",
            "_view_count": null,
            "_view_module": "jupyter-leaflet",
            "_view_module_version": "^0.17",
            "_view_name": "LeafletZoomControlView",
            "options": [
              "position",
              "zoom_in_text",
              "zoom_in_title",
              "zoom_out_text",
              "zoom_out_title"
            ],
            "position": "topleft",
            "zoom_in_text": "+",
            "zoom_in_title": "Zoom in",
            "zoom_out_text": "-",
            "zoom_out_title": "Zoom out"
          }
        },
        "3bfc614198974b9393d7898c641383fe": {
          "model_module": "jupyter-leaflet",
          "model_name": "LeafletScaleControlModel",
          "model_module_version": "^0.17",
          "state": {
            "_model_module": "jupyter-leaflet",
            "_model_module_version": "^0.17",
            "_model_name": "LeafletScaleControlModel",
            "_view_count": null,
            "_view_module": "jupyter-leaflet",
            "_view_module_version": "^0.17",
            "_view_name": "LeafletScaleControlView",
            "imperial": true,
            "max_width": 100,
            "metric": true,
            "options": [
              "imperial",
              "max_width",
              "metric",
              "position",
              "update_when_idle"
            ],
            "position": "bottomleft",
            "update_when_idle": false
          }
        },
        "80727eebd5c34313a6bd203c456012bf": {
          "model_module": "jupyter-leaflet",
          "model_name": "LeafletFullScreenControlModel",
          "model_module_version": "^0.17",
          "state": {
            "_model_module": "jupyter-leaflet",
            "_model_module_version": "^0.17",
            "_model_name": "LeafletFullScreenControlModel",
            "_view_count": null,
            "_view_module": "jupyter-leaflet",
            "_view_module_version": "^0.17",
            "_view_name": "LeafletFullScreenControlView",
            "options": [
              "position"
            ],
            "position": "topleft"
          }
        },
        "bf9e485b9ff44b0eaeff4f1af5856a5e": {
          "model_module": "jupyter-leaflet",
          "model_name": "LeafletMeasureControlModel",
          "model_module_version": "^0.17",
          "state": {
            "_custom_units": {},
            "_model_module": "jupyter-leaflet",
            "_model_module_version": "^0.17",
            "_model_name": "LeafletMeasureControlModel",
            "_view_count": null,
            "_view_module": "jupyter-leaflet",
            "_view_module_version": "^0.17",
            "_view_name": "LeafletMeasureControlView",
            "active_color": "orange",
            "capture_z_index": 10000,
            "completed_color": "#C8F2BE",
            "options": [
              "active_color",
              "capture_z_index",
              "completed_color",
              "popup_options",
              "position",
              "primary_area_unit",
              "primary_length_unit",
              "secondary_area_unit",
              "secondary_length_unit"
            ],
            "popup_options": {
              "className": "leaflet-measure-resultpopup",
              "autoPanPadding": [
                10,
                10
              ]
            },
            "position": "bottomleft",
            "primary_area_unit": "acres",
            "primary_length_unit": "kilometers",
            "secondary_area_unit": null,
            "secondary_length_unit": null
          }
        },
        "a05e97a04fef40bca74bd1c55d9751f8": {
          "model_module": "jupyter-leaflet",
          "model_name": "LeafletAttributionControlModel",
          "model_module_version": "^0.17",
          "state": {
            "_model_module": "jupyter-leaflet",
            "_model_module_version": "^0.17",
            "_model_name": "LeafletAttributionControlModel",
            "_view_count": null,
            "_view_module": "jupyter-leaflet",
            "_view_module_version": "^0.17",
            "_view_name": "LeafletAttributionControlView",
            "options": [
              "position",
              "prefix"
            ],
            "position": "bottomright",
            "prefix": "ipyleaflet"
          }
        },
        "aaad2694f962498591a44e6491d38604": {
          "model_module": "jupyter-leaflet",
          "model_name": "LeafletDrawControlModel",
          "model_module_version": "^0.17",
          "state": {
            "_model_module": "jupyter-leaflet",
            "_model_module_version": "^0.17",
            "_model_name": "LeafletDrawControlModel",
            "_view_count": null,
            "_view_module": "jupyter-leaflet",
            "_view_module_version": "^0.17",
            "_view_name": "LeafletDrawControlView",
            "circle": {
              "shapeOptions": {
                "color": "#3388ff"
              }
            },
            "circlemarker": {},
            "data": [],
            "edit": true,
            "marker": {
              "shapeOptions": {
                "color": "#3388ff"
              }
            },
            "options": [
              "position"
            ],
            "polygon": {
              "shapeOptions": {}
            },
            "polyline": {
              "shapeOptions": {}
            },
            "position": "topleft",
            "rectangle": {
              "shapeOptions": {
                "color": "#3388ff"
              }
            },
            "remove": true
          }
        },
        "c8657caeed624611930cac7198ad6c08": {
          "model_module": "jupyter-leaflet",
          "model_name": "LeafletWidgetControlModel",
          "model_module_version": "^0.17",
          "state": {
            "_model_module": "jupyter-leaflet",
            "_model_module_version": "^0.17",
            "_model_name": "LeafletWidgetControlModel",
            "_view_count": null,
            "_view_module": "jupyter-leaflet",
            "_view_module_version": "^0.17",
            "_view_name": "LeafletWidgetControlView",
            "max_height": null,
            "max_width": null,
            "min_height": null,
            "min_width": null,
            "options": [
              "position",
              "transparent_bg"
            ],
            "position": "topright",
            "transparent_bg": false,
            "widget": "IPY_MODEL_dcfc0b8b5c8643d1afc467da659cc2a7"
          }
        },
        "363649fff838402a9d19a95aceeddb20": {
          "model_module": "jupyter-leaflet",
          "model_name": "LeafletMapStyleModel",
          "model_module_version": "^0.17",
          "state": {
            "_model_module": "jupyter-leaflet",
            "_model_module_version": "^0.17",
            "_model_name": "LeafletMapStyleModel",
            "_view_count": null,
            "_view_module": "@jupyter-widgets/base",
            "_view_module_version": "1.2.0",
            "_view_name": "StyleView",
            "cursor": "grab"
          }
        },
        "f450c84f4cca4d2daf6feb38fcb3405d": {
          "model_module": "jupyter-leaflet",
          "model_name": "LeafletMapStyleModel",
          "model_module_version": "^0.17",
          "state": {
            "_model_module": "jupyter-leaflet",
            "_model_module_version": "^0.17",
            "_model_name": "LeafletMapStyleModel",
            "_view_count": null,
            "_view_module": "@jupyter-widgets/base",
            "_view_module_version": "1.2.0",
            "_view_name": "StyleView",
            "cursor": "move"
          }
        },
        "7c99a1deec024de69713553e4d8b8763": {
          "model_module": "jupyter-leaflet",
          "model_name": "LeafletTileLayerModel",
          "model_module_version": "^0.17",
          "state": {
            "_model_module": "jupyter-leaflet",
            "_model_module_version": "^0.17",
            "_model_name": "LeafletTileLayerModel",
            "_view_count": null,
            "_view_module": "jupyter-leaflet",
            "_view_module_version": "^0.17",
            "_view_name": "LeafletTileLayerView",
            "attribution": "&copy; <a href=\"https://www.openstreetmap.org/copyright\">OpenStreetMap</a> contributors",
            "base": true,
            "bottom": true,
            "bounds": null,
            "detect_retina": false,
            "loading": false,
            "max_native_zoom": null,
            "max_zoom": 19,
            "min_native_zoom": null,
            "min_zoom": 1,
            "name": "OpenStreetMap.Mapnik",
            "no_wrap": false,
            "opacity": 1,
            "options": [
              "attribution",
              "bounds",
              "detect_retina",
              "max_native_zoom",
              "max_zoom",
              "min_native_zoom",
              "min_zoom",
              "no_wrap",
              "tile_size",
              "tms",
              "zoom_offset"
            ],
            "pane": "",
            "popup": null,
            "popup_max_height": null,
            "popup_max_width": 300,
            "popup_min_width": 50,
            "show_loading": false,
            "tile_size": 256,
            "tms": false,
            "url": "https://tile.openstreetmap.org/{z}/{x}/{y}.png",
            "visible": true,
            "zoom_offset": 0
          }
        },
        "a0c4755509704296a6ae79a024ca8fca": {
          "model_module": "jupyter-leaflet",
          "model_name": "LeafletTileLayerModel",
          "model_module_version": "^0.17",
          "state": {
            "_model_module": "jupyter-leaflet",
            "_model_module_version": "^0.17",
            "_model_name": "LeafletTileLayerModel",
            "_view_count": null,
            "_view_module": "jupyter-leaflet",
            "_view_module_version": "^0.17",
            "_view_name": "LeafletTileLayerView",
            "attribution": "Google",
            "base": false,
            "bottom": true,
            "bounds": null,
            "detect_retina": false,
            "loading": false,
            "max_native_zoom": null,
            "max_zoom": 22,
            "min_native_zoom": null,
            "min_zoom": 0,
            "name": "Google Maps",
            "no_wrap": false,
            "opacity": 1,
            "options": [
              "attribution",
              "bounds",
              "detect_retina",
              "max_native_zoom",
              "max_zoom",
              "min_native_zoom",
              "min_zoom",
              "no_wrap",
              "tile_size",
              "tms",
              "zoom_offset"
            ],
            "pane": "",
            "popup": null,
            "popup_max_height": null,
            "popup_max_width": 300,
            "popup_min_width": 50,
            "show_loading": false,
            "tile_size": 256,
            "tms": false,
            "url": "https://mt1.google.com/vt/lyrs=m&x={x}&y={y}&z={z}",
            "visible": true,
            "zoom_offset": 0
          }
        },
        "cb9f685982c145e38c8904f22559001d": {
          "model_module": "@jupyter-widgets/base",
          "model_name": "LayoutModel",
          "model_module_version": "1.2.0",
          "state": {
            "_model_module": "@jupyter-widgets/base",
            "_model_module_version": "1.2.0",
            "_model_name": "LayoutModel",
            "_view_count": null,
            "_view_module": "@jupyter-widgets/base",
            "_view_module_version": "1.2.0",
            "_view_name": "LayoutView",
            "align_content": null,
            "align_items": null,
            "align_self": null,
            "border": null,
            "bottom": null,
            "display": null,
            "flex": null,
            "flex_flow": null,
            "grid_area": null,
            "grid_auto_columns": null,
            "grid_auto_flow": null,
            "grid_auto_rows": null,
            "grid_column": null,
            "grid_gap": null,
            "grid_row": null,
            "grid_template_areas": null,
            "grid_template_columns": null,
            "grid_template_rows": null,
            "height": "600px",
            "justify_content": null,
            "justify_items": null,
            "left": null,
            "margin": null,
            "max_height": null,
            "max_width": null,
            "min_height": null,
            "min_width": null,
            "object_fit": null,
            "object_position": null,
            "order": null,
            "overflow": null,
            "overflow_x": null,
            "overflow_y": null,
            "padding": null,
            "right": null,
            "top": null,
            "visibility": null,
            "width": null
          }
        },
        "70bf81842c5a407891cea2d46f57af52": {
          "model_module": "jupyter-leaflet",
          "model_name": "LeafletMapStyleModel",
          "model_module_version": "^0.17",
          "state": {
            "_model_module": "jupyter-leaflet",
            "_model_module_version": "^0.17",
            "_model_name": "LeafletMapStyleModel",
            "_view_count": null,
            "_view_module": "@jupyter-widgets/base",
            "_view_module_version": "1.2.0",
            "_view_name": "StyleView",
            "cursor": "grab"
          }
        },
        "7d2436896ad94a4fab4705dbe23bc2f3": {
          "model_module": "@jupyter-widgets/controls",
          "model_name": "HBoxModel",
          "model_module_version": "1.5.0",
          "state": {
            "_dom_classes": [],
            "_model_module": "@jupyter-widgets/controls",
            "_model_module_version": "1.5.0",
            "_model_name": "HBoxModel",
            "_view_count": null,
            "_view_module": "@jupyter-widgets/controls",
            "_view_module_version": "1.5.0",
            "_view_name": "HBoxView",
            "box_style": "",
            "children": [
              "IPY_MODEL_5b1337fffa1240ca8f6a1f0057fb1a47"
            ],
            "layout": "IPY_MODEL_874bec9808e04ae1b5b8d7c9a4abbc84"
          }
        },
        "dcfc0b8b5c8643d1afc467da659cc2a7": {
          "model_module": "@jupyter-widgets/controls",
          "model_name": "VBoxModel",
          "model_module_version": "1.5.0",
          "state": {
            "_dom_classes": [],
            "_model_module": "@jupyter-widgets/controls",
            "_model_module_version": "1.5.0",
            "_model_name": "VBoxModel",
            "_view_count": null,
            "_view_module": "@jupyter-widgets/controls",
            "_view_module_version": "1.5.0",
            "_view_name": "VBoxView",
            "box_style": "",
            "children": [
              "IPY_MODEL_cac5eb57a4834f32b016a41c83bb0cc6"
            ],
            "layout": "IPY_MODEL_4463ecc9fc934449becfeb50c9773017"
          }
        },
        "5b1337fffa1240ca8f6a1f0057fb1a47": {
          "model_module": "@jupyter-widgets/controls",
          "model_name": "ToggleButtonModel",
          "model_module_version": "1.5.0",
          "state": {
            "_dom_classes": [],
            "_model_module": "@jupyter-widgets/controls",
            "_model_module_version": "1.5.0",
            "_model_name": "ToggleButtonModel",
            "_view_count": null,
            "_view_module": "@jupyter-widgets/controls",
            "_view_module_version": "1.5.0",
            "_view_name": "ToggleButtonView",
            "button_style": "",
            "description": "",
            "description_tooltip": null,
            "disabled": false,
            "icon": "globe",
            "layout": "IPY_MODEL_3e222205ff61482bba8d21bf77239c77",
            "style": "IPY_MODEL_e4fd56a1ebaf47fa9a57a5628ddc612d",
            "tooltip": "Search location/data",
            "value": false
          }
        },
        "874bec9808e04ae1b5b8d7c9a4abbc84": {
          "model_module": "@jupyter-widgets/base",
          "model_name": "LayoutModel",
          "model_module_version": "1.2.0",
          "state": {
            "_model_module": "@jupyter-widgets/base",
            "_model_module_version": "1.2.0",
            "_model_name": "LayoutModel",
            "_view_count": null,
            "_view_module": "@jupyter-widgets/base",
            "_view_module_version": "1.2.0",
            "_view_name": "LayoutView",
            "align_content": null,
            "align_items": null,
            "align_self": null,
            "border": null,
            "bottom": null,
            "display": null,
            "flex": null,
            "flex_flow": null,
            "grid_area": null,
            "grid_auto_columns": null,
            "grid_auto_flow": null,
            "grid_auto_rows": null,
            "grid_column": null,
            "grid_gap": null,
            "grid_row": null,
            "grid_template_areas": null,
            "grid_template_columns": null,
            "grid_template_rows": null,
            "height": null,
            "justify_content": null,
            "justify_items": null,
            "left": null,
            "margin": null,
            "max_height": null,
            "max_width": null,
            "min_height": null,
            "min_width": null,
            "object_fit": null,
            "object_position": null,
            "order": null,
            "overflow": null,
            "overflow_x": null,
            "overflow_y": null,
            "padding": null,
            "right": null,
            "top": null,
            "visibility": null,
            "width": null
          }
        },
        "cac5eb57a4834f32b016a41c83bb0cc6": {
          "model_module": "@jupyter-widgets/controls",
          "model_name": "ToggleButtonModel",
          "model_module_version": "1.5.0",
          "state": {
            "_dom_classes": [],
            "_model_module": "@jupyter-widgets/controls",
            "_model_module_version": "1.5.0",
            "_model_name": "ToggleButtonModel",
            "_view_count": null,
            "_view_module": "@jupyter-widgets/controls",
            "_view_module_version": "1.5.0",
            "_view_name": "ToggleButtonView",
            "button_style": "",
            "description": "",
            "description_tooltip": null,
            "disabled": false,
            "icon": "wrench",
            "layout": "IPY_MODEL_d80649d3fea8450b9a1982dab164380c",
            "style": "IPY_MODEL_24d8a34df71e49b9a83d0a6b720a7529",
            "tooltip": "Toolbar",
            "value": false
          }
        },
        "4463ecc9fc934449becfeb50c9773017": {
          "model_module": "@jupyter-widgets/base",
          "model_name": "LayoutModel",
          "model_module_version": "1.2.0",
          "state": {
            "_model_module": "@jupyter-widgets/base",
            "_model_module_version": "1.2.0",
            "_model_name": "LayoutModel",
            "_view_count": null,
            "_view_module": "@jupyter-widgets/base",
            "_view_module_version": "1.2.0",
            "_view_name": "LayoutView",
            "align_content": null,
            "align_items": null,
            "align_self": null,
            "border": null,
            "bottom": null,
            "display": null,
            "flex": null,
            "flex_flow": null,
            "grid_area": null,
            "grid_auto_columns": null,
            "grid_auto_flow": null,
            "grid_auto_rows": null,
            "grid_column": null,
            "grid_gap": null,
            "grid_row": null,
            "grid_template_areas": null,
            "grid_template_columns": null,
            "grid_template_rows": null,
            "height": null,
            "justify_content": null,
            "justify_items": null,
            "left": null,
            "margin": null,
            "max_height": null,
            "max_width": null,
            "min_height": null,
            "min_width": null,
            "object_fit": null,
            "object_position": null,
            "order": null,
            "overflow": null,
            "overflow_x": null,
            "overflow_y": null,
            "padding": null,
            "right": null,
            "top": null,
            "visibility": null,
            "width": null
          }
        },
        "3e222205ff61482bba8d21bf77239c77": {
          "model_module": "@jupyter-widgets/base",
          "model_name": "LayoutModel",
          "model_module_version": "1.2.0",
          "state": {
            "_model_module": "@jupyter-widgets/base",
            "_model_module_version": "1.2.0",
            "_model_name": "LayoutModel",
            "_view_count": null,
            "_view_module": "@jupyter-widgets/base",
            "_view_module_version": "1.2.0",
            "_view_name": "LayoutView",
            "align_content": null,
            "align_items": null,
            "align_self": null,
            "border": null,
            "bottom": null,
            "display": null,
            "flex": null,
            "flex_flow": null,
            "grid_area": null,
            "grid_auto_columns": null,
            "grid_auto_flow": null,
            "grid_auto_rows": null,
            "grid_column": null,
            "grid_gap": null,
            "grid_row": null,
            "grid_template_areas": null,
            "grid_template_columns": null,
            "grid_template_rows": null,
            "height": "28px",
            "justify_content": null,
            "justify_items": null,
            "left": null,
            "margin": null,
            "max_height": null,
            "max_width": null,
            "min_height": null,
            "min_width": null,
            "object_fit": null,
            "object_position": null,
            "order": null,
            "overflow": null,
            "overflow_x": null,
            "overflow_y": null,
            "padding": "0px 0px 0px 4px",
            "right": null,
            "top": null,
            "visibility": null,
            "width": "28px"
          }
        },
        "e4fd56a1ebaf47fa9a57a5628ddc612d": {
          "model_module": "@jupyter-widgets/controls",
          "model_name": "DescriptionStyleModel",
          "model_module_version": "1.5.0",
          "state": {
            "_model_module": "@jupyter-widgets/controls",
            "_model_module_version": "1.5.0",
            "_model_name": "DescriptionStyleModel",
            "_view_count": null,
            "_view_module": "@jupyter-widgets/base",
            "_view_module_version": "1.2.0",
            "_view_name": "StyleView",
            "description_width": ""
          }
        },
        "d80649d3fea8450b9a1982dab164380c": {
          "model_module": "@jupyter-widgets/base",
          "model_name": "LayoutModel",
          "model_module_version": "1.2.0",
          "state": {
            "_model_module": "@jupyter-widgets/base",
            "_model_module_version": "1.2.0",
            "_model_name": "LayoutModel",
            "_view_count": null,
            "_view_module": "@jupyter-widgets/base",
            "_view_module_version": "1.2.0",
            "_view_name": "LayoutView",
            "align_content": null,
            "align_items": null,
            "align_self": null,
            "border": null,
            "bottom": null,
            "display": null,
            "flex": null,
            "flex_flow": null,
            "grid_area": null,
            "grid_auto_columns": null,
            "grid_auto_flow": null,
            "grid_auto_rows": null,
            "grid_column": null,
            "grid_gap": null,
            "grid_row": null,
            "grid_template_areas": null,
            "grid_template_columns": null,
            "grid_template_rows": null,
            "height": "28px",
            "justify_content": null,
            "justify_items": null,
            "left": null,
            "margin": null,
            "max_height": null,
            "max_width": null,
            "min_height": null,
            "min_width": null,
            "object_fit": null,
            "object_position": null,
            "order": null,
            "overflow": null,
            "overflow_x": null,
            "overflow_y": null,
            "padding": "0px 0px 0px 4px",
            "right": null,
            "top": null,
            "visibility": null,
            "width": "28px"
          }
        },
        "24d8a34df71e49b9a83d0a6b720a7529": {
          "model_module": "@jupyter-widgets/controls",
          "model_name": "DescriptionStyleModel",
          "model_module_version": "1.5.0",
          "state": {
            "_model_module": "@jupyter-widgets/controls",
            "_model_module_version": "1.5.0",
            "_model_name": "DescriptionStyleModel",
            "_view_count": null,
            "_view_module": "@jupyter-widgets/base",
            "_view_module_version": "1.2.0",
            "_view_name": "StyleView",
            "description_width": ""
          }
        },
        "a21cbeb461bf41698969cc0a63ff85d6": {
          "model_module": "jupyter-leaflet",
          "model_name": "LeafletTileLayerModel",
          "model_module_version": "^0.17",
          "state": {
            "_model_module": "jupyter-leaflet",
            "_model_module_version": "^0.17",
            "_model_name": "LeafletTileLayerModel",
            "_view_count": null,
            "_view_module": "jupyter-leaflet",
            "_view_module_version": "^0.17",
            "_view_name": "LeafletTileLayerView",
            "attribution": "Google Earth Engine",
            "base": false,
            "bottom": true,
            "bounds": null,
            "detect_retina": false,
            "loading": false,
            "max_native_zoom": null,
            "max_zoom": 24,
            "min_native_zoom": null,
            "min_zoom": 0,
            "name": "LE7_TOA_5YEAR/1999_2003",
            "no_wrap": false,
            "opacity": 0.7,
            "options": [
              "attribution",
              "bounds",
              "detect_retina",
              "max_native_zoom",
              "max_zoom",
              "min_native_zoom",
              "min_zoom",
              "no_wrap",
              "tile_size",
              "tms",
              "zoom_offset"
            ],
            "pane": "",
            "popup": null,
            "popup_max_height": null,
            "popup_max_width": 300,
            "popup_min_width": 50,
            "show_loading": false,
            "tile_size": 256,
            "tms": false,
            "url": "https://earthengine.googleapis.com/v1alpha/projects/earthengine-legacy/maps/e81e4c08187ada349ad1864024f5d261-4597a3b5666a727f718ab962811dd7a8/tiles/{z}/{x}/{y}",
            "visible": true,
            "zoom_offset": 0
          }
        }
      }
    }
  },
  "nbformat": 4,
  "nbformat_minor": 0
}